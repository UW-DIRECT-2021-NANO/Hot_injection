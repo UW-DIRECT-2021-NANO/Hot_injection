{
 "cells": [
  {
   "cell_type": "code",
   "execution_count": 16,
   "metadata": {},
   "outputs": [],
   "source": [
    "import numpy as np \n",
    "import pandas as pd\n",
    "import os\n",
    "import joblib\n",
    "import sklearn \n",
    "\n",
    "from sklearn.model_selection import train_test_split\n",
    "\n",
    "#Regressions:\n",
    "\n",
    "from sklearn.multioutput import MultiOutputRegressor\n",
    "\n",
    "from sklearn.neighbors import KNeighborsRegressor\n",
    "from sklearn.linear_model import Ridge\n",
    "from sklearn.linear_model import Lasso\n",
    "from sklearn.linear_model import ElasticNet\n",
    "from sklearn.linear_model import LinearRegression\n",
    "from sklearn.linear_model import RidgeCV\n",
    "from sklearn.ensemble import ExtraTreesRegressor\n",
    "from sklearn.ensemble import GradientBoostingRegressor\n",
    "from sklearn.ensemble import RandomForestRegressor\n",
    "from sklearn.ensemble import AdaBoostRegressor\n",
    "from sklearn.tree import DecisionTreeRegressor\n",
    "\n",
    "#Metric\n",
    "from sklearn.metrics import mean_squared_error\n",
    "from sklearn.metrics import r2_score\n",
    "\n",
    "\n",
    "from pandas import DataFrame\n",
    "\n",
    "\n",
    "# Show progress bar\n",
    "from tqdm import tqdm"
   ]
  },
  {
   "cell_type": "code",
   "execution_count": 9,
   "metadata": {},
   "outputs": [],
   "source": [
    "df = pd.read_csv('testing notebooks/data/augmented_data.csv')"
   ]
  },
  {
   "cell_type": "code",
   "execution_count": 10,
   "metadata": {},
   "outputs": [],
   "source": [
    "input_col = ['Growth Temp (Celsius)', 'Metal_mmol (mmol)', 'Chalcogen_mmol (mmol)',\n",
    "             'Amines_mmol (mmol)', 'CA_mmol (mmol)', 'Phosphines_mmol (mmol)', \n",
    "             'S_I_amount (g)', 'S_II_amount (g)', 'Time_min (min)', \n",
    "             'x0_cadmium acetate', 'x0_cadmium acetate dihydrate', \n",
    "             'x0_cadmium oxide', 'x0_cadmium stearate', 'x0_dimethylcadmium', \n",
    "             'x1_None', 'x1_benzoic acid', 'x1_dodecylphosphonic acid', \n",
    "             'x1_ethylphosphonic acid', 'x1_lauric acid', \n",
    "             'x1_myrstic acid', 'x1_oleic acid', 'x1_stearic acid',\n",
    "             'x2_2-6-dimethylpyridine', 'x2_None', 'x2_aniline', \n",
    "             'x2_benzylamine', 'x2_dioctylamine/hexadecylamine',\n",
    "             'x2_dodecylamine', 'x2_heptylamine', 'x2_hexadecylamine', \n",
    "             'x2_octadecylamine', 'x2_octylamine', 'x2_oleylamine', \n",
    "             'x2_pyridine', 'x2_trioctylamine', 'x3_None', 'x3_diphenylphosphine', \n",
    "             'x3_tributylphosphine', 'x3_trioctylphosphine', \n",
    "             'x3_triphenylphosphine', 'x4_None', 'x4_liquid parafin', \n",
    "             'x4_octadecene', 'x4_phenyl ether', 'x4_trioctylphosphine oxide', \n",
    "             'x5_None', 'x5_phosphinic acid', 'x5_trioctylphosphine oxide'\n",
    "            ]\n",
    "\n",
    "output_col = ['Diameter_nm','Absorbance max (nm)', 'PL max (nm)']\n",
    "\n",
    "X = df[input_col]\n",
    "\n",
    "y = df[output_col]\n",
    "\n",
    "\n",
    "X_train, X_test, y_train, y_test = train_test_split(X, y, test_size=0.2, random_state=45, shuffle=True)"
   ]
  },
  {
   "cell_type": "markdown",
   "metadata": {},
   "source": [
    "# Preliminary evaluatiopn of some regressions"
   ]
  },
  {
   "cell_type": "markdown",
   "metadata": {},
   "source": [
    "Note: The MSE or r2 of the multiouput regression outcomes are the average of all MSE or r2 outputs. "
   ]
  },
  {
   "cell_type": "code",
   "execution_count": 14,
   "metadata": {},
   "outputs": [
    {
     "name": "stdout",
     "output_type": "stream",
     "text": [
      "Extra trees \n",
      "\n",
      " R^2 for diameter is  0.6574989759034051 \n",
      " R^2 for Absorbance is  0.9084914764635887 \n",
      " R^2 for PL is  0.7127956509704536 \n",
      " \n",
      "\n",
      "K-nn \n",
      "\n",
      " R^2 for diameter is  0.4339480735015191 \n",
      " R^2 for Absorbance is  0.5219067936995085 \n",
      " R^2 for PL is  0.3585934604810823 \n",
      " \n",
      "\n",
      "Linear regression \n",
      "\n",
      " R^2 for diameter is  0.138806072261894 \n",
      " R^2 for Absorbance is  0.23583055000921482 \n",
      " R^2 for PL is  -0.3110746561026876 \n",
      " \n",
      "\n",
      "Ridge \n",
      "\n",
      " R^2 for diameter is  0.309922550724838 \n",
      " R^2 for Absorbance is  0.5217494772222664 \n",
      " R^2 for PL is  0.32610425909819574 \n",
      " \n",
      "\n",
      "Lasso \n",
      "\n",
      " R^2 for diameter is  -0.0012262257360822204 \n",
      " R^2 for Absorbance is  0.4673181908902928 \n",
      " R^2 for PL is  0.24697801344016912 \n",
      " \n",
      "\n",
      "ElasticNet \n",
      "\n",
      " R^2 for diameter is  0.0312198570884763 \n",
      " R^2 for Absorbance is  0.39595135476114374 \n",
      " R^2 for PL is  0.16136347077262214 \n",
      " \n",
      "\n",
      "RandomForestRegressor \n",
      "\n",
      " R^2 for diameter is  0.48607560083773804 \n",
      " R^2 for Absorbance is  0.7419770364392917 \n",
      " R^2 for PL is  0.5490578569971812 \n",
      " \n",
      "\n",
      "Decision Tree Regressor \n",
      "\n",
      " R^2 for diameter is  0.493068637634293 \n",
      " R^2 for Absorbance is  0.7579634325108203 \n",
      " R^2 for PL is  0.5937382165111369 \n",
      " \n",
      "\n",
      "MultiO/P GBR \n",
      "\n",
      " R^2 for diameter is  0.2880910051430182 \n",
      " R^2 for Absorbance is  0.41743427941893196 \n",
      " R^2 for PL is  0.34399101571937496 \n",
      " \n",
      "\n",
      "MultiO/P AdaB \n",
      "\n",
      " R^2 for diameter is  0.4233517262818013 \n",
      " R^2 for Absorbance is  0.6978757094756329 \n",
      " R^2 for PL is  0.6272717020006691 \n",
      " \n",
      "\n"
     ]
    }
   ],
   "source": [
    "#This is used to roughly show which regression performs better.\n",
    "# Testing Regressions:\n",
    "\n",
    "REGRESSIONS = {\n",
    "    \"Extra trees\": ExtraTreesRegressor(n_estimators=10,\n",
    "                                       max_features=32,     \n",
    "                                       random_state=44),\n",
    "    \"K-nn\": KNeighborsRegressor(),                          \n",
    "    \"Linear regression\": LinearRegression(),\n",
    "    \"Ridge\": RidgeCV(),\n",
    "    \"Lasso\": Lasso(),\n",
    "    \"ElasticNet\": ElasticNet(random_state=0),\n",
    "    \"RandomForestRegressor\": RandomForestRegressor(max_depth=4, random_state=2),\n",
    "    \"Decision Tree Regressor\":DecisionTreeRegressor(max_depth=5),\n",
    "    \"MultiO/P GBR\" :MultiOutputRegressor(GradientBoostingRegressor(n_estimators=5)),\n",
    "    \"MultiO/P AdaB\" :MultiOutputRegressor(AdaBoostRegressor(n_estimators=5))\n",
    "            }\n",
    "# r2 is used to evaluate the performance of all regressions.\n",
    "\n",
    "r2_list = list()\n",
    "\n",
    "for name, reg in REGRESSIONS.items():     \n",
    "    reg.fit(X_train, y_train)                 \n",
    "    y_pred = pd.DataFrame(reg.predict(X_test))\n",
    "    \n",
    "    print(name, '\\n')\n",
    "    \n",
    "# This loop will show r2 for each outcome\n",
    "    for column in range(0, 3):\n",
    "        r2 = r2_score(y_test.iloc[:, column], y_pred.iloc[:, column])\n",
    "        r2_list.append(r2)\n",
    "    \n",
    "    print(' R^2 for diameter is ', r2_list[0], '\\n',\n",
    "          'R^2 for Absorbance is ', r2_list[1], '\\n',\n",
    "          'R^2 for PL is ', r2_list[2], '\\n', '\\n', \n",
    "         )\n",
    "    del r2_list[:] #reset the list for the next regression"
   ]
  },
  {
   "cell_type": "markdown",
   "metadata": {},
   "source": [
    "From the R2 values above, Extra Trees, Random Forest, Ridge, Decision Tree, and MultiO/P AdaB give the best predictions.\n",
    "\n",
    "Now, we are going to optimize each of the the above regressions by grid searching the parameters"
   ]
  },
  {
   "cell_type": "markdown",
   "metadata": {},
   "source": [
    "# Extra Trees"
   ]
  },
  {
   "cell_type": "code",
   "execution_count": 17,
   "metadata": {},
   "outputs": [
    {
     "name": "stderr",
     "output_type": "stream",
     "text": [
      "100%|██████████| 19/19 [03:37<00:00, 11.46s/it]"
     ]
    },
    {
     "name": "stdout",
     "output_type": "stream",
     "text": [
      "0.8442759697637148 3 8 44\n"
     ]
    },
    {
     "name": "stderr",
     "output_type": "stream",
     "text": [
      "\n"
     ]
    }
   ],
   "source": [
    "max_r2 = 0\n",
    "\n",
    "max_i, max_j, max_k  = 0, 0, 0\n",
    "\n",
    "for i in tqdm(range(1, 20)):\n",
    "    for j in range(1, 10):\n",
    "        for k in range(0, 80, 1):\n",
    "            \n",
    "            ET_reg = ExtraTreesRegressor(n_estimators=i,\n",
    "                                         max_features=j,     \n",
    "                                         random_state=k).fit(X_train, y_train)\n",
    "            \n",
    "            \n",
    "            ET_y_pred = ET_reg.predict(X_test)\n",
    "            \n",
    "            ET_r2 = r2_score(y_test, pd.DataFrame(ET_y_pred))\n",
    "            \n",
    "            if (max_r2 < ET_r2):\n",
    "                max_r2 = ET_r2\n",
    "                max_i = i\n",
    "                max_j = j\n",
    "                max_k = k\n",
    "            \n",
    "print(max_r2, min_i, min_j, min_k)"
   ]
  },
  {
   "cell_type": "markdown",
   "metadata": {},
   "source": [
    "From the results above the parameters are applied to the model"
   ]
  },
  {
   "cell_type": "code",
   "execution_count": 18,
   "metadata": {},
   "outputs": [
    {
     "name": "stdout",
     "output_type": "stream",
     "text": [
      "diameter:  r2: 0.8113666509442224 ; MSE: 0.49611103917257676\n",
      "Abs:  r2: 0.9397746426000377 ; MSE: 363.20520094562653\n",
      "PL:  r2: 0.7816866157468844 ; MSE: 467.1041395883966\n"
     ]
    }
   ],
   "source": [
    "ET_reg = ExtraTreesRegressor(n_estimators=3,\n",
    "                            max_features=8,     \n",
    "                            random_state=44).fit(X_train, y_train)\n",
    "            \n",
    "            \n",
    "ET_y_pred = ET_reg.predict(X_test)\n",
    "\n",
    "outputs = ('diameter: ', 'Abs: ', 'PL: ')\n",
    "\n",
    "for i in range(0, 3):\n",
    "    ET_r2 = r2_score(y_test.iloc[:, i], pd.DataFrame(ET_y_pred).loc[:, i])\n",
    "    ET_MSE = mean_squared_error(y_test.iloc[:, i], pd.DataFrame(ET_y_pred).loc[:, i])\n",
    "    \n",
    "    print(outputs[i], 'r2:', ET_r2, '; MSE:', ET_MSE )\n",
    "    "
   ]
  },
  {
   "cell_type": "markdown",
   "metadata": {},
   "source": [
    "# Random Forest"
   ]
  },
  {
   "cell_type": "code",
   "execution_count": null,
   "metadata": {},
   "outputs": [],
   "source": [
    "max_r2 = 0\n",
    "\n",
    "max_i, max_j, max_k, max_m  = 0, 0, 0, 0\n",
    "\n",
    "for i in tqdm(range(5, 15)):\n",
    "    for j in range(5, 20):\n",
    "        for k in range(10, 20):\n",
    "            for m in range (40, 60):\n",
    "                RF_reg = RandomForestRegressor(max_depth=i, \n",
    "                                                n_estimators=j, \n",
    "                                                max_features=k,\n",
    "                                                random_state=m).fit(X_train, y_train)\n",
    "\n",
    "                RF_y_pred = RF_reg.predict(X_test)\n",
    "\n",
    "                RF_r2 = r2_score(y_test, pd.DataFrame(RF_y_pred))\n",
    "\n",
    "                if (max_r2 < RF_r2):\n",
    "                    max_r2 = RF_r2\n",
    "                    max_i = i\n",
    "                    max_j = j\n",
    "                    max_k = k\n",
    "                    max_m = m\n",
    "            \n",
    "print(max_r2, max_i, max_j, max_k, max_m)"
   ]
  },
  {
   "cell_type": "markdown",
   "metadata": {},
   "source": [
    "From the results above (*take a long time to run*) the parameters are applied to the model"
   ]
  },
  {
   "cell_type": "code",
   "execution_count": 20,
   "metadata": {},
   "outputs": [
    {
     "name": "stdout",
     "output_type": "stream",
     "text": [
      "diameter:  r2: 0.7509832185554824 ; MSE: 0.6549211729115839\n",
      "Abs :  r2: 0.8919379340477296 ; MSE: 651.6973260638301\n",
      "PL:  r2: 0.8144677642148114 ; MSE: 396.9654708017072\n"
     ]
    }
   ],
   "source": [
    "RF_reg = RandomForestRegressor(max_depth=13, \n",
    "                               n_estimators=5, \n",
    "                               max_features=14,\n",
    "                               random_state=57).fit(X_train, y_train)\n",
    "            \n",
    "RF_y_pred = RF_reg.predict(X_test)\n",
    "\n",
    "outputs = ('diameter: ', 'Abs : ', 'PL: ')\n",
    "for i in range(0, 3):\n",
    "    RF_r2 = r2_score(y_test.iloc[:, i], pd.DataFrame(RF_y_pred).loc[:, i])\n",
    "    RF_MSE = mean_squared_error(y_test.iloc[:, i], pd.DataFrame(RF_y_pred).loc[:, i])\n",
    "    print(outputs[i], 'r2:', RF_r2, '; MSE:', RF_MSE )"
   ]
  },
  {
   "cell_type": "markdown",
   "metadata": {},
   "source": [
    "# Lasso"
   ]
  },
  {
   "cell_type": "code",
   "execution_count": 22,
   "metadata": {},
   "outputs": [
    {
     "name": "stderr",
     "output_type": "stream",
     "text": [
      "100%|██████████| 95/95 [01:16<00:00,  1.24it/s]"
     ]
    },
    {
     "name": "stdout",
     "output_type": "stream",
     "text": [
      "0.4248557089497587 0.1 1\n"
     ]
    },
    {
     "name": "stderr",
     "output_type": "stream",
     "text": [
      "\n"
     ]
    }
   ],
   "source": [
    "min_r2 = 0\n",
    "\n",
    "min_i, min_j, min_k, min_m  = 0, 0, 0, 0\n",
    "\n",
    "for i in tqdm(np.arange(0.1, 2.0, 0.02)):\n",
    "    for j in range(1, 100):\n",
    "        L_reg = Lasso(alpha=i, random_state=j).fit(X_train, y_train)\n",
    "        L_y_pred = L_reg.predict(X_test)\n",
    "        L_r2 = r2_score(y_test, pd.DataFrame(L_y_pred))\n",
    "      \n",
    "        if (min_r2 < L_r2):\n",
    "                min_r2 = L_r2\n",
    "                min_i = i\n",
    "                min_j = j\n",
    "\n",
    "            \n",
    "print(min_r2, min_i, min_j)"
   ]
  },
  {
   "cell_type": "markdown",
   "metadata": {},
   "source": [
    "From the results above the parameters are applied to the model"
   ]
  },
  {
   "cell_type": "code",
   "execution_count": 40,
   "metadata": {},
   "outputs": [
    {
     "name": "stdout",
     "output_type": "stream",
     "text": [
      "diameter: r2: 0.2521760419982201 ; MSE: 1.9667981445460596\n",
      "Abs: r2: 0.5747460874430704 ; MSE: 2564.607989578328\n",
      "PL: r2: 0.4476449974079858 ; MSE: 1181.8208449095912\n"
     ]
    }
   ],
   "source": [
    "L_reg = Lasso(alpha=0.1, random_state=1).fit(X_train, y_train)\n",
    "            \n",
    "L_y_pred = L_reg.predict(X_test)\n",
    "\n",
    "outputs = ('diameter:', 'Abs:', 'PL:')\n",
    "for i in range(0, 3):\n",
    "    L_r2 = r2_score(y_test.iloc[:, i], pd.DataFrame(L_y_pred).loc[:, i])\n",
    "    L_MSE = mean_squared_error(y_test.iloc[:, i], pd.DataFrame(L_y_pred).loc[:, i])\n",
    "    print(outputs[i], 'r2:', L_r2, '; MSE:', L_MSE )"
   ]
  },
  {
   "cell_type": "markdown",
   "metadata": {},
   "source": [
    "# Decision Trees"
   ]
  },
  {
   "cell_type": "code",
   "execution_count": null,
   "metadata": {},
   "outputs": [],
   "source": [
    "max_r2 = 0\n",
    "\n",
    "max_i, max_j, max_k, max_m  = 0, 0, 0, 0\n",
    "\n",
    "for i in tqdm(range(5, 15)):\n",
    "    for j in range(5, 15):\n",
    "        for k in range(40, 60):\n",
    "            for m in range (10, 50, 2):\n",
    "                DT_reg = DecisionTreeRegressor(max_depth=i, \n",
    "                                               max_features=j,\n",
    "                                               random_state=k, \n",
    "                                               max_leaf_nodes=m).fit(X_train, y_train)\n",
    "\n",
    "                DT_y_pred = DT_reg.predict(X_test)\n",
    "\n",
    "                DT_r2 = r2_score(y_test, pd.DataFrame(DT_y_pred))\n",
    "\n",
    "                if (max_r2 < DT_r2):\n",
    "                    max_r2 = DT_r2\n",
    "                    max_i = i\n",
    "                    max_j = j\n",
    "                    max_k = k\n",
    "                    max_m = m\n",
    "            \n",
    "print(max_r2, max_i, max_j, max_k, max_m)"
   ]
  },
  {
   "cell_type": "markdown",
   "metadata": {},
   "source": [
    "From the results above the parameters are applied to the model"
   ]
  },
  {
   "cell_type": "code",
   "execution_count": 39,
   "metadata": {
    "scrolled": true
   },
   "outputs": [
    {
     "name": "stdout",
     "output_type": "stream",
     "text": [
      "diameter: r2: 0.6817126348319635 ; MSE: 0.8371047658297387\n",
      "Abs: r2: 0.8705969089841237 ; MSE: 780.400112252983\n",
      "PL: r2: 0.7282100418689819 ; MSE: 581.5228185660071\n"
     ]
    }
   ],
   "source": [
    "DT_reg = DecisionTreeRegressor(max_depth=12, max_features=11, \n",
    "                      random_state=55, max_leaf_nodes=48).fit(X_train, y_train)\n",
    "\n",
    "DT_y_pred = DT_reg.predict(X_test)\n",
    "\n",
    "outputs = ('diameter:', 'Abs:', 'PL:')\n",
    "for i in range(0, 3):\n",
    "    DT_r2 = r2_score(y_test.iloc[:, i], pd.DataFrame(DT_y_pred).loc[:, i])\n",
    "    DT_MSE = mean_squared_error(y_test.iloc[:, i], pd.DataFrame(DT_y_pred).loc[:, i])\n",
    "    print(outputs[i], 'r2:', DT_r2, '; MSE:', DT_MSE )"
   ]
  },
  {
   "cell_type": "markdown",
   "metadata": {},
   "source": [
    "# AdaBoost Regressor"
   ]
  },
  {
   "cell_type": "code",
   "execution_count": null,
   "metadata": {},
   "outputs": [],
   "source": [
    "max_r2 = 0\n",
    "\n",
    "max_i, max_j, max_k, max_m  = 0, 0, 0, 0\n",
    "\n",
    "for i in tqdm(range(5, 15)):\n",
    "    for j in np.arange(0.1, 2.0, 0.02):\n",
    "        for k in ('linear', 'square', 'exponential'):\n",
    "            for m in range(40, 60):\n",
    "                AB_reg = MultiOutputRegressor(AdaBoostRegressor(n_estimators=i, \n",
    "                                                                learning_rate=j, \n",
    "                                                                loss=k, \n",
    "                                                                random_state=m)).fit(X_train, y_train)\n",
    "\n",
    "                AB_y_pred = AB_reg.predict(X_test)\n",
    "\n",
    "                AB_r2 = r2_score(y_test, pd.DataFrame(AB_y_pred))\n",
    "\n",
    "                if (max_r2 < AB_r2):\n",
    "                    max_r2 = AB_r2\n",
    "                    max_i = i\n",
    "                    max_j = j\n",
    "                    max_k = k\n",
    "                    max_m = m\n",
    "            \n",
    "print(max_r2, max_i, max_j, max_k, max_m)"
   ]
  },
  {
   "cell_type": "markdown",
   "metadata": {},
   "source": [
    "From the results above (take a really long time to run) the parameters are applied to the model"
   ]
  },
  {
   "cell_type": "code",
   "execution_count": 38,
   "metadata": {
    "scrolled": true
   },
   "outputs": [
    {
     "name": "stdout",
     "output_type": "stream",
     "text": [
      "diameter: r2: 0.6610728796966749 ; MSE: 0.8913879051563259\n",
      "Abs: r2: 0.7643858313580297 ; MSE: 1420.9345558370596\n",
      "PL: r2: 0.6881234053222302 ; MSE: 667.2923371744201\n"
     ]
    }
   ],
   "source": [
    "AB_reg = MultiOutputRegressor(AdaBoostRegressor(n_estimators=12 ,\n",
    "                                                learning_rate=0.34, \n",
    "                                                loss='exponential', \n",
    "                                                random_state=47)).fit(X_train, y_train)\n",
    "\n",
    "AB_y_pred = AB_reg.predict(X_test)\n",
    "\n",
    "outputs = ('diameter:', 'Abs:', 'PL:')\n",
    "for i in range(0, 3):\n",
    "    AB_r2 = r2_score(y_test.iloc[:, i], pd.DataFrame(AB_y_pred).loc[:, i])\n",
    "    AB_MSE = mean_squared_error(y_test.iloc[:, i], pd.DataFrame(AB_y_pred).loc[:, i])\n",
    "    print(outputs[i], 'r2:', AB_r2, '; MSE:', AB_MSE )"
   ]
  },
  {
   "cell_type": "markdown",
   "metadata": {},
   "source": [
    "# Ridge"
   ]
  },
  {
   "cell_type": "code",
   "execution_count": 26,
   "metadata": {},
   "outputs": [
    {
     "name": "stderr",
     "output_type": "stream",
     "text": [
      "100%|██████████| 68/68 [00:21<00:00,  3.12it/s]"
     ]
    },
    {
     "name": "stdout",
     "output_type": "stream",
     "text": [
      "0.505452118088583 0.06 30\n"
     ]
    },
    {
     "name": "stderr",
     "output_type": "stream",
     "text": [
      "\n"
     ]
    }
   ],
   "source": [
    "max_r2 = 0\n",
    "\n",
    "max_i, max_j  = 0, 0\n",
    "\n",
    "for i in tqdm(np.arange(0.04, 1.4, 0.02)):\n",
    "    for j in range(30, 60):\n",
    "        R_reg =  Ridge(alpha=i,\n",
    "                       random_state=j).fit(X_train, y_train)\n",
    "            \n",
    "            \n",
    "        R_y_pred = R_reg.predict(X_test)\n",
    "            \n",
    "        R_r2 = r2_score(y_test, pd.DataFrame(R_y_pred))\n",
    "            \n",
    "        if (max_r2 < R_r2):\n",
    "                max_r2 = R_r2\n",
    "                max_i = i\n",
    "                max_j = j\n",
    "            \n",
    "print(max_r2, max_i, max_j)"
   ]
  },
  {
   "cell_type": "markdown",
   "metadata": {},
   "source": [
    "From the results above the parameters are applied to the model"
   ]
  },
  {
   "cell_type": "code",
   "execution_count": 37,
   "metadata": {},
   "outputs": [
    {
     "name": "stdout",
     "output_type": "stream",
     "text": [
      "diameter: r2: 0.3621857233901635 ; MSE: 1.677469573391533\n",
      "Abs: r2: 0.6618415887061528 ; MSE: 2039.3551657945416\n",
      "PL: r2: 0.49232904216943263 ; MSE: 1086.2146943612327\n"
     ]
    }
   ],
   "source": [
    "R_reg = Ridge(alpha=0.06, \n",
    "              random_state=30).fit(X_train, y_train)\n",
    "\n",
    "R_y_pred = R_reg.predict(X_test)\n",
    "\n",
    "outputs = ('diameter:', 'Abs:', 'PL:')\n",
    "for i in range(0, 3):\n",
    "    R_r2 = r2_score(y_test.iloc[:, i], pd.DataFrame(R_y_pred).loc[:, i])\n",
    "    R_MSE = mean_squared_error(y_test.iloc[:, i], pd.DataFrame(R_y_pred).loc[:, i])\n",
    "    print(outputs[i], 'r2:', R_r2, '; MSE:', R_MSE )"
   ]
  },
  {
   "cell_type": "markdown",
   "metadata": {},
   "source": [
    "# Ridge Cross Validation "
   ]
  },
  {
   "cell_type": "code",
   "execution_count": 34,
   "metadata": {},
   "outputs": [
    {
     "name": "stderr",
     "output_type": "stream",
     "text": [
      "100%|██████████| 999/999 [00:10<00:00, 92.69it/s] "
     ]
    },
    {
     "name": "stdout",
     "output_type": "stream",
     "text": [
      "0.5058675808968 0.06999999999999999\n"
     ]
    },
    {
     "name": "stderr",
     "output_type": "stream",
     "text": [
      "\n"
     ]
    }
   ],
   "source": [
    "max_r2 = 0\n",
    "\n",
    "max_i = 0\n",
    "\n",
    "for i in tqdm(np.arange(0.01, 10, 0.01)):\n",
    "\n",
    "        RCV_reg =  RidgeCV(alphas=i).fit(X_train, y_train)\n",
    "\n",
    "\n",
    "        RCV_y_pred = RCV_reg.predict(X_test)\n",
    "\n",
    "        RCV_r2 = r2_score(y_test, pd.DataFrame(RCV_y_pred))\n",
    "\n",
    "        if (max_r2 < RCV_r2):\n",
    "                max_r2 = RCV_r2\n",
    "                max_i = i\n",
    "                max_j = j\n",
    "\n",
    "print(max_r2, max_i)"
   ]
  },
  {
   "cell_type": "markdown",
   "metadata": {},
   "source": [
    "From the results above the parameters are applied to the model"
   ]
  },
  {
   "cell_type": "code",
   "execution_count": 36,
   "metadata": {},
   "outputs": [
    {
     "name": "stdout",
     "output_type": "stream",
     "text": [
      "diameter: r2: 0.36135982901649133 ; MSE: 1.6796416989357186\n",
      "Abs: r2: 0.6627630834754044 ; MSE: 2033.797843973874\n",
      "PL: r2: 0.4934798301984733 ; MSE: 1083.7524639579403\n"
     ]
    }
   ],
   "source": [
    "RCV_reg = RidgeCV(alphas=0.07).fit(X_train, y_train)\n",
    "\n",
    "RCV_y_pred = RCV_reg.predict(X_test)\n",
    "\n",
    "outputs = ('diameter:', 'Abs:', 'PL:')\n",
    "for i in range(0, 3):\n",
    "    RCV_r2 = r2_score(y_test.iloc[:, i], pd.DataFrame(RCV_y_pred).loc[:, i])\n",
    "    RCV_MSE = mean_squared_error(y_test.iloc[:, i], pd.DataFrame(RCV_y_pred).loc[:, i])\n",
    "    print(outputs[i], 'r2:', RCV_r2, '; MSE:', RCV_MSE )"
   ]
  },
  {
   "cell_type": "markdown",
   "metadata": {},
   "source": [
    "# K Neighbors"
   ]
  },
  {
   "cell_type": "code",
   "execution_count": 41,
   "metadata": {},
   "outputs": [
    {
     "name": "stderr",
     "output_type": "stream",
     "text": [
      "100%|██████████| 29/29 [00:09<00:00,  3.08it/s]"
     ]
    },
    {
     "name": "stdout",
     "output_type": "stream",
     "text": [
      "0.7228947186587202 2 4\n"
     ]
    },
    {
     "name": "stderr",
     "output_type": "stream",
     "text": [
      "\n"
     ]
    }
   ],
   "source": [
    "max_r2 = 0\n",
    "\n",
    "max_i = 0\n",
    "\n",
    "max_j = 0\n",
    "\n",
    "for i in tqdm(range(1, 30)):\n",
    "    for j in range(1, 20):\n",
    "\n",
    "        KNN_reg = KNeighborsRegressor(n_neighbors=i, \n",
    "                                      p=j).fit(X_train, y_train)\n",
    "\n",
    "        KNN_y_pred = KNN_reg.predict(X_test)\n",
    "\n",
    "        KNN_r2 = r2_score(y_test, pd.DataFrame(KNN_y_pred))\n",
    "\n",
    "        if (max_r2 < KNN_r2):\n",
    "                max_r2 = KNN_r2\n",
    "                max_i = i\n",
    "                max_j = j\n",
    "\n",
    "print(max_r2, max_i, max_j)"
   ]
  },
  {
   "cell_type": "markdown",
   "metadata": {},
   "source": [
    "From the results above the parameters are applied to the model"
   ]
  },
  {
   "cell_type": "code",
   "execution_count": 42,
   "metadata": {},
   "outputs": [
    {
     "name": "stdout",
     "output_type": "stream",
     "text": [
      "diameter: r2: 0.7489402500096387 ; MSE: 0.660294237925532\n",
      "Abs: r2: 0.8015202037625659 ; MSE: 1196.9857446808512\n",
      "PL: r2: 0.6182237022039561 ; MSE: 816.8500053597587\n"
     ]
    }
   ],
   "source": [
    "KNN_reg = KNeighborsRegressor(n_neighbors=2, \n",
    "                              p=4).fit(X_train, y_train)\n",
    "\n",
    "KNN_y_pred = KNN_reg.predict(X_test)\n",
    "\n",
    "outputs = ('diameter:', 'Abs:', 'PL:')\n",
    "for i in range(0, 3):\n",
    "    KNN_r2 = r2_score(y_test.iloc[:, i], pd.DataFrame(KNN_y_pred).loc[:, i])\n",
    "    KNN_MSE = mean_squared_error(y_test.iloc[:, i], pd.DataFrame(KNN_y_pred).loc[:, i])\n",
    "    print(outputs[i], 'r2:', KNN_r2, '; MSE:', KNN_MSE )"
   ]
  }
 ],
 "metadata": {
  "kernelspec": {
   "display_name": "Python 3",
   "language": "python",
   "name": "python3"
  },
  "language_info": {
   "codemirror_mode": {
    "name": "ipython",
    "version": 3
   },
   "file_extension": ".py",
   "mimetype": "text/x-python",
   "name": "python",
   "nbconvert_exporter": "python",
   "pygments_lexer": "ipython3",
   "version": "3.8.5"
  }
 },
 "nbformat": 4,
 "nbformat_minor": 4
}
