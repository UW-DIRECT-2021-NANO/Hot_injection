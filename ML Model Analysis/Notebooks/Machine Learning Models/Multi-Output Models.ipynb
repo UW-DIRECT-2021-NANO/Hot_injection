{
 "cells": [
  {
   "cell_type": "code",
   "execution_count": 1,
   "metadata": {},
   "outputs": [
    {
     "name": "stderr",
     "output_type": "stream",
     "text": [
      "\n",
      "Bad key \"text.kerning_factor\" on line 4 in\n",
      "/Users/harrisonsarsito/opt/anaconda3/lib/python3.7/site-packages/matplotlib/mpl-data/stylelib/_classic_test_patch.mplstyle.\n",
      "You probably need to get an updated matplotlibrc file from\n",
      "https://github.com/matplotlib/matplotlib/blob/v3.1.3/matplotlibrc.template\n",
      "or from the matplotlib source distribution\n"
     ]
    }
   ],
   "source": [
    "import numpy as np \n",
    "import pandas as pd\n",
    "import os\n",
    "import joblib\n",
    "import sklearn \n",
    "import matplotlib\n",
    "from matplotlib import pyplot as plt\n",
    "\n",
    "from sklearn.model_selection import train_test_split\n",
    "\n",
    "#Regressions:\n",
    "\n",
    "from sklearn.multioutput import MultiOutputRegressor\n",
    "\n",
    "from sklearn.neighbors import KNeighborsRegressor\n",
    "from sklearn.linear_model import Ridge\n",
    "from sklearn.linear_model import Lasso\n",
    "from sklearn.linear_model import ElasticNet\n",
    "from sklearn.linear_model import LinearRegression\n",
    "from sklearn.linear_model import RidgeCV\n",
    "from sklearn.ensemble import ExtraTreesRegressor\n",
    "from sklearn.ensemble import GradientBoostingRegressor\n",
    "from sklearn.ensemble import RandomForestRegressor\n",
    "from sklearn.ensemble import AdaBoostRegressor\n",
    "from sklearn.tree import DecisionTreeRegressor\n",
    "\n",
    "#Metric\n",
    "from sklearn.metrics import mean_squared_error, mean_absolute_error\n",
    "from sklearn.metrics import r2_score\n",
    "\n",
    "\n",
    "from pandas import DataFrame\n",
    "\n",
    "\n",
    "# Show progress bar\n",
    "from tqdm import tqdm"
   ]
  },
  {
   "cell_type": "code",
   "execution_count": 2,
   "metadata": {},
   "outputs": [],
   "source": [
    "df = pd.read_csv('augmented_data.csv')"
   ]
  },
  {
   "cell_type": "code",
   "execution_count": 3,
   "metadata": {},
   "outputs": [],
   "source": [
    "input_col = ['Growth Temp (Celsius)', 'Metal_mmol (mmol)', 'Chalcogen_mmol (mmol)',\n",
    "             'Amines_mmol (mmol)', 'CA_mmol (mmol)', 'Phosphines_mmol (mmol)', \n",
    "             'S_I_amount (g)', 'S_II_amount (g)', 'Time_min (min)', \n",
    "             'x0_cadmium acetate', 'x0_cadmium acetate dihydrate', \n",
    "             'x0_cadmium oxide', 'x0_cadmium stearate', 'x0_dimethylcadmium', \n",
    "             'x1_None', 'x1_benzoic acid', 'x1_dodecylphosphonic acid', \n",
    "             'x1_ethylphosphonic acid', 'x1_lauric acid', \n",
    "             'x1_myrstic acid', 'x1_oleic acid', 'x1_stearic acid',\n",
    "             'x2_2-6-dimethylpyridine', 'x2_None', 'x2_aniline', \n",
    "             'x2_benzylamine', 'x2_dioctylamine/hexadecylamine',\n",
    "             'x2_dodecylamine', 'x2_heptylamine', 'x2_hexadecylamine', \n",
    "             'x2_octadecylamine', 'x2_octylamine', 'x2_oleylamine', \n",
    "             'x2_pyridine', 'x2_trioctylamine', 'x3_None', 'x3_diphenylphosphine', \n",
    "             'x3_tributylphosphine', 'x3_trioctylphosphine', \n",
    "             'x3_triphenylphosphine', 'x4_None', 'x4_liquid parafin', \n",
    "             'x4_octadecene', 'x4_phenyl ether', 'x4_trioctylphosphine oxide', \n",
    "             'x5_None', 'x5_phosphinic acid', 'x5_trioctylphosphine oxide'\n",
    "            ]\n",
    "\n",
    "output_col = ['Diameter_nm','Absorbance max (nm)', 'PL max (nm)']\n",
    "\n",
    "X = df[input_col]\n",
    "\n",
    "y = df[output_col]\n",
    "\n",
    "\n",
    "X_train, X_test, y_train, y_test = train_test_split(X, y, test_size=0.2, random_state=45, shuffle=True)"
   ]
  },
  {
   "cell_type": "code",
   "execution_count": 4,
   "metadata": {},
   "outputs": [
    {
     "data": {
      "text/html": [
       "<div>\n",
       "<style scoped>\n",
       "    .dataframe tbody tr th:only-of-type {\n",
       "        vertical-align: middle;\n",
       "    }\n",
       "\n",
       "    .dataframe tbody tr th {\n",
       "        vertical-align: top;\n",
       "    }\n",
       "\n",
       "    .dataframe thead th {\n",
       "        text-align: right;\n",
       "    }\n",
       "</style>\n",
       "<table border=\"1\" class=\"dataframe\">\n",
       "  <thead>\n",
       "    <tr style=\"text-align: right;\">\n",
       "      <th></th>\n",
       "      <th>Diameter_nm</th>\n",
       "      <th>Absorbance max (nm)</th>\n",
       "      <th>PL max (nm)</th>\n",
       "    </tr>\n",
       "  </thead>\n",
       "  <tbody>\n",
       "    <tr>\n",
       "      <td>0</td>\n",
       "      <td>3.41</td>\n",
       "      <td>566.0</td>\n",
       "      <td>575.000000</td>\n",
       "    </tr>\n",
       "    <tr>\n",
       "      <td>1</td>\n",
       "      <td>2.50</td>\n",
       "      <td>474.0</td>\n",
       "      <td>617.000000</td>\n",
       "    </tr>\n",
       "    <tr>\n",
       "      <td>2</td>\n",
       "      <td>1.99</td>\n",
       "      <td>450.4</td>\n",
       "      <td>497.000000</td>\n",
       "    </tr>\n",
       "    <tr>\n",
       "      <td>3</td>\n",
       "      <td>2.13</td>\n",
       "      <td>471.6</td>\n",
       "      <td>510.000000</td>\n",
       "    </tr>\n",
       "    <tr>\n",
       "      <td>4</td>\n",
       "      <td>2.27</td>\n",
       "      <td>486.0</td>\n",
       "      <td>517.000000</td>\n",
       "    </tr>\n",
       "    <tr>\n",
       "      <td>...</td>\n",
       "      <td>...</td>\n",
       "      <td>...</td>\n",
       "      <td>...</td>\n",
       "    </tr>\n",
       "    <tr>\n",
       "      <td>229</td>\n",
       "      <td>1.70</td>\n",
       "      <td>450.0</td>\n",
       "      <td>537.714286</td>\n",
       "    </tr>\n",
       "    <tr>\n",
       "      <td>230</td>\n",
       "      <td>2.50</td>\n",
       "      <td>530.0</td>\n",
       "      <td>569.785714</td>\n",
       "    </tr>\n",
       "    <tr>\n",
       "      <td>231</td>\n",
       "      <td>3.50</td>\n",
       "      <td>585.0</td>\n",
       "      <td>589.714286</td>\n",
       "    </tr>\n",
       "    <tr>\n",
       "      <td>232</td>\n",
       "      <td>3.70</td>\n",
       "      <td>590.0</td>\n",
       "      <td>589.714286</td>\n",
       "    </tr>\n",
       "    <tr>\n",
       "      <td>233</td>\n",
       "      <td>3.90</td>\n",
       "      <td>595.0</td>\n",
       "      <td>589.714286</td>\n",
       "    </tr>\n",
       "  </tbody>\n",
       "</table>\n",
       "<p>234 rows × 3 columns</p>\n",
       "</div>"
      ],
      "text/plain": [
       "     Diameter_nm  Absorbance max (nm)  PL max (nm)\n",
       "0           3.41                566.0   575.000000\n",
       "1           2.50                474.0   617.000000\n",
       "2           1.99                450.4   497.000000\n",
       "3           2.13                471.6   510.000000\n",
       "4           2.27                486.0   517.000000\n",
       "..           ...                  ...          ...\n",
       "229         1.70                450.0   537.714286\n",
       "230         2.50                530.0   569.785714\n",
       "231         3.50                585.0   589.714286\n",
       "232         3.70                590.0   589.714286\n",
       "233         3.90                595.0   589.714286\n",
       "\n",
       "[234 rows x 3 columns]"
      ]
     },
     "execution_count": 4,
     "metadata": {},
     "output_type": "execute_result"
    }
   ],
   "source": [
    "y"
   ]
  },
  {
   "cell_type": "markdown",
   "metadata": {},
   "source": [
    "# Preliminary evaluatiopn of some regressions"
   ]
  },
  {
   "cell_type": "markdown",
   "metadata": {},
   "source": [
    "Note: The MSE or r2 of the multiouput regression outcomes are the average of all MSE or r2 outputs. "
   ]
  },
  {
   "cell_type": "code",
   "execution_count": 8,
   "metadata": {},
   "outputs": [
    {
     "name": "stdout",
     "output_type": "stream",
     "text": [
      "Extra trees \n",
      "\n",
      " R^2 for diameter is  0.6501754679632583 \n",
      " R^2 for Absorbance is  0.9188488773799854 \n",
      " R^2 for PL is  0.7365077230540736 \n",
      " \n",
      "\n",
      "K-nn \n",
      "\n",
      " R^2 for diameter is  0.4339480735015191 \n",
      " R^2 for Absorbance is  0.5219067936995085 \n",
      " R^2 for PL is  0.35859346048108265 \n",
      " \n",
      "\n",
      "Linear regression \n",
      "\n",
      " R^2 for diameter is  0.1388060722618889 \n",
      " R^2 for Absorbance is  0.23583055000921005 \n",
      " R^2 for PL is  -0.311074656102702 \n",
      " \n",
      "\n",
      "Ridge \n",
      "\n",
      " R^2 for diameter is  0.30992255072483155 \n",
      " R^2 for Absorbance is  0.5217494772222535 \n",
      " R^2 for PL is  0.3261042590982015 \n",
      " \n",
      "\n",
      "Lasso \n",
      "\n",
      " R^2 for diameter is  -0.0012262257360822204 \n",
      " R^2 for Absorbance is  0.4673181908902926 \n",
      " R^2 for PL is  0.24697801344016934 \n",
      " \n",
      "\n",
      "ElasticNet \n",
      "\n",
      " R^2 for diameter is  0.0312198570884763 \n",
      " R^2 for Absorbance is  0.3959513547611436 \n",
      " R^2 for PL is  0.16136347077262236 \n",
      " \n",
      "\n",
      "RandomForestRegressor \n",
      "\n",
      " R^2 for diameter is  0.48606735479134167 \n",
      " R^2 for Absorbance is  0.7419310017085641 \n",
      " R^2 for PL is  0.549046693669781 \n",
      " \n",
      "\n",
      "Decision Tree Regressor \n",
      "\n",
      " R^2 for diameter is  0.4922847288993766 \n",
      " R^2 for Absorbance is  0.7534652232642478 \n",
      " R^2 for PL is  0.5872645581469629 \n",
      " \n",
      "\n",
      "MultiO/P GBR \n",
      "\n",
      " R^2 for diameter is  0.2882822393583705 \n",
      " R^2 for Absorbance is  0.41743427941893196 \n",
      " R^2 for PL is  0.33006607739024085 \n",
      " \n",
      "\n",
      "MultiO/P AdaB \n",
      "\n",
      " R^2 for diameter is  0.5921288345754774 \n",
      " R^2 for Absorbance is  0.7375765808905512 \n",
      " R^2 for PL is  0.57157291157628 \n",
      " \n",
      "\n"
     ]
    }
   ],
   "source": [
    "#This is used to roughly show which regression performs better.\n",
    "# Testing Regressions:\n",
    "\n",
    "REGRESSIONS = {\n",
    "    \"Extra trees\": ExtraTreesRegressor(n_estimators=10,\n",
    "                                       max_features=32,     \n",
    "                                       random_state=44),\n",
    "    \"K-nn\": KNeighborsRegressor(),                          \n",
    "    \"Linear regression\": LinearRegression(),\n",
    "    \"Ridge\": RidgeCV(),\n",
    "    \"Lasso\": Lasso(),\n",
    "    \"ElasticNet\": ElasticNet(random_state=0),\n",
    "    \"RandomForestRegressor\": RandomForestRegressor(max_depth=4, random_state=2),\n",
    "    \"Decision Tree Regressor\":DecisionTreeRegressor(max_depth=5),\n",
    "    \"MultiO/P GBR\" :MultiOutputRegressor(GradientBoostingRegressor(n_estimators=5)),\n",
    "    \"MultiO/P AdaB\" :MultiOutputRegressor(AdaBoostRegressor(n_estimators=5))\n",
    "            }\n",
    "# r2 is used to evaluate the performance of all regressions.\n",
    "\n",
    "r2_list = list()\n",
    "\n",
    "for name, reg in REGRESSIONS.items():     \n",
    "    reg.fit(X_train, y_train)                 \n",
    "    y_pred = pd.DataFrame(reg.predict(X_test))\n",
    "    \n",
    "    print(name, '\\n')\n",
    "    \n",
    "# This loop will show r2 for each outcome\n",
    "    for column in range(0, 3):\n",
    "        r2 = r2_score(y_test.iloc[:, column], y_pred.iloc[:, column])\n",
    "        r2_list.append(r2)\n",
    "    \n",
    "    print(' R^2 for diameter is ', r2_list[0], '\\n',\n",
    "          'R^2 for Absorbance is ', r2_list[1], '\\n',\n",
    "          'R^2 for PL is ', r2_list[2], '\\n', '\\n', \n",
    "         )\n",
    "    del r2_list[:] #reset the list for the next regression"
   ]
  },
  {
   "cell_type": "markdown",
   "metadata": {},
   "source": [
    "From the R2 values above, Extra Trees, Random Forest, Ridge, Decision Tree, and MultiO/P AdaB give the best predictions.\n",
    "\n",
    "Now, we are going to optimize each of the the above regressions by grid searching the parameters"
   ]
  },
  {
   "cell_type": "markdown",
   "metadata": {},
   "source": [
    "# Extra Trees"
   ]
  },
  {
   "cell_type": "code",
   "execution_count": 13,
   "metadata": {},
   "outputs": [
    {
     "name": "stderr",
     "output_type": "stream",
     "text": [
      "100%|██████████| 19/19 [03:41<00:00, 11.64s/it]"
     ]
    },
    {
     "name": "stdout",
     "output_type": "stream",
     "text": [
      "0.8368196141138685 2 8 44\n"
     ]
    },
    {
     "name": "stderr",
     "output_type": "stream",
     "text": [
      "\n"
     ]
    }
   ],
   "source": [
    "max_r2 = 0\n",
    "\n",
    "max_i, max_j, max_k  = 0, 0, 0\n",
    "\n",
    "for i in tqdm(range(1, 20)):\n",
    "    for j in range(1, 10):\n",
    "        for k in range(0, 80, 1):\n",
    "            \n",
    "            ET_reg = ExtraTreesRegressor(n_estimators=i,\n",
    "                                         max_features=j,     \n",
    "                                         random_state=k).fit(X_train, y_train)\n",
    "            \n",
    "            \n",
    "            ET_y_pred = ET_reg.predict(X_test)\n",
    "            \n",
    "            ET_r2 = r2_score(y_test, pd.DataFrame(ET_y_pred))\n",
    "            \n",
    "            if (max_r2 < ET_r2):\n",
    "                max_r2 = ET_r2\n",
    "                max_i = i\n",
    "                max_j = j\n",
    "                max_k = k\n",
    "            \n",
    "print(max_r2, max_i, max_j, max_k)"
   ]
  },
  {
   "cell_type": "markdown",
   "metadata": {},
   "source": [
    "From the results above the parameters are applied to the model"
   ]
  },
  {
   "cell_type": "code",
   "execution_count": 5,
   "metadata": {},
   "outputs": [
    {
     "name": "stdout",
     "output_type": "stream",
     "text": [
      "diameter:  r2: 0.8089673742612287 ; MSE: 0.5024212046572104 ; MAE: 0.36824184397163123\n",
      "Abs:  r2: 0.9348373140508064 ; MSE: 392.9810874704492 ; MAE: 13.782978723404254\n",
      "PL:  r2: 0.7617203965605577 ; MSE: 509.8239373954309 ; MAE: 14.285207697872332\n"
     ]
    }
   ],
   "source": [
    "ET_reg = ExtraTreesRegressor(n_estimators=3,\n",
    "                            max_features=8,     \n",
    "                            random_state=44).fit(X_train, y_train)\n",
    "            \n",
    "            \n",
    "ET_y_pred = ET_reg.predict(X_test)\n",
    "\n",
    "outputs = ('diameter: ', 'Abs: ', 'PL: ')\n",
    "\n",
    "for i in range(0, 3):\n",
    "    ET_r2 = r2_score(y_test.iloc[:, i], pd.DataFrame(ET_y_pred).loc[:, i])\n",
    "    ET_MSE = mean_squared_error(y_test.iloc[:, i], pd.DataFrame(ET_y_pred).loc[:, i])\n",
    "    ET_MAE = mean_absolute_error(y_test.iloc[:, i], pd.DataFrame(ET_y_pred).loc[:, i])\n",
    "    print(outputs[i], 'r2:', ET_r2, '; MSE:', ET_MSE, '; MAE:', ET_MAE )\n"
   ]
  },
  {
   "cell_type": "code",
   "execution_count": 18,
   "metadata": {},
   "outputs": [
    {
     "data": {
      "image/png": "[encoded data removed]",
      "text/plain": [
       "<Figure size 1224x504 with 3 Axes>"
      ]
     },
     "metadata": {
      "needs_background": "light"
     },
     "output_type": "display_data"
    }
   ],
   "source": [
    "fig, (ax1, ax2, ax3) = plt.subplots(1, 3, figsize=(17,7))\n",
    "fig.suptitle('Extra Trees', fontsize=25)\n",
    "\n",
    "ax1.plot(y_test.iloc[:, 0], pd.DataFrame(ET_y_pred).loc[:, 0],'o')\n",
    "ax1.set_title('Diameter',fontsize=13)\n",
    "ax1.set(xlabel='Observed Values (nm)', ylabel='Predicted Values (nm)')\n",
    "\n",
    "ax2.plot(y_test.iloc[:, 1], pd.DataFrame(ET_y_pred).loc[:, 1],'o')\n",
    "ax2.set_title('Absorbance', fontsize=15)\n",
    "ax2.set(xlabel='Observed Values (nm)', ylabel='Predicted Values (nm)')\n",
    "\n",
    "ax3.plot(y_test.iloc[:, 2], pd.DataFrame(ET_y_pred).loc[:, 2],'o')\n",
    "ax3.set_title('PL', fontsize=15)\n",
    "ax3.set(xlabel='Observed Values (nm)', ylabel='Predicted Values (nm)')\n",
    "fig.tight_layout()"
   ]
  },
  {
   "cell_type": "markdown",
   "metadata": {},
   "source": [
    "# Random Forest"
   ]
  },
  {
   "cell_type": "code",
   "execution_count": null,
   "metadata": {},
   "outputs": [
    {
     "name": "stderr",
     "output_type": "stream",
     "text": [
      "\r",
      "  0%|          | 0/10 [00:00<?, ?it/s]"
     ]
    }
   ],
   "source": [
    "max_r2 = 0\n",
    "\n",
    "max_i, max_j, max_k, max_m  = 0, 0, 0, 0\n",
    "\n",
    "for i in tqdm(range(5, 15)):\n",
    "    for j in range(5, 20):\n",
    "        for k in range(10, 20):\n",
    "            for m in range (40, 60):\n",
    "                RF_reg = RandomForestRegressor(max_depth=i, \n",
    "                                                n_estimators=j, \n",
    "                                                max_features=k,\n",
    "                                                random_state=m).fit(X_train, y_train)\n",
    "\n",
    "                RF_y_pred = RF_reg.predict(X_test)\n",
    "\n",
    "                RF_r2 = r2_score(y_test, pd.DataFrame(RF_y_pred))\n",
    "\n",
    "                if (max_r2 < RF_r2):\n",
    "                    max_r2 = RF_r2\n",
    "                    max_i = i\n",
    "                    max_j = j\n",
    "                    max_k = k\n",
    "                    max_m = m\n",
    "            \n",
    "print(max_r2, max_i, max_j, max_k, max_m)"
   ]
  },
  {
   "cell_type": "markdown",
   "metadata": {},
   "source": [
    "From the results above (*take a long time to run*) the parameters are applied to the model"
   ]
  },
  {
   "cell_type": "code",
   "execution_count": 6,
   "metadata": {},
   "outputs": [
    {
     "name": "stdout",
     "output_type": "stream",
     "text": [
      "diameter:  r2: 0.7668918060973011 ; MSE: 0.6130811380680852 ; MAE: 0.4153970212765957\n",
      "Abs :  r2: 0.8923295132174645 ; MSE: 649.3358026595747 ; MAE: 19.45329787234043\n",
      "PL:  r2: 0.8237237798014639 ; MSE: 377.1612649743294 ; MAE: 13.518009118085107\n"
     ]
    }
   ],
   "source": [
    "RF_reg = RandomForestRegressor(max_depth=13, \n",
    "                               n_estimators=5, \n",
    "                               max_features=14,\n",
    "                               random_state=57).fit(X_train, y_train)\n",
    "            \n",
    "RF_y_pred = RF_reg.predict(X_test)\n",
    "\n",
    "outputs = ('diameter: ', 'Abs : ', 'PL: ')\n",
    "for i in range(0, 3):\n",
    "    RF_r2 = r2_score(y_test.iloc[:, i], pd.DataFrame(RF_y_pred).loc[:, i])\n",
    "    RF_MSE = mean_squared_error(y_test.iloc[:, i], pd.DataFrame(RF_y_pred).loc[:, i])\n",
    "    RF_MAE = mean_absolute_error(y_test.iloc[:, i], pd.DataFrame(RF_y_pred).loc[:, i])\n",
    "    print(outputs[i], 'r2:', RF_r2, '; MSE:', RF_MSE, '; MAE:', RF_MAE)"
   ]
  },
  {
   "cell_type": "code",
   "execution_count": null,
   "metadata": {},
   "outputs": [],
   "source": [
    "fig, (ax1, ax2, ax3) = plt.subplots(1, 3, figsize=(17,7))\n",
    "fig.suptitle('Random Forest', fontsize=25)\n",
    "\n",
    "ax1.plot(y_test.iloc[:, 0], pd.DataFrame(RF_y_pred).loc[:, 0],'o')\n",
    "ax1.set_title('Diameter',fontsize=13)\n",
    "ax1.set(xlabel='Observed Values (nm)', ylabel='Predicted Values (nm)')\n",
    "\n",
    "ax2.plot(y_test.iloc[:, 1], pd.DataFrame(RF_y_pred).loc[:, 1],'o')\n",
    "ax2.set_title('Absorbance', fontsize=15)\n",
    "ax2.set(xlabel='Observed Values (nm)', ylabel='Predicted Values (nm)')\n",
    "\n",
    "ax3.plot(y_test.iloc[:, 2], pd.DataFrame(RF_y_pred).loc[:, 2],'o')\n",
    "ax3.set_title('PL', fontsize=15)\n",
    "ax3.set(xlabel='Observed Values (nm)', ylabel='Predicted Values (nm)')\n",
    "fig.tight_layout()"
   ]
  },
  {
   "cell_type": "markdown",
   "metadata": {},
   "source": [
    "# Lasso"
   ]
  },
  {
   "cell_type": "code",
   "execution_count": null,
   "metadata": {},
   "outputs": [],
   "source": [
    "min_r2 = 0\n",
    "\n",
    "min_i, min_j, min_k, min_m  = 0, 0, 0, 0\n",
    "\n",
    "for i in tqdm(np.arange(0.1, 2.0, 0.02)):\n",
    "    for j in range(1, 100):\n",
    "        L_reg = Lasso(alpha=i, random_state=j).fit(X_train, y_train)\n",
    "        L_y_pred = L_reg.predict(X_test)\n",
    "        L_r2 = r2_score(y_test, pd.DataFrame(L_y_pred))\n",
    "      \n",
    "        if (min_r2 < L_r2):\n",
    "                min_r2 = L_r2\n",
    "                min_i = i\n",
    "                min_j = j\n",
    "\n",
    "            \n",
    "print(min_r2, min_i, min_j)"
   ]
  },
  {
   "cell_type": "markdown",
   "metadata": {},
   "source": [
    "From the results above the parameters are applied to the model"
   ]
  },
  {
   "cell_type": "code",
   "execution_count": 7,
   "metadata": {},
   "outputs": [
    {
     "name": "stdout",
     "output_type": "stream",
     "text": [
      "diameter: r2: 0.2521760419982202 ; MSE: 1.9667981445460594 ; MAE: 0.9221045406193107\n",
      "Abs: r2: 0.5747460874430703 ; MSE: 2564.6079895783287 ; MAE: 39.04210834297732\n",
      "PL: r2: 0.44764499740798624 ; MSE: 1181.8208449095907 ; MAE: 26.396211097944455\n"
     ]
    }
   ],
   "source": [
    "L_reg = Lasso(alpha=0.1, random_state=1).fit(X_train, y_train)\n",
    "            \n",
    "L_y_pred = L_reg.predict(X_test)\n",
    "\n",
    "outputs = ('diameter:', 'Abs:', 'PL:')\n",
    "for i in range(0, 3):\n",
    "    L_r2 = r2_score(y_test.iloc[:, i], pd.DataFrame(L_y_pred).loc[:, i])\n",
    "    L_MSE = mean_squared_error(y_test.iloc[:, i], pd.DataFrame(L_y_pred).loc[:, i])\n",
    "    L_MAE = mean_absolute_error(y_test.iloc[:, i], pd.DataFrame(L_y_pred).loc[:, i])\n",
    "    print(outputs[i], 'r2:', L_r2, '; MSE:', L_MSE, '; MAE:', L_MAE )"
   ]
  },
  {
   "cell_type": "code",
   "execution_count": null,
   "metadata": {},
   "outputs": [],
   "source": [
    "fig, (ax1, ax2, ax3) = plt.subplots(1, 3, figsize=(17,7))\n",
    "fig.suptitle('Lasso', fontsize=25)\n",
    "\n",
    "ax1.plot(y_test.iloc[:, 0], pd.DataFrame(L_y_pred).loc[:, 0],'o')\n",
    "ax1.set_title('Diameter',fontsize=13)\n",
    "ax1.set(xlabel='Observed Values (nm)', ylabel='Predicted Values (nm)')\n",
    "\n",
    "ax2.plot(y_test.iloc[:, 1], pd.DataFrame(L_y_pred).loc[:, 1],'o')\n",
    "ax2.set_title('Absorbance', fontsize=15)\n",
    "ax2.set(xlabel='Observed Values (nm)', ylabel='Predicted Values (nm)')\n",
    "\n",
    "ax3.plot(y_test.iloc[:, 2], pd.DataFrame(L_y_pred).loc[:, 2],'o')\n",
    "ax3.set_title('PL', fontsize=15)\n",
    "ax3.set(xlabel='Observed Values (nm)', ylabel='Predicted Values (nm)')\n",
    "fig.tight_layout()"
   ]
  },
  {
   "cell_type": "markdown",
   "metadata": {},
   "source": [
    "# Decision Trees"
   ]
  },
  {
   "cell_type": "code",
   "execution_count": null,
   "metadata": {},
   "outputs": [],
   "source": [
    "max_r2 = 0\n",
    "\n",
    "max_i, max_j, max_k, max_m  = 0, 0, 0, 0\n",
    "\n",
    "for i in tqdm(range(5, 15)):\n",
    "    for j in range(5, 15):\n",
    "        for k in range(40, 60):\n",
    "            for m in range (10, 50, 2):\n",
    "                DT_reg = DecisionTreeRegressor(max_depth=i, \n",
    "                                               max_features=j,\n",
    "                                               random_state=k, \n",
    "                                               max_leaf_nodes=m).fit(X_train, y_train)\n",
    "\n",
    "                DT_y_pred = DT_reg.predict(X_test)\n",
    "\n",
    "                DT_r2 = r2_score(y_test, pd.DataFrame(DT_y_pred))\n",
    "\n",
    "                if (max_r2 < DT_r2):\n",
    "                    max_r2 = DT_r2\n",
    "                    max_i = i\n",
    "                    max_j = j\n",
    "                    max_k = k\n",
    "                    max_m = m\n",
    "            \n",
    "print(max_r2, max_i, max_j, max_k, max_m)"
   ]
  },
  {
   "cell_type": "markdown",
   "metadata": {},
   "source": [
    "From the results above the parameters are applied to the model"
   ]
  },
  {
   "cell_type": "code",
   "execution_count": 8,
   "metadata": {
    "scrolled": true
   },
   "outputs": [
    {
     "name": "stdout",
     "output_type": "stream",
     "text": [
      "diameter: r2: 0.6817126348319635 ; MSE: 0.8371047658297387 ; MAE: 0.5296710638297872\n",
      "Abs: r2: 0.8705969089841237 ; MSE: 780.400112252983 ; MAE: 22.740042983021702\n",
      "PL: r2: 0.7282100418689819 ; MSE: 581.5228185660071 ; MAE: 15.875343093997431\n"
     ]
    }
   ],
   "source": [
    "DT_reg = DecisionTreeRegressor(max_depth=12, max_features=11, \n",
    "                      random_state=55, max_leaf_nodes=48).fit(X_train, y_train)\n",
    "\n",
    "DT_y_pred = DT_reg.predict(X_test)\n",
    "\n",
    "outputs = ('diameter:', 'Abs:', 'PL:')\n",
    "for i in range(0, 3):\n",
    "    DT_r2 = r2_score(y_test.iloc[:, i], pd.DataFrame(DT_y_pred).loc[:, i])\n",
    "    DT_MSE = mean_squared_error(y_test.iloc[:, i], pd.DataFrame(DT_y_pred).loc[:, i])\n",
    "    DT_MAE = mean_absolute_error(y_test.iloc[:, i], pd.DataFrame(DT_y_pred).loc[:, i])\n",
    "    print(outputs[i], 'r2:', DT_r2, '; MSE:', DT_MSE, '; MAE:', DT_MAE  )"
   ]
  },
  {
   "cell_type": "code",
   "execution_count": null,
   "metadata": {},
   "outputs": [],
   "source": [
    "fig, (ax1, ax2, ax3) = plt.subplots(1, 3, figsize=(17,7))\n",
    "fig.suptitle('Decision Trees', fontsize=25)\n",
    "\n",
    "ax1.plot(y_test.iloc[:, 0], pd.DataFrame(DT_y_pred).loc[:, 0],'o')\n",
    "ax1.set_title('Diameter',fontsize=13)\n",
    "ax1.set(xlabel='Observed Values (nm)', ylabel='Predicted Values (nm)')\n",
    "\n",
    "ax2.plot(y_test.iloc[:, 1], pd.DataFrame(DT_y_pred).loc[:, 1],'o')\n",
    "ax2.set_title('Absorbance', fontsize=15)\n",
    "ax2.set(xlabel='Observed Values (nm)', ylabel='Predicted Values (nm)')\n",
    "\n",
    "ax3.plot(y_test.iloc[:, 2], pd.DataFrame(DT_y_pred).loc[:, 2],'o')\n",
    "ax3.set_title('PL', fontsize=15)\n",
    "ax3.set(xlabel='Observed Values (nm)', ylabel='Predicted Values (nm)')\n",
    "fig.tight_layout()"
   ]
  },
  {
   "cell_type": "markdown",
   "metadata": {},
   "source": [
    "# AdaBoost Regressor"
   ]
  },
  {
   "cell_type": "code",
   "execution_count": null,
   "metadata": {},
   "outputs": [],
   "source": [
    "max_r2 = 0\n",
    "\n",
    "max_i, max_j, max_k, max_m  = 0, 0, 0, 0\n",
    "\n",
    "for i in tqdm(range(5, 15)):\n",
    "    for j in np.arange(0.1, 2.0, 0.02):\n",
    "        for k in ('linear', 'square', 'exponential'):\n",
    "            for m in range(40, 60):\n",
    "                AB_reg = MultiOutputRegressor(AdaBoostRegressor(n_estimators=i, \n",
    "                                                                learning_rate=j, \n",
    "                                                                loss=k, \n",
    "                                                                random_state=m)).fit(X_train, y_train)\n",
    "\n",
    "                AB_y_pred = AB_reg.predict(X_test)\n",
    "\n",
    "                AB_r2 = r2_score(y_test, pd.DataFrame(AB_y_pred))\n",
    "\n",
    "                if (max_r2 < AB_r2):\n",
    "                    max_r2 = AB_r2\n",
    "                    max_i = i\n",
    "                    max_j = j\n",
    "                    max_k = k\n",
    "                    max_m = m\n",
    "            \n",
    "print(max_r2, max_i, max_j, max_k, max_m)"
   ]
  },
  {
   "cell_type": "markdown",
   "metadata": {},
   "source": [
    "From the results above (take a really long time to run) the parameters are applied to the model"
   ]
  },
  {
   "cell_type": "code",
   "execution_count": 9,
   "metadata": {
    "scrolled": true
   },
   "outputs": [
    {
     "name": "stdout",
     "output_type": "stream",
     "text": [
      "diameter: r2: 0.6610728796966749 ; MSE: 0.8913879051563259 ; MAE: 0.5686066124185174\n",
      "Abs: r2: 0.7643858313580297 ; MSE: 1420.9345558370596 ; MAE: 28.862600897357588\n",
      "PL: r2: 0.6881234053222303 ; MSE: 667.2923371744201 ; MAE: 19.338244856225213\n"
     ]
    }
   ],
   "source": [
    "AB_reg = MultiOutputRegressor(AdaBoostRegressor(n_estimators=12 ,\n",
    "                                                learning_rate=0.34, \n",
    "                                                loss='exponential', \n",
    "                                                random_state=47)).fit(X_train, y_train)\n",
    "\n",
    "AB_y_pred = AB_reg.predict(X_test)\n",
    "\n",
    "outputs = ('diameter:', 'Abs:', 'PL:')\n",
    "for i in range(0, 3):\n",
    "    AB_r2 = r2_score(y_test.iloc[:, i], pd.DataFrame(AB_y_pred).loc[:, i])\n",
    "    AB_MSE = mean_squared_error(y_test.iloc[:, i], pd.DataFrame(AB_y_pred).loc[:, i])\n",
    "    AB_MAE = mean_absolute_error(y_test.iloc[:, i], pd.DataFrame(AB_y_pred).loc[:, i])\n",
    "    print(outputs[i], 'r2:', AB_r2, '; MSE:', AB_MSE, '; MAE:', AB_MAE )"
   ]
  },
  {
   "cell_type": "code",
   "execution_count": null,
   "metadata": {},
   "outputs": [],
   "source": [
    "fig, (ax1, ax2, ax3) = plt.subplots(1, 3, figsize=(17,7))\n",
    "fig.suptitle('AdaBoost', fontsize=25)\n",
    "\n",
    "ax1.plot(y_test.iloc[:, 0], pd.DataFrame(AB_y_pred).loc[:, 0],'o')\n",
    "ax1.set_title('Diameter',fontsize=13)\n",
    "ax1.set(xlabel='Observed Values (nm)', ylabel='Predicted Values (nm)')\n",
    "\n",
    "ax2.plot(y_test.iloc[:, 1], pd.DataFrame(AB_y_pred).loc[:, 1],'o')\n",
    "ax2.set_title('Absorbance', fontsize=15)\n",
    "ax2.set(xlabel='Observed Values (nm)', ylabel='Predicted Values (nm)')\n",
    "\n",
    "ax3.plot(y_test.iloc[:, 2], pd.DataFrame(AB_y_pred).loc[:, 2],'o')\n",
    "ax3.set_title('PL', fontsize=15)\n",
    "ax3.set(xlabel='Observed Values (nm)', ylabel='Predicted Values (nm)')\n",
    "fig.tight_layout()"
   ]
  },
  {
   "cell_type": "markdown",
   "metadata": {},
   "source": [
    "# Ridge"
   ]
  },
  {
   "cell_type": "code",
   "execution_count": null,
   "metadata": {},
   "outputs": [],
   "source": [
    "max_r2 = 0\n",
    "\n",
    "max_i, max_j  = 0, 0\n",
    "\n",
    "for i in tqdm(np.arange(0.04, 1.4, 0.02)):\n",
    "    for j in range(30, 60):\n",
    "        R_reg =  Ridge(alpha=i,\n",
    "                       random_state=j).fit(X_train, y_train)\n",
    "            \n",
    "            \n",
    "        R_y_pred = R_reg.predict(X_test)\n",
    "            \n",
    "        R_r2 = r2_score(y_test, pd.DataFrame(R_y_pred))\n",
    "            \n",
    "        if (max_r2 < R_r2):\n",
    "                max_r2 = R_r2\n",
    "                max_i = i\n",
    "                max_j = j\n",
    "            \n",
    "print(max_r2, max_i, max_j)"
   ]
  },
  {
   "cell_type": "markdown",
   "metadata": {},
   "source": [
    "From the results above the parameters are applied to the model"
   ]
  },
  {
   "cell_type": "code",
   "execution_count": 10,
   "metadata": {},
   "outputs": [
    {
     "name": "stdout",
     "output_type": "stream",
     "text": [
      "diameter: r2: 0.36218572339016175 ; MSE: 1.677469573391538 ; MAE: 0.8576795567061584\n",
      "Abs: r2: 0.6618415887061495 ; MSE: 2039.3551657945618 ; MAE: 34.786545878492625\n",
      "PL: r2: 0.49232904216942 ; MSE: 1086.21469436126 ; MAE: 24.827265504342815\n"
     ]
    }
   ],
   "source": [
    "R_reg = Ridge(alpha=0.06, \n",
    "              random_state=30).fit(X_train, y_train)\n",
    "\n",
    "R_y_pred = R_reg.predict(X_test)\n",
    "\n",
    "outputs = ('diameter:', 'Abs:', 'PL:')\n",
    "for i in range(0, 3):\n",
    "    R_r2 = r2_score(y_test.iloc[:, i], pd.DataFrame(R_y_pred).loc[:, i])\n",
    "    R_MSE = mean_squared_error(y_test.iloc[:, i], pd.DataFrame(R_y_pred).loc[:, i])\n",
    "    R_MAE = mean_absolute_error(y_test.iloc[:, i], pd.DataFrame(R_y_pred).loc[:, i])\n",
    "    print(outputs[i], 'r2:', R_r2, '; MSE:', R_MSE, '; MAE:', R_MAE )"
   ]
  },
  {
   "cell_type": "code",
   "execution_count": 11,
   "metadata": {},
   "outputs": [
    {
     "data": {
      "image/png": "[encoded data removed]",
      "text/plain": [
       "<Figure size 1224x504 with 3 Axes>"
      ]
     },
     "metadata": {
      "needs_background": "light"
     },
     "output_type": "display_data"
    }
   ],
   "source": [
    "fig, (ax1, ax2, ax3) = plt.subplots(1, 3, figsize=(17,7))\n",
    "fig.suptitle('Ridge', fontsize=25)\n",
    "\n",
    "ax1.plot(y_test.iloc[:, 0], pd.DataFrame(R_y_pred).loc[:, 0],'o')\n",
    "ax1.set_title('Diameter',fontsize=13)\n",
    "ax1.set(xlabel='Observed Values (nm)', ylabel='Predicted Values (nm)')\n",
    "\n",
    "ax2.plot(y_test.iloc[:, 1], pd.DataFrame(R_y_pred).loc[:, 1],'o')\n",
    "ax2.set_title('Absorbance', fontsize=15)\n",
    "ax2.set(xlabel='Observed Values (nm)', ylabel='Predicted Values (nm)')\n",
    "\n",
    "ax3.plot(y_test.iloc[:, 2], pd.DataFrame(R_y_pred).loc[:, 2],'o')\n",
    "ax3.set_title('PL', fontsize=15)\n",
    "ax3.set(xlabel='Observed Values (nm)', ylabel='Predicted Values (nm)')\n",
    "fig.tight_layout()"
   ]
  },
  {
   "cell_type": "markdown",
   "metadata": {},
   "source": [
    "# Ridge Cross Validation "
   ]
  },
  {
   "cell_type": "code",
   "execution_count": 12,
   "metadata": {},
   "outputs": [
    {
     "name": "stderr",
     "output_type": "stream",
     "text": [
      "100%|██████████| 999/999 [00:08<00:00, 122.55it/s]"
     ]
    },
    {
     "name": "stdout",
     "output_type": "stream",
     "text": [
      "0.5058675808961978 0.06999999999999999\n"
     ]
    },
    {
     "name": "stderr",
     "output_type": "stream",
     "text": [
      "\n"
     ]
    }
   ],
   "source": [
    "max_r2 = 0\n",
    "\n",
    "max_i = 0\n",
    "\n",
    "for i in tqdm(np.arange(0.01, 10, 0.01)):\n",
    "\n",
    "        RCV_reg =  RidgeCV(alphas=i).fit(X_train, y_train)\n",
    "\n",
    "\n",
    "        RCV_y_pred = RCV_reg.predict(X_test)\n",
    "\n",
    "        RCV_r2 = r2_score(y_test, pd.DataFrame(RCV_y_pred))\n",
    "\n",
    "        if (max_r2 < RCV_r2):\n",
    "                max_r2 = RCV_r2\n",
    "                max_i = i\n",
    "                max_j = j\n",
    "\n",
    "print(max_r2, max_i)"
   ]
  },
  {
   "cell_type": "markdown",
   "metadata": {},
   "source": [
    "From the results above the parameters are applied to the model"
   ]
  },
  {
   "cell_type": "code",
   "execution_count": 10,
   "metadata": {},
   "outputs": [
    {
     "name": "stdout",
     "output_type": "stream",
     "text": [
      "diameter: r2: 0.36135982901509445 ; MSE: 1.6796416989393925 ; MAE: 0.8602097237470137\n",
      "Abs: r2: 0.6627630834736922 ; MSE: 2033.7978439842 ; MAE: 34.986720558926685\n",
      "PL: r2: 0.49347983019980113 ; MSE: 1083.7524639550995 ; MAE: 24.987863052911653\n"
     ]
    }
   ],
   "source": [
    "RCV_reg = RidgeCV(alphas=0.07).fit(X_train, y_train)\n",
    "\n",
    "RCV_y_pred = RCV_reg.predict(X_test)\n",
    "\n",
    "outputs = ('diameter:', 'Abs:', 'PL:')\n",
    "for i in range(0, 3):\n",
    "    RCV_r2 = r2_score(y_test.iloc[:, i], pd.DataFrame(RCV_y_pred).loc[:, i])\n",
    "    RCV_MSE = mean_squared_error(y_test.iloc[:, i], pd.DataFrame(RCV_y_pred).loc[:, i])\n",
    "    RCV_MAE = mean_absolute_error(y_test.iloc[:, i], pd.DataFrame(RCV_y_pred).loc[:, i])\n",
    "    print(outputs[i], 'r2:', RCV_r2, '; MSE:', RCV_MSE, '; MAE:', RCV_MAE )"
   ]
  },
  {
   "cell_type": "code",
   "execution_count": 39,
   "metadata": {},
   "outputs": [
    {
     "data": {
      "image/png": "[encoded data removed]",
      "text/plain": [
       "<Figure size 1224x504 with 3 Axes>"
      ]
     },
     "metadata": {
      "needs_background": "light"
     },
     "output_type": "display_data"
    }
   ],
   "source": [
    "fig, (ax1, ax2, ax3) = plt.subplots(1, 3, figsize=(17,7))\n",
    "fig.suptitle('Ridge Cross Validation', fontsize=25)\n",
    "\n",
    "ax1.plot(y_test.iloc[:, 0], pd.DataFrame(RCV_y_pred).loc[:, 0],'o')\n",
    "ax1.set_title('Diameter',fontsize=13)\n",
    "ax1.set(xlabel='Observed Values (nm)', ylabel='Predicted Values (nm)')\n",
    "\n",
    "ax2.plot(y_test.iloc[:, 1], pd.DataFrame(RCV_y_pred).loc[:, 1],'o')\n",
    "ax2.set_title('Absorbance', fontsize=15)\n",
    "ax2.set(xlabel='Observed Values (nm)', ylabel='Predicted Values (nm)')\n",
    "\n",
    "ax3.plot(y_test.iloc[:, 2], pd.DataFrame(RCV_y_pred).loc[:, 2],'o')\n",
    "ax3.set_title('PL', fontsize=15)\n",
    "ax3.set(xlabel='Observed Values (nm)', ylabel='Predicted Values (nm)')\n",
    "fig.tight_layout()"
   ]
  },
  {
   "cell_type": "markdown",
   "metadata": {},
   "source": [
    "# K Neighbors"
   ]
  },
  {
   "cell_type": "code",
   "execution_count": 41,
   "metadata": {},
   "outputs": [
    {
     "name": "stderr",
     "output_type": "stream",
     "text": [
      "100%|██████████| 29/29 [00:09<00:00,  3.08it/s]"
     ]
    },
    {
     "name": "stdout",
     "output_type": "stream",
     "text": [
      "0.7228947186587202 2 4\n"
     ]
    },
    {
     "name": "stderr",
     "output_type": "stream",
     "text": [
      "\n"
     ]
    }
   ],
   "source": [
    "max_r2 = 0\n",
    "\n",
    "max_i = 0\n",
    "\n",
    "max_j = 0\n",
    "\n",
    "for i in tqdm(range(1, 30)):\n",
    "    for j in range(1, 20):\n",
    "\n",
    "        KNN_reg = KNeighborsRegressor(n_neighbors=i, \n",
    "                                      p=j).fit(X_train, y_train)\n",
    "\n",
    "        KNN_y_pred = KNN_reg.predict(X_test)\n",
    "\n",
    "        KNN_r2 = r2_score(y_test, pd.DataFrame(KNN_y_pred))\n",
    "\n",
    "        if (max_r2 < KNN_r2):\n",
    "                max_r2 = KNN_r2\n",
    "                max_i = i\n",
    "                max_j = j\n",
    "\n",
    "print(max_r2, max_i, max_j)"
   ]
  },
  {
   "cell_type": "markdown",
   "metadata": {},
   "source": [
    "From the results above the parameters are applied to the model"
   ]
  },
  {
   "cell_type": "code",
   "execution_count": 15,
   "metadata": {},
   "outputs": [
    {
     "name": "stdout",
     "output_type": "stream",
     "text": [
      "diameter: r2: 0.7489402500096387 ; MSE: 0.660294237925532 ; MAE: 0.4910904255319149\n",
      "Abs: r2: 0.8015202037625659 ; MSE: 1196.9857446808512 ; MAE: 26.31276595744681\n",
      "PL: r2: 0.6182237022039563 ; MSE: 816.8500053597586 ; MAE: 19.286474160638292\n"
     ]
    }
   ],
   "source": [
    "KNN_reg = KNeighborsRegressor(n_neighbors=2, \n",
    "                              p=4).fit(X_train, y_train)\n",
    "\n",
    "KNN_y_pred = KNN_reg.predict(X_test)\n",
    "\n",
    "outputs = ('diameter:', 'Abs:', 'PL:')\n",
    "for i in range(0, 3):\n",
    "    KNN_r2 = r2_score(y_test.iloc[:, i], pd.DataFrame(KNN_y_pred).loc[:, i])\n",
    "    KNN_MSE = mean_squared_error(y_test.iloc[:, i], pd.DataFrame(KNN_y_pred).loc[:, i])\n",
    "    KNN_MAE = mean_absolute_error(y_test.iloc[:, i], pd.DataFrame(KNN_y_pred).loc[:, i])\n",
    "    print(outputs[i], 'r2:', KNN_r2, '; MSE:', KNN_MSE,'; MAE:', KNN_MAE)"
   ]
  },
  {
   "cell_type": "code",
   "execution_count": 16,
   "metadata": {},
   "outputs": [
    {
     "data": {
      "image/png": "[encoded data removed]",
      "text/plain": [
       "<Figure size 1224x504 with 3 Axes>"
      ]
     },
     "metadata": {
      "needs_background": "light"
     },
     "output_type": "display_data"
    }
   ],
   "source": [
    "fig, (ax1, ax2, ax3) = plt.subplots(1, 3, figsize=(17,7))\n",
    "fig.suptitle('K Nearest Neighbor', fontsize=25)\n",
    "\n",
    "ax1.plot(y_test.iloc[:, 0], pd.DataFrame(KNN_y_pred).loc[:, 0],'o')\n",
    "ax1.set_title('Diameter',fontsize=13)\n",
    "ax1.set(xlabel='Observed Values (nm)', ylabel='Predicted Values (nm)')\n",
    "\n",
    "ax2.plot(y_test.iloc[:, 1], pd.DataFrame(KNN_y_pred).loc[:, 1],'o')\n",
    "ax2.set_title('Absorbance', fontsize=15)\n",
    "ax2.set(xlabel='Observed Values (nm)', ylabel='Predicted Values (nm)')\n",
    "\n",
    "ax3.plot(y_test.iloc[:, 2], pd.DataFrame(KNN_y_pred).loc[:, 2],'o')\n",
    "ax3.set_title('PL', fontsize=15)\n",
    "ax3.set(xlabel='Observed Values (nm)', ylabel='Predicted Values (nm)')\n",
    "fig.tight_layout()"
   ]
  },
  {
   "cell_type": "code",
   "execution_count": null,
   "metadata": {},
   "outputs": [],
   "source": []
  }
 ],
 "metadata": {
  "kernelspec": {
   "display_name": "Python 3",
   "language": "python",
   "name": "python3"
  },
  "language_info": {
   "codemirror_mode": {
    "name": "ipython",
    "version": 3
   },
   "file_extension": ".py",
   "mimetype": "text/x-python",
   "name": "python",
   "nbconvert_exporter": "python",
   "pygments_lexer": "ipython3",
   "version": "3.7.4"
  }
 },
 "nbformat": 4,
 "nbformat_minor": 4
}
