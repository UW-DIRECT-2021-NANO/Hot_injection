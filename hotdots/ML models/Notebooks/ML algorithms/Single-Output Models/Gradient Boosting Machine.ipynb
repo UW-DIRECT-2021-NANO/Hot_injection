{
 "cells": [
  {
   "cell_type": "markdown",
   "metadata": {},
   "source": [
    "#### In this notebook Gradient Boosting model will be use to predict diameter, absorbance, and PL output.\n",
    "* Optimization will be run to find the optimized estimator number \n",
    "* The skill of the model will be reported as an error in those predictions: \n",
    "    * MSE\n",
    "    * R2\n",
    "    "
   ]
  },
  {
   "cell_type": "code",
   "execution_count": 11,
   "metadata": {},
   "outputs": [],
   "source": [
    "import numpy as np\n",
    "import pandas as pd\n",
    "import matplotlib\n",
    "from matplotlib import pyplot as plt\n",
    "\n",
    "import sklearn  \n",
    "from sklearn import metrics\n",
    "from sklearn.datasets import make_regression\n",
    "from sklearn import linear_model, datasets\n",
    "from sklearn.linear_model import Ridge\n",
    "from sklearn.ensemble import GradientBoostingRegressor\n",
    "from sklearn.model_selection import train_test_split\n",
    "from sklearn.metrics import r2_score, mean_squared_error, mean_absolute_error\n",
    "from pandas import DataFrame\n",
    "\n",
    "from tqdm import tqdm\n",
    "# Import plotting libraries\n",
    "import seaborn as sns\n",
    "import matplotlib \n",
    "from matplotlib import pyplot as plt\n",
    "\n",
    "%matplotlib inline\n",
    "matplotlib.rcParams.update({'font.size': 22})"
   ]
  },
  {
   "cell_type": "code",
   "execution_count": 2,
   "metadata": {},
   "outputs": [
    {
     "data": {
      "text/html": [
       "<div>\n",
       "<style scoped>\n",
       "    .dataframe tbody tr th:only-of-type {\n",
       "        vertical-align: middle;\n",
       "    }\n",
       "\n",
       "    .dataframe tbody tr th {\n",
       "        vertical-align: top;\n",
       "    }\n",
       "\n",
       "    .dataframe thead th {\n",
       "        text-align: right;\n",
       "    }\n",
       "</style>\n",
       "<table border=\"1\" class=\"dataframe\">\n",
       "  <thead>\n",
       "    <tr style=\"text-align: right;\">\n",
       "      <th></th>\n",
       "      <th>Unnamed: 0</th>\n",
       "      <th>Unnamed: 0.1</th>\n",
       "      <th>Growth Temp (Celsius)</th>\n",
       "      <th>Metal_mmol (mmol)</th>\n",
       "      <th>Chalcogen_mmol (mmol)</th>\n",
       "      <th>CA_mmol (mmol)</th>\n",
       "      <th>Amines_mmol (mmol)</th>\n",
       "      <th>Phosphines_mmol (mmol)</th>\n",
       "      <th>S_I_amount (g)</th>\n",
       "      <th>S_II_amount (g)</th>\n",
       "      <th>...</th>\n",
       "      <th>x4_liquid parafin</th>\n",
       "      <th>x4_octadecene</th>\n",
       "      <th>x4_phenyl ether</th>\n",
       "      <th>x4_trioctylphosphine oxide</th>\n",
       "      <th>x5_None</th>\n",
       "      <th>x5_phosphinic acid</th>\n",
       "      <th>x5_trioctylphosphine oxide</th>\n",
       "      <th>Diameter_nm</th>\n",
       "      <th>Absorbance max (nm)</th>\n",
       "      <th>PL max (nm)</th>\n",
       "    </tr>\n",
       "  </thead>\n",
       "  <tbody>\n",
       "    <tr>\n",
       "      <th>0</th>\n",
       "      <td>0</td>\n",
       "      <td>0</td>\n",
       "      <td>1.105103</td>\n",
       "      <td>-0.437486</td>\n",
       "      <td>-0.243779</td>\n",
       "      <td>-0.525437</td>\n",
       "      <td>-0.416112</td>\n",
       "      <td>-0.165455</td>\n",
       "      <td>-0.123360</td>\n",
       "      <td>-0.302087</td>\n",
       "      <td>...</td>\n",
       "      <td>0</td>\n",
       "      <td>1</td>\n",
       "      <td>0</td>\n",
       "      <td>0</td>\n",
       "      <td>1</td>\n",
       "      <td>0</td>\n",
       "      <td>0</td>\n",
       "      <td>3.41</td>\n",
       "      <td>566.0</td>\n",
       "      <td>575.000000</td>\n",
       "    </tr>\n",
       "    <tr>\n",
       "      <th>1</th>\n",
       "      <td>1</td>\n",
       "      <td>1</td>\n",
       "      <td>-0.062540</td>\n",
       "      <td>-0.472027</td>\n",
       "      <td>-0.436361</td>\n",
       "      <td>-0.305510</td>\n",
       "      <td>-0.498129</td>\n",
       "      <td>-0.375671</td>\n",
       "      <td>-0.241193</td>\n",
       "      <td>-0.302087</td>\n",
       "      <td>...</td>\n",
       "      <td>0</td>\n",
       "      <td>1</td>\n",
       "      <td>0</td>\n",
       "      <td>0</td>\n",
       "      <td>1</td>\n",
       "      <td>0</td>\n",
       "      <td>0</td>\n",
       "      <td>2.50</td>\n",
       "      <td>474.0</td>\n",
       "      <td>617.000000</td>\n",
       "    </tr>\n",
       "    <tr>\n",
       "      <th>2</th>\n",
       "      <td>2</td>\n",
       "      <td>2</td>\n",
       "      <td>0.326674</td>\n",
       "      <td>-0.472027</td>\n",
       "      <td>-0.587674</td>\n",
       "      <td>-0.525437</td>\n",
       "      <td>-0.498129</td>\n",
       "      <td>-0.451959</td>\n",
       "      <td>-0.527427</td>\n",
       "      <td>-0.302087</td>\n",
       "      <td>...</td>\n",
       "      <td>0</td>\n",
       "      <td>1</td>\n",
       "      <td>0</td>\n",
       "      <td>0</td>\n",
       "      <td>1</td>\n",
       "      <td>0</td>\n",
       "      <td>0</td>\n",
       "      <td>1.99</td>\n",
       "      <td>450.4</td>\n",
       "      <td>497.000000</td>\n",
       "    </tr>\n",
       "    <tr>\n",
       "      <th>3</th>\n",
       "      <td>3</td>\n",
       "      <td>3</td>\n",
       "      <td>0.326674</td>\n",
       "      <td>-0.472027</td>\n",
       "      <td>-0.587674</td>\n",
       "      <td>-0.525437</td>\n",
       "      <td>-0.498129</td>\n",
       "      <td>-0.445602</td>\n",
       "      <td>-0.527427</td>\n",
       "      <td>-0.302087</td>\n",
       "      <td>...</td>\n",
       "      <td>0</td>\n",
       "      <td>1</td>\n",
       "      <td>0</td>\n",
       "      <td>0</td>\n",
       "      <td>1</td>\n",
       "      <td>0</td>\n",
       "      <td>0</td>\n",
       "      <td>2.13</td>\n",
       "      <td>471.6</td>\n",
       "      <td>510.000000</td>\n",
       "    </tr>\n",
       "    <tr>\n",
       "      <th>4</th>\n",
       "      <td>4</td>\n",
       "      <td>4</td>\n",
       "      <td>0.326674</td>\n",
       "      <td>-0.472027</td>\n",
       "      <td>-0.587674</td>\n",
       "      <td>-0.525437</td>\n",
       "      <td>-0.498129</td>\n",
       "      <td>-0.445602</td>\n",
       "      <td>-0.527427</td>\n",
       "      <td>-0.302087</td>\n",
       "      <td>...</td>\n",
       "      <td>0</td>\n",
       "      <td>1</td>\n",
       "      <td>0</td>\n",
       "      <td>0</td>\n",
       "      <td>1</td>\n",
       "      <td>0</td>\n",
       "      <td>0</td>\n",
       "      <td>2.27</td>\n",
       "      <td>486.0</td>\n",
       "      <td>517.000000</td>\n",
       "    </tr>\n",
       "    <tr>\n",
       "      <th>...</th>\n",
       "      <td>...</td>\n",
       "      <td>...</td>\n",
       "      <td>...</td>\n",
       "      <td>...</td>\n",
       "      <td>...</td>\n",
       "      <td>...</td>\n",
       "      <td>...</td>\n",
       "      <td>...</td>\n",
       "      <td>...</td>\n",
       "      <td>...</td>\n",
       "      <td>...</td>\n",
       "      <td>...</td>\n",
       "      <td>...</td>\n",
       "      <td>...</td>\n",
       "      <td>...</td>\n",
       "      <td>...</td>\n",
       "      <td>...</td>\n",
       "      <td>...</td>\n",
       "      <td>...</td>\n",
       "      <td>...</td>\n",
       "      <td>...</td>\n",
       "    </tr>\n",
       "    <tr>\n",
       "      <th>229</th>\n",
       "      <td>229</td>\n",
       "      <td>229</td>\n",
       "      <td>0.482360</td>\n",
       "      <td>-0.465119</td>\n",
       "      <td>-0.500554</td>\n",
       "      <td>-0.386536</td>\n",
       "      <td>-0.498129</td>\n",
       "      <td>-0.370585</td>\n",
       "      <td>-0.439276</td>\n",
       "      <td>5.981667</td>\n",
       "      <td>...</td>\n",
       "      <td>0</td>\n",
       "      <td>1</td>\n",
       "      <td>0</td>\n",
       "      <td>0</td>\n",
       "      <td>0</td>\n",
       "      <td>0</td>\n",
       "      <td>1</td>\n",
       "      <td>1.70</td>\n",
       "      <td>450.0</td>\n",
       "      <td>537.714286</td>\n",
       "    </tr>\n",
       "    <tr>\n",
       "      <th>230</th>\n",
       "      <td>230</td>\n",
       "      <td>230</td>\n",
       "      <td>0.482360</td>\n",
       "      <td>-0.465119</td>\n",
       "      <td>-0.500554</td>\n",
       "      <td>-0.386536</td>\n",
       "      <td>-0.498129</td>\n",
       "      <td>-0.370585</td>\n",
       "      <td>-0.439276</td>\n",
       "      <td>5.981667</td>\n",
       "      <td>...</td>\n",
       "      <td>0</td>\n",
       "      <td>1</td>\n",
       "      <td>0</td>\n",
       "      <td>0</td>\n",
       "      <td>0</td>\n",
       "      <td>0</td>\n",
       "      <td>1</td>\n",
       "      <td>2.50</td>\n",
       "      <td>530.0</td>\n",
       "      <td>569.785714</td>\n",
       "    </tr>\n",
       "    <tr>\n",
       "      <th>231</th>\n",
       "      <td>231</td>\n",
       "      <td>231</td>\n",
       "      <td>0.482360</td>\n",
       "      <td>-0.465119</td>\n",
       "      <td>-0.500554</td>\n",
       "      <td>-0.386536</td>\n",
       "      <td>-0.498129</td>\n",
       "      <td>-0.370585</td>\n",
       "      <td>-0.439276</td>\n",
       "      <td>5.981667</td>\n",
       "      <td>...</td>\n",
       "      <td>0</td>\n",
       "      <td>1</td>\n",
       "      <td>0</td>\n",
       "      <td>0</td>\n",
       "      <td>0</td>\n",
       "      <td>0</td>\n",
       "      <td>1</td>\n",
       "      <td>3.50</td>\n",
       "      <td>585.0</td>\n",
       "      <td>589.714286</td>\n",
       "    </tr>\n",
       "    <tr>\n",
       "      <th>232</th>\n",
       "      <td>232</td>\n",
       "      <td>232</td>\n",
       "      <td>0.482360</td>\n",
       "      <td>-0.465119</td>\n",
       "      <td>-0.500554</td>\n",
       "      <td>-0.386536</td>\n",
       "      <td>-0.498129</td>\n",
       "      <td>-0.370585</td>\n",
       "      <td>-0.439276</td>\n",
       "      <td>5.981667</td>\n",
       "      <td>...</td>\n",
       "      <td>0</td>\n",
       "      <td>1</td>\n",
       "      <td>0</td>\n",
       "      <td>0</td>\n",
       "      <td>0</td>\n",
       "      <td>0</td>\n",
       "      <td>1</td>\n",
       "      <td>3.70</td>\n",
       "      <td>590.0</td>\n",
       "      <td>589.714286</td>\n",
       "    </tr>\n",
       "    <tr>\n",
       "      <th>233</th>\n",
       "      <td>233</td>\n",
       "      <td>233</td>\n",
       "      <td>0.482360</td>\n",
       "      <td>-0.465119</td>\n",
       "      <td>-0.500554</td>\n",
       "      <td>-0.386536</td>\n",
       "      <td>-0.498129</td>\n",
       "      <td>-0.370585</td>\n",
       "      <td>-0.439276</td>\n",
       "      <td>5.981667</td>\n",
       "      <td>...</td>\n",
       "      <td>0</td>\n",
       "      <td>1</td>\n",
       "      <td>0</td>\n",
       "      <td>0</td>\n",
       "      <td>0</td>\n",
       "      <td>0</td>\n",
       "      <td>1</td>\n",
       "      <td>3.90</td>\n",
       "      <td>595.0</td>\n",
       "      <td>589.714286</td>\n",
       "    </tr>\n",
       "  </tbody>\n",
       "</table>\n",
       "<p>234 rows × 53 columns</p>\n",
       "</div>"
      ],
      "text/plain": [
       "     Unnamed: 0  Unnamed: 0.1  Growth Temp (Celsius)  Metal_mmol (mmol)  \\\n",
       "0             0             0               1.105103          -0.437486   \n",
       "1             1             1              -0.062540          -0.472027   \n",
       "2             2             2               0.326674          -0.472027   \n",
       "3             3             3               0.326674          -0.472027   \n",
       "4             4             4               0.326674          -0.472027   \n",
       "..          ...           ...                    ...                ...   \n",
       "229         229           229               0.482360          -0.465119   \n",
       "230         230           230               0.482360          -0.465119   \n",
       "231         231           231               0.482360          -0.465119   \n",
       "232         232           232               0.482360          -0.465119   \n",
       "233         233           233               0.482360          -0.465119   \n",
       "\n",
       "     Chalcogen_mmol (mmol)  CA_mmol (mmol)  Amines_mmol (mmol)  \\\n",
       "0                -0.243779       -0.525437           -0.416112   \n",
       "1                -0.436361       -0.305510           -0.498129   \n",
       "2                -0.587674       -0.525437           -0.498129   \n",
       "3                -0.587674       -0.525437           -0.498129   \n",
       "4                -0.587674       -0.525437           -0.498129   \n",
       "..                     ...             ...                 ...   \n",
       "229              -0.500554       -0.386536           -0.498129   \n",
       "230              -0.500554       -0.386536           -0.498129   \n",
       "231              -0.500554       -0.386536           -0.498129   \n",
       "232              -0.500554       -0.386536           -0.498129   \n",
       "233              -0.500554       -0.386536           -0.498129   \n",
       "\n",
       "     Phosphines_mmol (mmol)  S_I_amount (g)  S_II_amount (g)  ...  \\\n",
       "0                 -0.165455       -0.123360        -0.302087  ...   \n",
       "1                 -0.375671       -0.241193        -0.302087  ...   \n",
       "2                 -0.451959       -0.527427        -0.302087  ...   \n",
       "3                 -0.445602       -0.527427        -0.302087  ...   \n",
       "4                 -0.445602       -0.527427        -0.302087  ...   \n",
       "..                      ...             ...              ...  ...   \n",
       "229               -0.370585       -0.439276         5.981667  ...   \n",
       "230               -0.370585       -0.439276         5.981667  ...   \n",
       "231               -0.370585       -0.439276         5.981667  ...   \n",
       "232               -0.370585       -0.439276         5.981667  ...   \n",
       "233               -0.370585       -0.439276         5.981667  ...   \n",
       "\n",
       "     x4_liquid parafin  x4_octadecene  x4_phenyl ether  \\\n",
       "0                    0              1                0   \n",
       "1                    0              1                0   \n",
       "2                    0              1                0   \n",
       "3                    0              1                0   \n",
       "4                    0              1                0   \n",
       "..                 ...            ...              ...   \n",
       "229                  0              1                0   \n",
       "230                  0              1                0   \n",
       "231                  0              1                0   \n",
       "232                  0              1                0   \n",
       "233                  0              1                0   \n",
       "\n",
       "     x4_trioctylphosphine oxide  x5_None  x5_phosphinic acid  \\\n",
       "0                             0        1                   0   \n",
       "1                             0        1                   0   \n",
       "2                             0        1                   0   \n",
       "3                             0        1                   0   \n",
       "4                             0        1                   0   \n",
       "..                          ...      ...                 ...   \n",
       "229                           0        0                   0   \n",
       "230                           0        0                   0   \n",
       "231                           0        0                   0   \n",
       "232                           0        0                   0   \n",
       "233                           0        0                   0   \n",
       "\n",
       "     x5_trioctylphosphine oxide  Diameter_nm  Absorbance max (nm)  PL max (nm)  \n",
       "0                             0         3.41                566.0   575.000000  \n",
       "1                             0         2.50                474.0   617.000000  \n",
       "2                             0         1.99                450.4   497.000000  \n",
       "3                             0         2.13                471.6   510.000000  \n",
       "4                             0         2.27                486.0   517.000000  \n",
       "..                          ...          ...                  ...          ...  \n",
       "229                           1         1.70                450.0   537.714286  \n",
       "230                           1         2.50                530.0   569.785714  \n",
       "231                           1         3.50                585.0   589.714286  \n",
       "232                           1         3.70                590.0   589.714286  \n",
       "233                           1         3.90                595.0   589.714286  \n",
       "\n",
       "[234 rows x 53 columns]"
      ]
     },
     "execution_count": 2,
     "metadata": {},
     "output_type": "execute_result"
    }
   ],
   "source": [
    "#load the data\n",
    "df = pd.read_csv('../../../Datasets/augmented_data.csv')\n",
    "df"
   ]
  },
  {
   "cell_type": "code",
   "execution_count": 9,
   "metadata": {},
   "outputs": [],
   "source": [
    "feature_names = ['Growth Temp (Celsius)', 'Metal_mmol (mmol)', 'Chalcogen_mmol (mmol)',\n",
    "             'Amines_mmol (mmol)', 'CA_mmol (mmol)', 'Phosphines_mmol (mmol)',\n",
    "             'S_I_amount (g)', 'S_II_amount (g)', 'Time_min (min)',\n",
    "             'x0_cadmium acetate', 'x0_cadmium acetate dihydrate',\n",
    "             'x0_cadmium acetate dihydrate', 'x0_cadmium oxide',\n",
    "             'x0_cadmium stearate', 'x0_dimethylcadmium', 'x1_None',\n",
    "             'x1_benzoic acid', 'x1_dodecylphosphonic acid',\n",
    "             'x1_ethylphosphonic acid', 'x1_lauric acid',\n",
    "             'x1_myrstic acid', 'x1_oleic acid', 'x1_stearic acid',\n",
    "             'x2_2-6-dimethylpyridine', 'x2_None', 'x2_aniline',\n",
    "             'x2_benzylamine', 'x2_dioctylamine/hexadecylamine',\n",
    "             'x2_dodecylamine', 'x2_heptylamine', 'x2_hexadecylamine',\n",
    "             'x2_octadecylamine', 'x2_octylamine', 'x2_oleylamine',\n",
    "             'x2_pyridine', 'x2_trioctylamine', 'x3_None', 'x3_diphenylphosphine',\n",
    "             'x3_tributylphosphine', 'x3_trioctylphosphine',\n",
    "             'x3_triphenylphosphine', 'x4_None', 'x4_liquid parafin',\n",
    "             'x4_octadecene', 'x4_phenyl ether', 'x4_trioctylphosphine oxide',\n",
    "             'x5_None', 'x5_phosphinic acid', 'x5_trioctylphosphine oxide']\n",
    "\n",
    "target = ['Diameter_nm', 'Absorbance max (nm)', 'PL max (nm)']"
   ]
  },
  {
   "cell_type": "code",
   "execution_count": 3,
   "metadata": {},
   "outputs": [],
   "source": [
    "#Separate X and y data\n",
    "X = df.drop(columns =['Unnamed: 0','Unnamed: 0.1','Diameter_nm','Absorbance max (nm)', 'PL max (nm)'], \n",
    "                  inplace = False, axis = 1) #keep synthesis parameters that matter\n",
    "y_size = df['Diameter_nm'].values #will predict diameter\n",
    "y_abs = df['Absorbance max (nm)'].values #will predict absorbance\n",
    "y_PL = df['PL max (nm)'].values #will predict PL"
   ]
  },
  {
   "cell_type": "markdown",
   "metadata": {},
   "source": [
    "# Size prediction"
   ]
  },
  {
   "cell_type": "code",
   "execution_count": 4,
   "metadata": {},
   "outputs": [],
   "source": [
    "#split dataset into train and test set\n",
    "X_train, X_test, y_size_train, y_size_test = train_test_split(X, y_size, test_size=0.25, random_state=8, shuffle=True)"
   ]
  },
  {
   "cell_type": "code",
   "execution_count": 8,
   "metadata": {},
   "outputs": [
    {
     "name": "stderr",
     "output_type": "stream",
     "text": [
      "100%|██████████| 999/999 [03:16<00:00,  5.07it/s]"
     ]
    },
    {
     "name": "stdout",
     "output_type": "stream",
     "text": [
      "best estimator =  758\n"
     ]
    },
    {
     "name": "stderr",
     "output_type": "stream",
     "text": [
      "\n"
     ]
    }
   ],
   "source": [
    "def highest_r2_calculator():\n",
    "    \"\"\"iterates over estimator values to find the one that gives highest r2\"\"\"\n",
    "    R2_dict = {}\n",
    "    \n",
    "    for estimator in tqdm(np.arange (1, 1000, 1)):\n",
    "        gbm = GradientBoostingRegressor(n_estimators=estimator)\n",
    "        gbm.fit(X_train,y_size_train)\n",
    "        y_size_predict = gbm.predict(X_test)\n",
    "        MSE = mean_squared_error(y_size_test, y_size_predict)\n",
    "        R2 = r2_score(y_size_test, y_size_predict)\n",
    "        R2_dict[estimator] = R2\n",
    "    \n",
    "    print(\"best estimator = \", max(R2_dict, key=R2_dict.get))"
   ]
  },
  {
   "cell_type": "code",
   "execution_count": 5,
   "metadata": {},
   "outputs": [
    {
     "name": "stdout",
     "output_type": "stream",
     "text": [
      "MSE 0.5456757393106596 R2 0.6985867539803718\n"
     ]
    }
   ],
   "source": [
    "gbm = GradientBoostingRegressor(n_estimators=758)\n",
    "gbm.fit(X_train,y_size_train)\n",
    "y_size_predict = gbm.predict(X_test)\n",
    "MSE = mean_squared_error(y_size_test, y_size_predict)\n",
    "R2 = r2_score(y_size_test, y_size_predict)\n",
    "\n",
    "print(\"MSE\", MSE, \"R2\", R2)"
   ]
  },
  {
   "cell_type": "code",
   "execution_count": 8,
   "metadata": {},
   "outputs": [
    {
     "name": "stdout",
     "output_type": "stream",
     "text": [
      "The MAE for Diameter prediction is  0.3549776394332176\n"
     ]
    }
   ],
   "source": [
    "# Calculation of MAE\n",
    "print(\"The MAE for Diameter prediction is \", metrics.mean_absolute_error(y_size_test, y_size_predict))"
   ]
  },
  {
   "cell_type": "code",
   "execution_count": 9,
   "metadata": {},
   "outputs": [
    {
     "data": {
      "image/png": "[encoded data removed]",
      "text/plain": [
       "<Figure size 432x288 with 1 Axes>"
      ]
     },
     "metadata": {
      "needs_background": "light"
     },
     "output_type": "display_data"
    }
   ],
   "source": [
    "plt.figure()\n",
    "plt.title(\"\")\n",
    "plt.plot(y_size_test, y_size_predict, 'o')\n",
    "plt.xlabel('Observed Values (nm)')\n",
    "plt.ylabel('Predicted Values (nm)')\n",
    "plt.show()"
   ]
  },
  {
   "cell_type": "markdown",
   "metadata": {},
   "source": [
    "# Absorbance prediction"
   ]
  },
  {
   "cell_type": "code",
   "execution_count": 11,
   "metadata": {},
   "outputs": [],
   "source": [
    "#split dataset into train and test set\n",
    "X_train, X_test, y_abs_train, y_abs_test = train_test_split(X, y_abs, test_size=0.25, random_state=8, shuffle=True)"
   ]
  },
  {
   "cell_type": "code",
   "execution_count": 12,
   "metadata": {},
   "outputs": [
    {
     "name": "stderr",
     "output_type": "stream",
     "text": [
      "100%|██████████| 999/999 [04:18<00:00,  3.86it/s]"
     ]
    },
    {
     "name": "stdout",
     "output_type": "stream",
     "text": [
      "best estimator =  307\n"
     ]
    },
    {
     "name": "stderr",
     "output_type": "stream",
     "text": [
      "\n"
     ]
    }
   ],
   "source": [
    "#optimising parameters\n",
    "\n",
    "R2_dict = {}\n",
    "    \n",
    "for estimator in tqdm(np.arange (1, 1000, 1)):\n",
    "    gbm = GradientBoostingRegressor(n_estimators=estimator)\n",
    "    gbm.fit(X_train,y_abs_train)\n",
    "    y_abs_predict = gbm.predict(X_test)\n",
    "    MSE = mean_squared_error(y_abs_test, y_abs_predict)\n",
    "    R2 = r2_score(y_abs_test, y_abs_predict)\n",
    "    R2_dict[estimator] = R2\n",
    "    \n",
    "print(\"best estimator = \", max(R2_dict, key=R2_dict.get))"
   ]
  },
  {
   "cell_type": "code",
   "execution_count": 13,
   "metadata": {},
   "outputs": [
    {
     "name": "stdout",
     "output_type": "stream",
     "text": [
      "MSE 512.8720313117702 R2 0.8997658477101311\n"
     ]
    }
   ],
   "source": [
    "gbm = GradientBoostingRegressor(n_estimators=307)\n",
    "gbm.fit(X_train,y_abs_train)\n",
    "y_abs_predict = gbm.predict(X_test)\n",
    "MSE = mean_squared_error(y_abs_test, y_abs_predict)\n",
    "R2 = r2_score(y_abs_test, y_abs_predict)\n",
    "\n",
    "print(\"MSE\", MSE, \"R2\", R2)"
   ]
  },
  {
   "cell_type": "code",
   "execution_count": 14,
   "metadata": {},
   "outputs": [
    {
     "data": {
      "image/png": "[encoded data removed]",
      "text/plain": [
       "<Figure size 432x288 with 1 Axes>"
      ]
     },
     "metadata": {
      "needs_background": "light"
     },
     "output_type": "display_data"
    }
   ],
   "source": [
    "plt.figure()\n",
    "plt.title(\"\")\n",
    "plt.plot(y_abs_test, y_abs_predict, 'o')\n",
    "plt.xlabel('Observed Values (nm)')\n",
    "plt.ylabel('Predicted Values (nm)')\n",
    "plt.show()"
   ]
  },
  {
   "cell_type": "markdown",
   "metadata": {},
   "source": [
    "# PL prediction"
   ]
  },
  {
   "cell_type": "code",
   "execution_count": 15,
   "metadata": {},
   "outputs": [],
   "source": [
    "#split dataset into train and test set\n",
    "X_train, X_test, y_PL_train, y_PL_test = train_test_split(X, y_PL, test_size=0.25, random_state=8, shuffle=True)"
   ]
  },
  {
   "cell_type": "code",
   "execution_count": 41,
   "metadata": {},
   "outputs": [
    {
     "name": "stderr",
     "output_type": "stream",
     "text": [
      "100%|██████████| 999/999 [03:42<00:00,  4.48it/s]"
     ]
    },
    {
     "name": "stdout",
     "output_type": "stream",
     "text": [
      "best estimator =  183\n"
     ]
    },
    {
     "name": "stderr",
     "output_type": "stream",
     "text": [
      "\n"
     ]
    }
   ],
   "source": [
    "#optimising parameters\n",
    "\n",
    "R2_dict = {}\n",
    "    \n",
    "for estimator in tqdm(np.arange (1, 1000, 1)):\n",
    "    gbm = GradientBoostingRegressor(n_estimators=estimator)\n",
    "    gbm.fit(X_train,y_PL_train)\n",
    "    y_PL_predict = gbm.predict(X_test)\n",
    "    MSE = mean_squared_error(y_PL_test, y_PL_predict)\n",
    "    R2 = r2_score(y_PL_test, y_PL_predict)\n",
    "    R2_dict[estimator] = R2\n",
    "    \n",
    "print(\"best estimator = \", max(R2_dict, key=R2_dict.get))"
   ]
  },
  {
   "cell_type": "code",
   "execution_count": 42,
   "metadata": {},
   "outputs": [
    {
     "name": "stdout",
     "output_type": "stream",
     "text": [
      "MSE 480.3688505545961 R2 0.7254932752184045\n"
     ]
    }
   ],
   "source": [
    "gbm = GradientBoostingRegressor(n_estimators=183)\n",
    "gbm.fit(X_train,y_PL_train)\n",
    "y_PL_predict = gbm.predict(X_test)\n",
    "MSE = mean_squared_error(y_PL_test, y_PL_predict)\n",
    "R2 = r2_score(y_PL_test, y_PL_predict)\n",
    "\n",
    "print(\"MSE\", MSE, \"R2\", R2)"
   ]
  },
  {
   "cell_type": "code",
   "execution_count": 43,
   "metadata": {},
   "outputs": [
    {
     "data": {
      "image/png": "[encoded data removed]",
      "text/plain": [
       "<Figure size 432x288 with 1 Axes>"
      ]
     },
     "metadata": {
      "needs_background": "light"
     },
     "output_type": "display_data"
    }
   ],
   "source": [
    "plt.figure()\n",
    "plt.title(\"\")\n",
    "plt.plot(y_PL_test, y_PL_predict, 'o')\n",
    "plt.xlabel('Observed Values (nm)')\n",
    "plt.ylabel('Predicted Values (nm)')\n",
    "plt.show()"
   ]
  },
  {
   "cell_type": "code",
   "execution_count": 12,
   "metadata": {},
   "outputs": [
    {
     "data": {
      "image/png": "[encoded data removed]",
      "text/plain": [
       "<Figure size 1490.4x595.44 with 1 Axes>"
      ]
     },
     "metadata": {
      "needs_background": "light"
     },
     "output_type": "display_data"
    }
   ],
   "source": [
    "# Depositing the input features and their importance score into a dicitonary\n",
    "importance_dict = dict()\n",
    "for i in range(0,48):\n",
    "    importance_dict[feature_names[i]] = gbm.feature_importances_[i]\n",
    "\n",
    "# Sorting the input features by their importance score    \n",
    "sorted_importance = sorted(importance_dict.items(), key=lambda x: x[1], reverse=True)\n",
    "# Filtering out input features with the best importance score\n",
    "top10 = DataFrame(sorted_importance[0:10], columns=['features', 'importance score'])\n",
    "# Combining the other input features\n",
    "others2 = DataFrame(sorted_importance[10:], columns=['features', 'importance score'])\n",
    "combined_others2 = pd.DataFrame(data = {\n",
    "    'features' : ['others'],\n",
    "    'importance score' : [others2['importance score'].sum()]\n",
    "                                        })\n",
    "# Combining top 10 with others\n",
    "imp_score2 = pd.concat([top10, combined_others2])\n",
    "\n",
    "# Plotting \n",
    "\n",
    "a4_dims = (20.7, 8.27)\n",
    "fig, ax = plt.subplots(figsize=a4_dims)\n",
    "\n",
    "sns.set_theme(style=\"whitegrid\")\n",
    "\n",
    "plt.xticks(rotation=45, fontsize=16)\n",
    "\n",
    "ax.set_title('Features importance', fontsize=30)\n",
    "\n",
    "ax = sns.barplot(x=\"features\", y=\"importance score\", data=imp_score2)\n",
    "\n",
    "ax.set_xlabel('Input Features', fontsize=26)\n",
    "ax.set_ylabel('Importance Score', fontsize=26)\n",
    "\n",
    "plt.show()"
   ]
  }
 ],
 "metadata": {
  "kernelspec": {
   "display_name": "Python 3",
   "language": "python",
   "name": "python3"
  },
  "language_info": {
   "codemirror_mode": {
    "name": "ipython",
    "version": 3
   },
   "file_extension": ".py",
   "mimetype": "text/x-python",
   "name": "python",
   "nbconvert_exporter": "python",
   "pygments_lexer": "ipython3",
   "version": "3.8.5"
  }
 },
 "nbformat": 4,
 "nbformat_minor": 4
}
