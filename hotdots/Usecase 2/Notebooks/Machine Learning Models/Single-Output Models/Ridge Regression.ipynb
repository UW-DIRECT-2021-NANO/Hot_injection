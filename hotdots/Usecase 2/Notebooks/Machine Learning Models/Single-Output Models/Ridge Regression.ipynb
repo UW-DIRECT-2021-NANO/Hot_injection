{
 "cells": [
  {
   "cell_type": "markdown",
   "metadata": {},
   "source": [
    "#### In this notebook Ridge Regression model will be use to predict diameter, absorbance, and PL output.\n",
    " \n",
    "* The skill of the model will be reported as an error in those predictions: \n",
    "    * MSE\n",
    "    * R2\n",
    "    "
   ]
  },
  {
   "cell_type": "code",
   "execution_count": 1,
   "metadata": {},
   "outputs": [],
   "source": [
    "import numpy as np\n",
    "import pandas as pd\n",
    "import matplotlib\n",
    "from matplotlib import pyplot as plt\n",
    "\n",
    "import sklearn  \n",
    "from sklearn.datasets import make_regression\n",
    "from sklearn import linear_model, datasets\n",
    "from sklearn.linear_model import Ridge\n",
    "from sklearn.model_selection import train_test_split\n",
    "from sklearn.metrics import r2_score, mean_squared_error, mean_absolute_error\n",
    "\n",
    "from tqdm import tqdm\n",
    "\n",
    "%matplotlib inline\n",
    "matplotlib.rcParams.update({'font.size': 22})"
   ]
  },
  {
   "cell_type": "code",
   "execution_count": 2,
   "metadata": {},
   "outputs": [],
   "source": [
    "df = pd.read_csv('../../../Datasets/augmented_data.csv')"
   ]
  },
  {
   "cell_type": "code",
   "execution_count": 3,
   "metadata": {
    "scrolled": true
   },
   "outputs": [
    {
     "data": {
      "text/html": [
       "<div>\n",
       "<style scoped>\n",
       "    .dataframe tbody tr th:only-of-type {\n",
       "        vertical-align: middle;\n",
       "    }\n",
       "\n",
       "    .dataframe tbody tr th {\n",
       "        vertical-align: top;\n",
       "    }\n",
       "\n",
       "    .dataframe thead th {\n",
       "        text-align: right;\n",
       "    }\n",
       "</style>\n",
       "<table border=\"1\" class=\"dataframe\">\n",
       "  <thead>\n",
       "    <tr style=\"text-align: right;\">\n",
       "      <th></th>\n",
       "      <th>Unnamed: 0</th>\n",
       "      <th>Unnamed: 0.1</th>\n",
       "      <th>Growth Temp (Celsius)</th>\n",
       "      <th>Metal_mmol (mmol)</th>\n",
       "      <th>Chalcogen_mmol (mmol)</th>\n",
       "      <th>CA_mmol (mmol)</th>\n",
       "      <th>Amines_mmol (mmol)</th>\n",
       "      <th>Phosphines_mmol (mmol)</th>\n",
       "      <th>S_I_amount (g)</th>\n",
       "      <th>S_II_amount (g)</th>\n",
       "      <th>...</th>\n",
       "      <th>x4_liquid parafin</th>\n",
       "      <th>x4_octadecene</th>\n",
       "      <th>x4_phenyl ether</th>\n",
       "      <th>x4_trioctylphosphine oxide</th>\n",
       "      <th>x5_None</th>\n",
       "      <th>x5_phosphinic acid</th>\n",
       "      <th>x5_trioctylphosphine oxide</th>\n",
       "      <th>Diameter_nm</th>\n",
       "      <th>Absorbance max (nm)</th>\n",
       "      <th>PL max (nm)</th>\n",
       "    </tr>\n",
       "  </thead>\n",
       "  <tbody>\n",
       "    <tr>\n",
       "      <td>0</td>\n",
       "      <td>0</td>\n",
       "      <td>0</td>\n",
       "      <td>1.105103</td>\n",
       "      <td>-0.437486</td>\n",
       "      <td>-0.243779</td>\n",
       "      <td>-0.525437</td>\n",
       "      <td>-0.416112</td>\n",
       "      <td>-0.165455</td>\n",
       "      <td>-0.123360</td>\n",
       "      <td>-0.302087</td>\n",
       "      <td>...</td>\n",
       "      <td>0</td>\n",
       "      <td>1</td>\n",
       "      <td>0</td>\n",
       "      <td>0</td>\n",
       "      <td>1</td>\n",
       "      <td>0</td>\n",
       "      <td>0</td>\n",
       "      <td>3.41</td>\n",
       "      <td>566.0</td>\n",
       "      <td>575.0</td>\n",
       "    </tr>\n",
       "    <tr>\n",
       "      <td>1</td>\n",
       "      <td>1</td>\n",
       "      <td>1</td>\n",
       "      <td>-0.062540</td>\n",
       "      <td>-0.472027</td>\n",
       "      <td>-0.436361</td>\n",
       "      <td>-0.305510</td>\n",
       "      <td>-0.498129</td>\n",
       "      <td>-0.375671</td>\n",
       "      <td>-0.241193</td>\n",
       "      <td>-0.302087</td>\n",
       "      <td>...</td>\n",
       "      <td>0</td>\n",
       "      <td>1</td>\n",
       "      <td>0</td>\n",
       "      <td>0</td>\n",
       "      <td>1</td>\n",
       "      <td>0</td>\n",
       "      <td>0</td>\n",
       "      <td>2.50</td>\n",
       "      <td>474.0</td>\n",
       "      <td>617.0</td>\n",
       "    </tr>\n",
       "    <tr>\n",
       "      <td>2</td>\n",
       "      <td>2</td>\n",
       "      <td>2</td>\n",
       "      <td>0.326674</td>\n",
       "      <td>-0.472027</td>\n",
       "      <td>-0.587674</td>\n",
       "      <td>-0.525437</td>\n",
       "      <td>-0.498129</td>\n",
       "      <td>-0.451959</td>\n",
       "      <td>-0.527427</td>\n",
       "      <td>-0.302087</td>\n",
       "      <td>...</td>\n",
       "      <td>0</td>\n",
       "      <td>1</td>\n",
       "      <td>0</td>\n",
       "      <td>0</td>\n",
       "      <td>1</td>\n",
       "      <td>0</td>\n",
       "      <td>0</td>\n",
       "      <td>1.99</td>\n",
       "      <td>450.4</td>\n",
       "      <td>497.0</td>\n",
       "    </tr>\n",
       "    <tr>\n",
       "      <td>3</td>\n",
       "      <td>3</td>\n",
       "      <td>3</td>\n",
       "      <td>0.326674</td>\n",
       "      <td>-0.472027</td>\n",
       "      <td>-0.587674</td>\n",
       "      <td>-0.525437</td>\n",
       "      <td>-0.498129</td>\n",
       "      <td>-0.445602</td>\n",
       "      <td>-0.527427</td>\n",
       "      <td>-0.302087</td>\n",
       "      <td>...</td>\n",
       "      <td>0</td>\n",
       "      <td>1</td>\n",
       "      <td>0</td>\n",
       "      <td>0</td>\n",
       "      <td>1</td>\n",
       "      <td>0</td>\n",
       "      <td>0</td>\n",
       "      <td>2.13</td>\n",
       "      <td>471.6</td>\n",
       "      <td>510.0</td>\n",
       "    </tr>\n",
       "    <tr>\n",
       "      <td>4</td>\n",
       "      <td>4</td>\n",
       "      <td>4</td>\n",
       "      <td>0.326674</td>\n",
       "      <td>-0.472027</td>\n",
       "      <td>-0.587674</td>\n",
       "      <td>-0.525437</td>\n",
       "      <td>-0.498129</td>\n",
       "      <td>-0.445602</td>\n",
       "      <td>-0.527427</td>\n",
       "      <td>-0.302087</td>\n",
       "      <td>...</td>\n",
       "      <td>0</td>\n",
       "      <td>1</td>\n",
       "      <td>0</td>\n",
       "      <td>0</td>\n",
       "      <td>1</td>\n",
       "      <td>0</td>\n",
       "      <td>0</td>\n",
       "      <td>2.27</td>\n",
       "      <td>486.0</td>\n",
       "      <td>517.0</td>\n",
       "    </tr>\n",
       "  </tbody>\n",
       "</table>\n",
       "<p>5 rows × 53 columns</p>\n",
       "</div>"
      ],
      "text/plain": [
       "   Unnamed: 0  Unnamed: 0.1  Growth Temp (Celsius)  Metal_mmol (mmol)  \\\n",
       "0           0             0               1.105103          -0.437486   \n",
       "1           1             1              -0.062540          -0.472027   \n",
       "2           2             2               0.326674          -0.472027   \n",
       "3           3             3               0.326674          -0.472027   \n",
       "4           4             4               0.326674          -0.472027   \n",
       "\n",
       "   Chalcogen_mmol (mmol)  CA_mmol (mmol)  Amines_mmol (mmol)  \\\n",
       "0              -0.243779       -0.525437           -0.416112   \n",
       "1              -0.436361       -0.305510           -0.498129   \n",
       "2              -0.587674       -0.525437           -0.498129   \n",
       "3              -0.587674       -0.525437           -0.498129   \n",
       "4              -0.587674       -0.525437           -0.498129   \n",
       "\n",
       "   Phosphines_mmol (mmol)  S_I_amount (g)  S_II_amount (g)  ...  \\\n",
       "0               -0.165455       -0.123360        -0.302087  ...   \n",
       "1               -0.375671       -0.241193        -0.302087  ...   \n",
       "2               -0.451959       -0.527427        -0.302087  ...   \n",
       "3               -0.445602       -0.527427        -0.302087  ...   \n",
       "4               -0.445602       -0.527427        -0.302087  ...   \n",
       "\n",
       "   x4_liquid parafin  x4_octadecene  x4_phenyl ether  \\\n",
       "0                  0              1                0   \n",
       "1                  0              1                0   \n",
       "2                  0              1                0   \n",
       "3                  0              1                0   \n",
       "4                  0              1                0   \n",
       "\n",
       "   x4_trioctylphosphine oxide  x5_None  x5_phosphinic acid  \\\n",
       "0                           0        1                   0   \n",
       "1                           0        1                   0   \n",
       "2                           0        1                   0   \n",
       "3                           0        1                   0   \n",
       "4                           0        1                   0   \n",
       "\n",
       "   x5_trioctylphosphine oxide  Diameter_nm  Absorbance max (nm)  PL max (nm)  \n",
       "0                           0         3.41                566.0        575.0  \n",
       "1                           0         2.50                474.0        617.0  \n",
       "2                           0         1.99                450.4        497.0  \n",
       "3                           0         2.13                471.6        510.0  \n",
       "4                           0         2.27                486.0        517.0  \n",
       "\n",
       "[5 rows x 53 columns]"
      ]
     },
     "execution_count": 3,
     "metadata": {},
     "output_type": "execute_result"
    }
   ],
   "source": [
    "df.head()"
   ]
  },
  {
   "cell_type": "markdown",
   "metadata": {},
   "source": [
    "# Separate X and y data"
   ]
  },
  {
   "cell_type": "code",
   "execution_count": 4,
   "metadata": {},
   "outputs": [],
   "source": [
    "#Separate X and y data\n",
    "X_size = df.drop(columns =['Unnamed: 0','Unnamed: 0.1','Diameter_nm','Absorbance max (nm)', 'PL max (nm)'], \n",
    "                  inplace = False, axis = 1) #keep synthesis parameters that matter\n",
    "y_size = df['Diameter_nm'].values #will predict diameter"
   ]
  },
  {
   "cell_type": "code",
   "execution_count": 5,
   "metadata": {},
   "outputs": [],
   "source": [
    "#Separate X and y data\n",
    "X_abs = df.drop(columns =['Unnamed: 0','Unnamed: 0.1','Diameter_nm','Absorbance max (nm)', 'PL max (nm)'], \n",
    "                  inplace = False, axis = 1) #keep synthesis parameters that matter\n",
    "y_abs = df['Absorbance max (nm)'].values #will predict absorbance"
   ]
  },
  {
   "cell_type": "code",
   "execution_count": 6,
   "metadata": {},
   "outputs": [],
   "source": [
    "#Separate X and y data\n",
    "X_PL = df.drop(columns =['Unnamed: 0','Unnamed: 0.1','Diameter_nm','Absorbance max (nm)', 'PL max (nm)'], \n",
    "                  inplace = False, axis = 1) #keep synthesis parameters that matter\n",
    "y_PL = df['PL max (nm)'].values #will predict PL"
   ]
  },
  {
   "cell_type": "markdown",
   "metadata": {},
   "source": [
    "# Functions for optimising parameters for lowest MSE"
   ]
  },
  {
   "cell_type": "code",
   "execution_count": 7,
   "metadata": {},
   "outputs": [],
   "source": [
    "def set_splitter(random_state):\n",
    "    X_size_train, X_size_test, y_size_train, y_size_test = train_test_split(X_size, y_size, test_size=0.25, random_state=random_state, shuffle=True)"
   ]
  },
  {
   "cell_type": "code",
   "execution_count": 8,
   "metadata": {},
   "outputs": [],
   "source": [
    "def ridge_estimator(X_train, X_test, y_train, y_test, alpha):\n",
    "    ridge = Ridge(alpha=alpha)\n",
    "    ridge.fit(X_train,y_train)\n",
    "    y_predict = ridge.predict(X_test)\n",
    "    return mean_squared_error(y_test, y_predict)"
   ]
  },
  {
   "cell_type": "code",
   "execution_count": 9,
   "metadata": {},
   "outputs": [],
   "source": [
    "def lowest_MSE_calculator(X_train, X_test, y_train, y_test, low, high, step):\n",
    "    MSE_dict = {}\n",
    "    \n",
    "    for alpha in np.arange (low, high, step):\n",
    "        MSE = ridge_estimator(X_train, X_test, y_train, y_test, alpha)\n",
    "        MSE_dict[alpha] = MSE\n",
    "    \n",
    "    print(\"best alpha = \", min(MSE_dict, key=MSE_dict.get))"
   ]
  },
  {
   "cell_type": "code",
   "execution_count": 10,
   "metadata": {},
   "outputs": [],
   "source": [
    "def wrap_fn(X_train, X_test, y_train, y_test):\n",
    "    for random_state in range (0,100):\n",
    "        set_splitter(random_state)\n",
    "        lowest_MSE_calculator(X_train, X_test, y_train, y_test, 0, 1, 0.01)\n",
    "        print(random_state)"
   ]
  },
  {
   "cell_type": "markdown",
   "metadata": {},
   "source": [
    "# SIZE PREDICTION"
   ]
  },
  {
   "cell_type": "code",
   "execution_count": 15,
   "metadata": {},
   "outputs": [
    {
     "name": "stdout",
     "output_type": "stream",
     "text": [
      "best alpha =  0.05\n",
      "0\n",
      "best alpha =  0.05\n",
      "1\n",
      "best alpha =  0.05\n",
      "2\n",
      "best alpha =  0.05\n",
      "3\n",
      "best alpha =  0.05\n",
      "4\n",
      "best alpha =  0.05\n",
      "5\n",
      "best alpha =  0.05\n",
      "6\n",
      "best alpha =  0.05\n",
      "7\n",
      "best alpha =  0.05\n",
      "8\n",
      "best alpha =  0.05\n",
      "9\n",
      "best alpha =  0.05\n",
      "10\n",
      "best alpha =  0.05\n",
      "11\n",
      "best alpha =  0.05\n",
      "12\n",
      "best alpha =  0.05\n",
      "13\n",
      "best alpha =  0.05\n",
      "14\n",
      "best alpha =  0.05\n",
      "15\n",
      "best alpha =  0.05\n",
      "16\n",
      "best alpha =  0.05\n",
      "17\n",
      "best alpha =  0.05\n",
      "18\n",
      "best alpha =  0.05\n",
      "19\n",
      "best alpha =  0.05\n",
      "20\n",
      "best alpha =  0.05\n",
      "21\n",
      "best alpha =  0.05\n",
      "22\n",
      "best alpha =  0.05\n",
      "23\n",
      "best alpha =  0.05\n",
      "24\n",
      "best alpha =  0.05\n",
      "25\n",
      "best alpha =  0.05\n",
      "26\n",
      "best alpha =  0.05\n",
      "27\n",
      "best alpha =  0.05\n",
      "28\n",
      "best alpha =  0.05\n",
      "29\n",
      "best alpha =  0.05\n",
      "30\n",
      "best alpha =  0.05\n",
      "31\n",
      "best alpha =  0.05\n",
      "32\n",
      "best alpha =  0.05\n",
      "33\n",
      "best alpha =  0.05\n",
      "34\n",
      "best alpha =  0.05\n",
      "35\n",
      "best alpha =  0.05\n",
      "36\n",
      "best alpha =  0.05\n",
      "37\n",
      "best alpha =  0.05\n",
      "38\n",
      "best alpha =  0.05\n",
      "39\n",
      "best alpha =  0.05\n",
      "40\n",
      "best alpha =  0.05\n",
      "41\n",
      "best alpha =  0.05\n",
      "42\n",
      "best alpha =  0.05\n",
      "43\n",
      "best alpha =  0.05\n",
      "44\n",
      "best alpha =  0.05\n",
      "45\n",
      "best alpha =  0.05\n",
      "46\n",
      "best alpha =  0.05\n",
      "47\n",
      "best alpha =  0.05\n",
      "48\n",
      "best alpha =  0.05\n",
      "49\n",
      "best alpha =  0.05\n",
      "50\n",
      "best alpha =  0.05\n",
      "51\n",
      "best alpha =  0.05\n",
      "52\n",
      "best alpha =  0.05\n",
      "53\n",
      "best alpha =  0.05\n",
      "54\n",
      "best alpha =  0.05\n",
      "55\n",
      "best alpha =  0.05\n",
      "56\n",
      "best alpha =  0.05\n",
      "57\n",
      "best alpha =  0.05\n",
      "58\n",
      "best alpha =  0.05\n",
      "59\n",
      "best alpha =  0.05\n",
      "60\n",
      "best alpha =  0.05\n",
      "61\n",
      "best alpha =  0.05\n",
      "62\n",
      "best alpha =  0.05\n",
      "63\n",
      "best alpha =  0.05\n",
      "64\n",
      "best alpha =  0.05\n",
      "65\n",
      "best alpha =  0.05\n",
      "66\n",
      "best alpha =  0.05\n",
      "67\n",
      "best alpha =  0.05\n",
      "68\n",
      "best alpha =  0.05\n",
      "69\n",
      "best alpha =  0.05\n",
      "70\n",
      "best alpha =  0.05\n",
      "71\n",
      "best alpha =  0.05\n",
      "72\n",
      "best alpha =  0.05\n",
      "73\n",
      "best alpha =  0.05\n",
      "74\n",
      "best alpha =  0.05\n",
      "75\n",
      "best alpha =  0.05\n",
      "76\n",
      "best alpha =  0.05\n",
      "77\n",
      "best alpha =  0.05\n",
      "78\n",
      "best alpha =  0.05\n",
      "79\n",
      "best alpha =  0.05\n",
      "80\n",
      "best alpha =  0.05\n",
      "81\n",
      "best alpha =  0.05\n",
      "82\n",
      "best alpha =  0.05\n",
      "83\n",
      "best alpha =  0.05\n",
      "84\n",
      "best alpha =  0.05\n",
      "85\n",
      "best alpha =  0.05\n",
      "86\n",
      "best alpha =  0.05\n",
      "87\n",
      "best alpha =  0.05\n",
      "88\n",
      "best alpha =  0.05\n",
      "89\n",
      "best alpha =  0.05\n",
      "90\n",
      "best alpha =  0.05\n",
      "91\n",
      "best alpha =  0.05\n",
      "92\n",
      "best alpha =  0.05\n",
      "93\n",
      "best alpha =  0.05\n",
      "94\n",
      "best alpha =  0.05\n",
      "95\n",
      "best alpha =  0.05\n",
      "96\n",
      "best alpha =  0.05\n",
      "97\n",
      "best alpha =  0.05\n",
      "98\n",
      "best alpha =  0.05\n",
      "99\n"
     ]
    }
   ],
   "source": [
    "wrap_fn(X_size_train, X_size_test, y_size_train, y_size_test)"
   ]
  },
  {
   "cell_type": "code",
   "execution_count": 17,
   "metadata": {},
   "outputs": [],
   "source": [
    "#split dataset into train and test set\n",
    "X_size_train, X_size_test, y_size_train, y_size_test = train_test_split(X_size, y_size, test_size=0.25, random_state=8, shuffle=True)"
   ]
  },
  {
   "cell_type": "code",
   "execution_count": 18,
   "metadata": {
    "scrolled": true
   },
   "outputs": [
    {
     "name": "stdout",
     "output_type": "stream",
     "text": [
      "best alpha =  0.050800000000000005\n"
     ]
    }
   ],
   "source": [
    "lowest_MSE_calculator(X_size_train, X_size_test, y_size_train, y_size_test, 0.0001, 1, 0.0001)"
   ]
  },
  {
   "cell_type": "code",
   "execution_count": 20,
   "metadata": {},
   "outputs": [
    {
     "name": "stdout",
     "output_type": "stream",
     "text": [
      "MSE 1.2321409122657416 R2 0.3194060773367644 MAE 0.70682683875576\n"
     ]
    }
   ],
   "source": [
    "ridge = Ridge(alpha=0.050800000000000005)\n",
    "ridge.fit(X_size_train,y_size_train)\n",
    "y_size_predict = ridge.predict(X_size_test)\n",
    "MSE = mean_squared_error(y_size_test, y_size_predict)\n",
    "R2 = r2_score(y_size_test, y_size_predict)\n",
    "MAE = mean_absolute_error(y_size_test, y_size_predict)\n",
    "\n",
    "print(\"MSE\", MSE, \"R2\", R2, \"MAE\", MAE)\n"
   ]
  },
  {
   "cell_type": "code",
   "execution_count": 13,
   "metadata": {},
   "outputs": [
    {
     "data": {
      "image/png": "[encoded data removed]",
      "text/plain": [
       "<Figure size 432x288 with 1 Axes>"
      ]
     },
     "metadata": {
      "needs_background": "light"
     },
     "output_type": "display_data"
    }
   ],
   "source": [
    "plt.figure()\n",
    "plt.title(\"\")\n",
    "plt.plot(y_size_test,'x', color='magenta', label='Test')\n",
    "plt.plot(y_size_predict,'x', label='Predicted')\n",
    "plt.xlabel('Sample Number')\n",
    "plt.ylabel('Diameter (nm)')\n",
    "plt.legend()\n",
    "plt.legend(bbox_to_anchor=(1.05, 1), loc='upper left', fontsize='small')\n",
    "plt.show()"
   ]
  },
  {
   "cell_type": "code",
   "execution_count": 14,
   "metadata": {
    "scrolled": false
   },
   "outputs": [
    {
     "data": {
      "image/png": "[encoded data removed]",
      "text/plain": [
       "<Figure size 432x288 with 1 Axes>"
      ]
     },
     "metadata": {
      "needs_background": "light"
     },
     "output_type": "display_data"
    }
   ],
   "source": [
    "plt.figure()\n",
    "plt.title(\"\")\n",
    "plt.plot(y_size_test, y_size_predict, 'o')\n",
    "plt.xlabel('Observed Values (nm)')\n",
    "plt.ylabel('Predicted Values (nm)')\n",
    "plt.show()"
   ]
  },
  {
   "cell_type": "markdown",
   "metadata": {},
   "source": [
    "# ABSORBANCE PREDICTION"
   ]
  },
  {
   "cell_type": "code",
   "execution_count": null,
   "metadata": {},
   "outputs": [],
   "source": [
    "wrap_fn(X_abs_train, X_abs_test, y_abs_train, y_abs_test)"
   ]
  },
  {
   "cell_type": "code",
   "execution_count": 12,
   "metadata": {},
   "outputs": [],
   "source": [
    "#split dataset into train and test set\n",
    "X_abs_train, X_abs_test, y_abs_train, y_abs_test = train_test_split(X_abs, y_abs, test_size=0.25, random_state=8, shuffle=True)"
   ]
  },
  {
   "cell_type": "code",
   "execution_count": null,
   "metadata": {
    "scrolled": true
   },
   "outputs": [],
   "source": [
    "lowest_MSE_calculator(X_abs_train, X_abs_test, y_abs_train, y_abs_test, 0.0001, 1, 0.0001)"
   ]
  },
  {
   "cell_type": "code",
   "execution_count": 13,
   "metadata": {},
   "outputs": [
    {
     "name": "stdout",
     "output_type": "stream",
     "text": [
      "MSE 2060.449369587719 R2 0.5973120324604452\n"
     ]
    }
   ],
   "source": [
    "ridge = Ridge(alpha=0.0476)\n",
    "ridge.fit(X_abs_train,y_abs_train)\n",
    "y_abs_predict = ridge.predict(X_abs_test)\n",
    "MSE = mean_squared_error(y_abs_test, y_abs_predict)\n",
    "R2 = r2_score(y_abs_test, y_abs_predict)\n",
    "\n",
    "print(\"MSE\", MSE, \"R2\", R2)\n"
   ]
  },
  {
   "cell_type": "code",
   "execution_count": 17,
   "metadata": {},
   "outputs": [
    {
     "data": {
      "image/png": "[encoded data removed]",
      "text/plain": [
       "<Figure size 432x288 with 1 Axes>"
      ]
     },
     "metadata": {
      "needs_background": "light"
     },
     "output_type": "display_data"
    }
   ],
   "source": [
    "plt.figure()\n",
    "plt.title(\"\")\n",
    "plt.plot(y_abs_test,'x', color='magenta', label='Test')\n",
    "plt.plot(y_abs_predict,'x', label='Predicted')\n",
    "plt.xlabel('Sample Number')\n",
    "plt.ylabel('Absorbance (nm)')\n",
    "plt.legend()\n",
    "plt.legend(bbox_to_anchor=(1.05, 1), loc='upper left', fontsize='small')\n",
    "plt.show()"
   ]
  },
  {
   "cell_type": "code",
   "execution_count": 18,
   "metadata": {
    "scrolled": false
   },
   "outputs": [
    {
     "data": {
      "image/png": "[encoded data removed]",
      "text/plain": [
       "<Figure size 432x288 with 1 Axes>"
      ]
     },
     "metadata": {
      "needs_background": "light"
     },
     "output_type": "display_data"
    }
   ],
   "source": [
    "plt.figure()\n",
    "plt.title(\"\")\n",
    "plt.plot(y_abs_test, y_abs_predict, 'o')\n",
    "plt.xlabel('Observed Values (nm)')\n",
    "plt.ylabel('Predicted Values (nm)')\n",
    "plt.show()"
   ]
  },
  {
   "cell_type": "markdown",
   "metadata": {},
   "source": [
    "# PL PREDICTION"
   ]
  },
  {
   "cell_type": "code",
   "execution_count": null,
   "metadata": {},
   "outputs": [],
   "source": [
    "wrap_fn(X_PL_train, X_PL_test, y_PL_train, y_PL_test)"
   ]
  },
  {
   "cell_type": "code",
   "execution_count": 14,
   "metadata": {},
   "outputs": [],
   "source": [
    "#split dataset into train and test set\n",
    "X_PL_train, X_PL_test, y_PL_train, y_PL_test = train_test_split(X_PL, y_PL, test_size=0.25, random_state=8, shuffle=True)"
   ]
  },
  {
   "cell_type": "code",
   "execution_count": null,
   "metadata": {
    "scrolled": true
   },
   "outputs": [],
   "source": [
    "lowest_MSE_calculator(X_PL_train, X_PL_test, y_PL_train, y_PL_test, 0.0001, 1, 0.0001)"
   ]
  },
  {
   "cell_type": "code",
   "execution_count": 15,
   "metadata": {},
   "outputs": [
    {
     "name": "stdout",
     "output_type": "stream",
     "text": [
      "MSE 1288.7991576397267 R2 0.2635158685736818\n"
     ]
    }
   ],
   "source": [
    "ridge = Ridge(alpha=0.057800000000000004)\n",
    "ridge.fit(X_PL_train,y_PL_train)\n",
    "y_PL_predict = ridge.predict(X_PL_test)\n",
    "MSE = mean_squared_error(y_PL_test, y_PL_predict)\n",
    "R2 = r2_score(y_PL_test, y_PL_predict)\n",
    "\n",
    "print(\"MSE\", MSE, \"R2\", R2)"
   ]
  },
  {
   "cell_type": "code",
   "execution_count": 21,
   "metadata": {},
   "outputs": [
    {
     "data": {
      "image/png": "[encoded data removed]",
      "text/plain": [
       "<Figure size 432x288 with 1 Axes>"
      ]
     },
     "metadata": {
      "needs_background": "light"
     },
     "output_type": "display_data"
    }
   ],
   "source": [
    "plt.figure()\n",
    "plt.title(\"\")\n",
    "plt.plot(y_PL_test,'x', color='magenta', label='Test')\n",
    "plt.plot(y_PL_predict,'x', label='Predicted')\n",
    "plt.xlabel('Sample Number')\n",
    "plt.ylabel('PL (nm)')\n",
    "plt.legend()\n",
    "plt.legend(bbox_to_anchor=(1.05, 1), loc='upper left', fontsize='small')\n",
    "plt.show()"
   ]
  },
  {
   "cell_type": "code",
   "execution_count": 22,
   "metadata": {
    "scrolled": true
   },
   "outputs": [
    {
     "data": {
      "image/png": "[encoded data removed]",
      "text/plain": [
       "<Figure size 432x288 with 1 Axes>"
      ]
     },
     "metadata": {
      "needs_background": "light"
     },
     "output_type": "display_data"
    }
   ],
   "source": [
    "plt.figure()\n",
    "plt.title(\"\")\n",
    "plt.plot(y_PL_test, y_PL_predict, 'o')\n",
    "plt.xlabel('Observed Values (nm)')\n",
    "plt.ylabel('Predicted Values (nm)')\n",
    "plt.show()"
   ]
  },
  {
   "cell_type": "code",
   "execution_count": null,
   "metadata": {},
   "outputs": [],
   "source": []
  }
 ],
 "metadata": {
  "kernelspec": {
   "display_name": "Python 3",
   "language": "python",
   "name": "python3"
  },
  "language_info": {
   "codemirror_mode": {
    "name": "ipython",
    "version": 3
   },
   "file_extension": ".py",
   "mimetype": "text/x-python",
   "name": "python",
   "nbconvert_exporter": "python",
   "pygments_lexer": "ipython3",
   "version": "3.8.5"
  }
 },
 "nbformat": 4,
 "nbformat_minor": 4
}
