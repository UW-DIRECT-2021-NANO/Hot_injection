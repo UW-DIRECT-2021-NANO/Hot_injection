{
 "cells": [
  {
   "cell_type": "code",
   "execution_count": 1,
   "metadata": {},
   "outputs": [
    {
     "name": "stderr",
     "output_type": "stream",
     "text": [
      "\n",
      "Bad key \"text.kerning_factor\" on line 4 in\n",
      "/Users/harrisonsarsito/opt/anaconda3/lib/python3.7/site-packages/matplotlib/mpl-data/stylelib/_classic_test_patch.mplstyle.\n",
      "You probably need to get an updated matplotlibrc file from\n",
      "https://github.com/matplotlib/matplotlib/blob/v3.1.3/matplotlibrc.template\n",
      "or from the matplotlib source distribution\n"
     ]
    }
   ],
   "source": [
    "import numpy as np\n",
    "import pandas as pd\n",
    "import matplotlib\n",
    "from matplotlib import pyplot as plt\n",
    "\n",
    "import sklearn  \n",
    "from sklearn import metrics\n",
    "from sklearn.datasets import make_regression\n",
    "from sklearn import linear_model, datasets\n",
    "from sklearn.neighbors import KNeighborsRegressor\n",
    "from sklearn.model_selection import train_test_split, KFold\n",
    "from sklearn.metrics import r2_score, mean_squared_error, mean_absolute_error\n",
    "\n",
    "from tqdm import tqdm\n",
    "\n",
    "%matplotlib inline\n",
    "matplotlib.rcParams.update({'font.size': 22})"
   ]
  },
  {
   "cell_type": "code",
   "execution_count": 15,
   "metadata": {},
   "outputs": [],
   "source": [
    "df = pd.read_csv(\"augmented_data.csv\")"
   ]
  },
  {
   "cell_type": "code",
   "execution_count": 16,
   "metadata": {},
   "outputs": [
    {
     "data": {
      "text/html": [
       "<div>\n",
       "<style scoped>\n",
       "    .dataframe tbody tr th:only-of-type {\n",
       "        vertical-align: middle;\n",
       "    }\n",
       "\n",
       "    .dataframe tbody tr th {\n",
       "        vertical-align: top;\n",
       "    }\n",
       "\n",
       "    .dataframe thead th {\n",
       "        text-align: right;\n",
       "    }\n",
       "</style>\n",
       "<table border=\"1\" class=\"dataframe\">\n",
       "  <thead>\n",
       "    <tr style=\"text-align: right;\">\n",
       "      <th></th>\n",
       "      <th>Unnamed: 0</th>\n",
       "      <th>Unnamed: 0.1</th>\n",
       "      <th>Growth Temp (Celsius)</th>\n",
       "      <th>Metal_mmol (mmol)</th>\n",
       "      <th>Chalcogen_mmol (mmol)</th>\n",
       "      <th>CA_mmol (mmol)</th>\n",
       "      <th>Amines_mmol (mmol)</th>\n",
       "      <th>Phosphines_mmol (mmol)</th>\n",
       "      <th>S_I_amount (g)</th>\n",
       "      <th>S_II_amount (g)</th>\n",
       "      <th>...</th>\n",
       "      <th>x4_liquid parafin</th>\n",
       "      <th>x4_octadecene</th>\n",
       "      <th>x4_phenyl ether</th>\n",
       "      <th>x4_trioctylphosphine oxide</th>\n",
       "      <th>x5_None</th>\n",
       "      <th>x5_phosphinic acid</th>\n",
       "      <th>x5_trioctylphosphine oxide</th>\n",
       "      <th>Diameter_nm</th>\n",
       "      <th>Absorbance max (nm)</th>\n",
       "      <th>PL max (nm)</th>\n",
       "    </tr>\n",
       "  </thead>\n",
       "  <tbody>\n",
       "    <tr>\n",
       "      <td>0</td>\n",
       "      <td>0</td>\n",
       "      <td>0</td>\n",
       "      <td>1.105103</td>\n",
       "      <td>-0.437486</td>\n",
       "      <td>-0.243779</td>\n",
       "      <td>-0.525437</td>\n",
       "      <td>-0.416112</td>\n",
       "      <td>-0.165455</td>\n",
       "      <td>-0.123360</td>\n",
       "      <td>-0.302087</td>\n",
       "      <td>...</td>\n",
       "      <td>0</td>\n",
       "      <td>1</td>\n",
       "      <td>0</td>\n",
       "      <td>0</td>\n",
       "      <td>1</td>\n",
       "      <td>0</td>\n",
       "      <td>0</td>\n",
       "      <td>3.41</td>\n",
       "      <td>566.0</td>\n",
       "      <td>575.0</td>\n",
       "    </tr>\n",
       "    <tr>\n",
       "      <td>1</td>\n",
       "      <td>1</td>\n",
       "      <td>1</td>\n",
       "      <td>-0.062540</td>\n",
       "      <td>-0.472027</td>\n",
       "      <td>-0.436361</td>\n",
       "      <td>-0.305510</td>\n",
       "      <td>-0.498129</td>\n",
       "      <td>-0.375671</td>\n",
       "      <td>-0.241193</td>\n",
       "      <td>-0.302087</td>\n",
       "      <td>...</td>\n",
       "      <td>0</td>\n",
       "      <td>1</td>\n",
       "      <td>0</td>\n",
       "      <td>0</td>\n",
       "      <td>1</td>\n",
       "      <td>0</td>\n",
       "      <td>0</td>\n",
       "      <td>2.50</td>\n",
       "      <td>474.0</td>\n",
       "      <td>617.0</td>\n",
       "    </tr>\n",
       "    <tr>\n",
       "      <td>2</td>\n",
       "      <td>2</td>\n",
       "      <td>2</td>\n",
       "      <td>0.326674</td>\n",
       "      <td>-0.472027</td>\n",
       "      <td>-0.587674</td>\n",
       "      <td>-0.525437</td>\n",
       "      <td>-0.498129</td>\n",
       "      <td>-0.451959</td>\n",
       "      <td>-0.527427</td>\n",
       "      <td>-0.302087</td>\n",
       "      <td>...</td>\n",
       "      <td>0</td>\n",
       "      <td>1</td>\n",
       "      <td>0</td>\n",
       "      <td>0</td>\n",
       "      <td>1</td>\n",
       "      <td>0</td>\n",
       "      <td>0</td>\n",
       "      <td>1.99</td>\n",
       "      <td>450.4</td>\n",
       "      <td>497.0</td>\n",
       "    </tr>\n",
       "    <tr>\n",
       "      <td>3</td>\n",
       "      <td>3</td>\n",
       "      <td>3</td>\n",
       "      <td>0.326674</td>\n",
       "      <td>-0.472027</td>\n",
       "      <td>-0.587674</td>\n",
       "      <td>-0.525437</td>\n",
       "      <td>-0.498129</td>\n",
       "      <td>-0.445602</td>\n",
       "      <td>-0.527427</td>\n",
       "      <td>-0.302087</td>\n",
       "      <td>...</td>\n",
       "      <td>0</td>\n",
       "      <td>1</td>\n",
       "      <td>0</td>\n",
       "      <td>0</td>\n",
       "      <td>1</td>\n",
       "      <td>0</td>\n",
       "      <td>0</td>\n",
       "      <td>2.13</td>\n",
       "      <td>471.6</td>\n",
       "      <td>510.0</td>\n",
       "    </tr>\n",
       "    <tr>\n",
       "      <td>4</td>\n",
       "      <td>4</td>\n",
       "      <td>4</td>\n",
       "      <td>0.326674</td>\n",
       "      <td>-0.472027</td>\n",
       "      <td>-0.587674</td>\n",
       "      <td>-0.525437</td>\n",
       "      <td>-0.498129</td>\n",
       "      <td>-0.445602</td>\n",
       "      <td>-0.527427</td>\n",
       "      <td>-0.302087</td>\n",
       "      <td>...</td>\n",
       "      <td>0</td>\n",
       "      <td>1</td>\n",
       "      <td>0</td>\n",
       "      <td>0</td>\n",
       "      <td>1</td>\n",
       "      <td>0</td>\n",
       "      <td>0</td>\n",
       "      <td>2.27</td>\n",
       "      <td>486.0</td>\n",
       "      <td>517.0</td>\n",
       "    </tr>\n",
       "  </tbody>\n",
       "</table>\n",
       "<p>5 rows × 53 columns</p>\n",
       "</div>"
      ],
      "text/plain": [
       "   Unnamed: 0  Unnamed: 0.1  Growth Temp (Celsius)  Metal_mmol (mmol)  \\\n",
       "0           0             0               1.105103          -0.437486   \n",
       "1           1             1              -0.062540          -0.472027   \n",
       "2           2             2               0.326674          -0.472027   \n",
       "3           3             3               0.326674          -0.472027   \n",
       "4           4             4               0.326674          -0.472027   \n",
       "\n",
       "   Chalcogen_mmol (mmol)  CA_mmol (mmol)  Amines_mmol (mmol)  \\\n",
       "0              -0.243779       -0.525437           -0.416112   \n",
       "1              -0.436361       -0.305510           -0.498129   \n",
       "2              -0.587674       -0.525437           -0.498129   \n",
       "3              -0.587674       -0.525437           -0.498129   \n",
       "4              -0.587674       -0.525437           -0.498129   \n",
       "\n",
       "   Phosphines_mmol (mmol)  S_I_amount (g)  S_II_amount (g)  ...  \\\n",
       "0               -0.165455       -0.123360        -0.302087  ...   \n",
       "1               -0.375671       -0.241193        -0.302087  ...   \n",
       "2               -0.451959       -0.527427        -0.302087  ...   \n",
       "3               -0.445602       -0.527427        -0.302087  ...   \n",
       "4               -0.445602       -0.527427        -0.302087  ...   \n",
       "\n",
       "   x4_liquid parafin  x4_octadecene  x4_phenyl ether  \\\n",
       "0                  0              1                0   \n",
       "1                  0              1                0   \n",
       "2                  0              1                0   \n",
       "3                  0              1                0   \n",
       "4                  0              1                0   \n",
       "\n",
       "   x4_trioctylphosphine oxide  x5_None  x5_phosphinic acid  \\\n",
       "0                           0        1                   0   \n",
       "1                           0        1                   0   \n",
       "2                           0        1                   0   \n",
       "3                           0        1                   0   \n",
       "4                           0        1                   0   \n",
       "\n",
       "   x5_trioctylphosphine oxide  Diameter_nm  Absorbance max (nm)  PL max (nm)  \n",
       "0                           0         3.41                566.0        575.0  \n",
       "1                           0         2.50                474.0        617.0  \n",
       "2                           0         1.99                450.4        497.0  \n",
       "3                           0         2.13                471.6        510.0  \n",
       "4                           0         2.27                486.0        517.0  \n",
       "\n",
       "[5 rows x 53 columns]"
      ]
     },
     "execution_count": 16,
     "metadata": {},
     "output_type": "execute_result"
    }
   ],
   "source": [
    "df.head()"
   ]
  },
  {
   "cell_type": "code",
   "execution_count": 17,
   "metadata": {},
   "outputs": [],
   "source": [
    "#Separate X and y data\n",
    "X = df.drop(columns =['Unnamed: 0','Unnamed: 0.1','Diameter_nm','Absorbance max (nm)', 'PL max (nm)'], \n",
    "                  inplace = False, axis = 1) #keep synthesis parameters that matter\n",
    "y_size = df['Diameter_nm'].values #will predict diameter\n",
    "y_abs = df['Absorbance max (nm)'].values #will predict absorbance\n",
    "y_PL = df['PL max (nm)'].values #will predict PL"
   ]
  },
  {
   "cell_type": "markdown",
   "metadata": {},
   "source": [
    "# Size prediction"
   ]
  },
  {
   "cell_type": "code",
   "execution_count": 18,
   "metadata": {},
   "outputs": [],
   "source": [
    "#split dataset into train and test set\n",
    "X_train, X_test, y_size_train, y_size_test = train_test_split(X, y_size, test_size=0.25, random_state=8, shuffle=True)"
   ]
  },
  {
   "cell_type": "code",
   "execution_count": 19,
   "metadata": {
    "scrolled": true
   },
   "outputs": [
    {
     "name": "stdout",
     "output_type": "stream",
     "text": [
      "MSE 0.6989643801694915 R2 0.6139151743393838\n",
      "MSE 0.9528905905932205 R2 0.4736547269352782\n",
      "MSE 1.1579594271939737 R2 0.3603814782924384\n",
      "MSE 1.3778075232838984 R2 0.23894465510251495\n",
      "MSE 1.231725672786441 R2 0.3196354419031452\n",
      "MSE 1.188071373408663 R2 0.34374863428144464\n",
      "MSE 1.2236464862365968 R2 0.3240981175688491\n",
      "MSE 1.2753286200794494 R2 0.29555061471949373\n",
      "MSE 1.340805511615401 R2 0.2593833435814039\n",
      "MSE 1.3655658232101695 R2 0.24570656568458082\n",
      "MSE 1.3458567224373164 R2 0.25659322164546006\n",
      "MSE 1.3559976975082397 R2 0.25099168213448153\n",
      "MSE 1.3386804038010234 R2 0.26055718291185026\n",
      "MSE 1.3132710377135939 R2 0.274592477061794\n",
      "MSE 1.2840589213227873 R2 0.2907282848138104\n",
      "MSE 1.2708074416426112 R2 0.29804796428134694\n",
      "MSE 1.294354680315524 R2 0.28504124777940454\n",
      "MSE 1.3537696582088306 R2 0.2522223774157901\n",
      "MSE 1.3717154070181696 R2 0.2423097388079074\n",
      "MSE 1.3972106838470337 R2 0.22822699040339745\n",
      "MSE 1.4128728851001189 R2 0.21957570800358128\n",
      "MSE 1.4266728037550775 R2 0.21195308897006415\n",
      "MSE 1.4417270232023969 R2 0.20363763562841397\n",
      "MSE 1.458236069815207 R2 0.1945185838366985\n",
      "MSE 1.458387265864407 R2 0.19443506813553824\n",
      "MSE 1.461415203091465 R2 0.19276253567238677\n",
      "MSE 1.4785971221080652 R2 0.18327181140052862\n",
      "MSE 1.4866330815014268 R2 0.17883301298758303\n",
      "MSE 1.4928526279489713 R2 0.17539754106080763\n",
      "MSE 1.4825096626433145 R2 0.18111065330249287\n",
      "MSE 1.4772682041094196 R2 0.1840058617876168\n",
      "MSE 1.4730884100630628 R2 0.18631464189354108\n",
      "MSE 1.4631449717332028 R2 0.1918070686365465\n",
      "MSE 1.4579687846227496 R2 0.19466622334431782\n",
      "MSE 1.4536921389905224 R2 0.19702850106572356\n",
      "MSE 1.4514125410179959 R2 0.19828767565425676\n",
      "MSE 1.4547486388431492 R2 0.19644492546017844\n",
      "MSE 1.448883800568454 R2 0.19968446831394215\n",
      "MSE 1.4548553376855102 R2 0.1963859885456234\n",
      "MSE 1.4643897224322036 R2 0.19111950948439327\n",
      "MSE 1.4824011849959167 R2 0.18117057277016801\n",
      "MSE 1.48260218124534 R2 0.1810595490840995\n",
      "MSE 1.4806217772401944 R2 0.18215345881220146\n",
      "MSE 1.4783806125972654 R2 0.18339140409953103\n",
      "MSE 1.4771623381111534 R2 0.1840643386666162\n",
      "MSE 1.476715181525584 R2 0.1843113331877686\n",
      "MSE 1.4751922299686189 R2 0.18515256130044844\n",
      "MSE 1.478386837033751 R2 0.18338796592650874\n",
      "MSE 1.4837952534774352 R2 0.18040053540930068\n",
      "MSE 1.495428236454712 R2 0.17397486003567753\n",
      "MSE 1.5000316311794026 R2 0.1714320969133304\n",
      "MSE 1.5035575856349663 R2 0.16948447619060703\n",
      "MSE 1.5107438907962907 R2 0.16551499869780406\n",
      "MSE 1.5135634871326522 R2 0.1639575468578497\n",
      "MSE 1.5246170656031377 R2 0.15785191538680332\n",
      "MSE 1.5273821629211346 R2 0.15632456700362152\n",
      "MSE 1.5332615400747556 R2 0.15307699335359048\n",
      "MSE 1.5318778164039484 R2 0.15384131658287503\n",
      "MSE 1.5386352658131064 R2 0.150108724835621\n",
      "MSE 1.5339389196514124 R2 0.15270283126009987\n",
      "MSE 1.530215885224812 R2 0.15475931244612806\n",
      "MSE 1.5352058443688603 R2 0.15200302391291798\n",
      "MSE 1.5366052890370716 R2 0.1512300169241827\n",
      "MSE 1.5352675401845948 R2 0.15196894518310333\n",
      "MSE 1.5360089495616085 R2 0.15155941514382143\n",
      "MSE 1.539468353126644 R2 0.14964855493378826\n",
      "MSE 1.5446645831935693 R2 0.1467783291592003\n",
      "MSE 1.5471744940822019 R2 0.1453919373267204\n",
      "MSE 1.558271316502942 R2 0.13926241932659078\n",
      "MSE 1.5543168372427187 R2 0.14144674299039695\n",
      "MSE 1.5483920702643748 R2 0.14471938847965504\n",
      "MSE 1.5466456363543626 R2 0.14568406085897034\n",
      "MSE 1.5562210893687878 R2 0.14039489704378527\n",
      "MSE 1.571037396770159 R2 0.13221085845428615\n",
      "MSE 1.5698424106519622 R2 0.13287092929652122\n",
      "MSE 1.5665343469040212 R2 0.13469819439276032\n",
      "MSE 1.5638704345582044 R2 0.13616965154106364\n",
      "MSE 1.562551916988015 R2 0.13689795707516483\n",
      "MSE 1.5660850719387642 R2 0.13494635903684815\n",
      "MSE 1.566937290365731 R2 0.13447562174016303\n",
      "MSE 1.5751695635299494 R2 0.12992838608757207\n",
      "MSE 1.5842414489900083 R2 0.12491737634854849\n",
      "MSE 1.595243866252365 R2 0.11884000463820155\n",
      "MSE 1.5987174413323917 R2 0.11692131655159821\n",
      "MSE 1.6021804591991087 R2 0.11500845992075426\n",
      "MSE 1.6066242538770614 R2 0.11255385459008915\n",
      "MSE 1.6121755506875732 R2 0.10948750167986354\n",
      "MSE 1.6191739737516413 R2 0.10562180404884158\n",
      "MSE 1.625728463065013 R2 0.10200132075148982\n",
      "MSE 1.6328368379940155 R2 0.09807488934374231\n",
      "MSE 1.6301245393513233 R2 0.09957307348346833\n",
      "MSE 1.6346375188935791 R2 0.09708025272004217\n",
      "MSE 1.6389838368006489 R2 0.09467949033640011\n",
      "MSE 1.6457889755616855 R2 0.09092055656710851\n",
      "MSE 1.6448553388311569 R2 0.09143626664413573\n",
      "MSE 1.648084092086662 R2 0.0896528100430275\n",
      "MSE 1.6469703469170882 R2 0.09026800606992802\n",
      "MSE 1.6502701834717701 R2 0.08844528540336982\n",
      "MSE 1.654372166458023 R2 0.08617948555570631\n"
     ]
    }
   ],
   "source": [
    "for neighbors in np.arange (1, 100, 1):\n",
    "    knn = KNeighborsRegressor(n_neighbors=neighbors)\n",
    "    knn.fit(X_train,y_size_train)\n",
    "    y_size_predict = knn.predict(X_test)\n",
    "    MSE = mean_squared_error(y_size_test, y_size_predict)\n",
    "    R2 = r2_score(y_size_test, y_size_predict)\n",
    "    print(\"MSE\", MSE, \"R2\", R2)    \n"
   ]
  },
  {
   "cell_type": "code",
   "execution_count": 20,
   "metadata": {},
   "outputs": [
    {
     "name": "stdout",
     "output_type": "stream",
     "text": [
      "MSE 0.6989643801694915 R2 0.6139151743393838\n"
     ]
    }
   ],
   "source": [
    "knn = KNeighborsRegressor(n_neighbors=1)\n",
    "knn.fit(X_train,y_size_train)\n",
    "y_size_predict = knn.predict(X_test)\n",
    "MSE = mean_squared_error(y_size_test, y_size_predict)\n",
    "R2 = r2_score(y_size_test, y_size_predict)\n",
    "\n",
    "print(\"MSE\", MSE, \"R2\", R2)"
   ]
  },
  {
   "cell_type": "code",
   "execution_count": 70,
   "metadata": {},
   "outputs": [
    {
     "data": {
      "text/plain": [
       "5"
      ]
     },
     "execution_count": 70,
     "metadata": {},
     "output_type": "execute_result"
    }
   ],
   "source": [
    "kf = KFold(n_splits=5)\n",
    "kf.get_n_splits(X)"
   ]
  },
  {
   "cell_type": "code",
   "execution_count": 71,
   "metadata": {},
   "outputs": [
    {
     "data": {
      "text/plain": [
       "<generator object _BaseKFold.split at 0x7f3b63b87270>"
      ]
     },
     "execution_count": 71,
     "metadata": {},
     "output_type": "execute_result"
    }
   ],
   "source": [
    "kf.split(X)"
   ]
  },
  {
   "cell_type": "code",
   "execution_count": 77,
   "metadata": {},
   "outputs": [
    {
     "data": {
      "image/png": "[encoded data removed]",
      "text/plain": [
       "<Figure size 432x288 with 1 Axes>"
      ]
     },
     "metadata": {
      "needs_background": "light"
     },
     "output_type": "display_data"
    }
   ],
   "source": [
    "plt.figure()\n",
    "plt.title(\"\")\n",
    "plt.plot(y_size_test, y_size_predict, 'o')\n",
    "plt.xlabel('Observed Values (nm)')\n",
    "plt.ylabel('Predicted Values (nm)')\n",
    "plt.show()"
   ]
  },
  {
   "cell_type": "markdown",
   "metadata": {},
   "source": [
    "# Abs prediction"
   ]
  },
  {
   "cell_type": "code",
   "execution_count": 17,
   "metadata": {},
   "outputs": [],
   "source": [
    "#split dataset into train and test set\n",
    "X_train, X_test, y_abs_train, y_abs_test = train_test_split(X, y_abs, test_size=0.25, random_state=8, shuffle=True)"
   ]
  },
  {
   "cell_type": "code",
   "execution_count": null,
   "metadata": {
    "scrolled": true
   },
   "outputs": [],
   "source": [
    "for neighbors in np.arange (1, 100, 1):\n",
    "    knn = KNeighborsRegressor(n_neighbors=neighbors)\n",
    "    knn.fit(X_train,y_abs_train)\n",
    "    y_abs_predict = knn.predict(X_test)\n",
    "    MSE = mean_squared_error(y_abs_test, y_abs_predict)\n",
    "    R2 = r2_score(y_abs_test, y_abs_predict)\n",
    "    print(\"MSE\", MSE, \"R2\", R2)    \n"
   ]
  },
  {
   "cell_type": "code",
   "execution_count": 45,
   "metadata": {},
   "outputs": [
    {
     "name": "stdout",
     "output_type": "stream",
     "text": [
      "MSE 1261.5064406779659 R2 0.7534550122256516\n"
     ]
    }
   ],
   "source": [
    "knn = KNeighborsRegressor(n_neighbors=1)\n",
    "knn.fit(X_train,y_abs_train)\n",
    "y_abs_predict = knn.predict(X_test)\n",
    "MSE = mean_squared_error(y_abs_test, y_abs_predict)\n",
    "R2 = r2_score(y_abs_test, y_abs_predict)\n",
    "\n",
    "print(\"MSE\", MSE, \"R2\", R2)"
   ]
  },
  {
   "cell_type": "code",
   "execution_count": 46,
   "metadata": {},
   "outputs": [
    {
     "data": {
      "image/png": "[encoded data removed]",
      "text/plain": [
       "<Figure size 432x288 with 1 Axes>"
      ]
     },
     "metadata": {
      "needs_background": "light"
     },
     "output_type": "display_data"
    }
   ],
   "source": [
    "plt.figure()\n",
    "plt.title(\"\")\n",
    "plt.plot(y_abs_test, y_abs_predict, 'o')\n",
    "plt.xlabel('Observed Values (nm)')\n",
    "plt.ylabel('Predicted Values (nm)')\n",
    "plt.show()"
   ]
  },
  {
   "cell_type": "markdown",
   "metadata": {},
   "source": [
    "# PL prediction"
   ]
  },
  {
   "cell_type": "code",
   "execution_count": 19,
   "metadata": {},
   "outputs": [],
   "source": [
    "#split dataset into train and test set\n",
    "X_train, X_test, y_PL_train, y_PL_test = train_test_split(X, y_PL, test_size=0.25, random_state=8, shuffle=True)"
   ]
  },
  {
   "cell_type": "code",
   "execution_count": null,
   "metadata": {
    "scrolled": true
   },
   "outputs": [],
   "source": [
    "for neighbors in np.arange (1, 100, 1):\n",
    "    knn = KNeighborsRegressor(n_neighbors=neighbors)\n",
    "    knn.fit(X_train,y_PL_train)\n",
    "    y_PL_predict = knn.predict(X_test)\n",
    "    MSE = mean_squared_error(y_PL_test, y_PL_predict)\n",
    "    R2 = r2_score(y_PL_test, y_PL_predict)\n",
    "    print(\"MSE\", MSE, \"R2\", R2)    \n"
   ]
  },
  {
   "cell_type": "code",
   "execution_count": 59,
   "metadata": {
    "scrolled": true
   },
   "outputs": [
    {
     "name": "stdout",
     "output_type": "stream",
     "text": [
      "MSE 1091.4261501651333 R2 0.37630465115105294\n"
     ]
    }
   ],
   "source": [
    "knn = KNeighborsRegressor(n_neighbors=1)\n",
    "knn.fit(X_train,y_PL_train)\n",
    "y_PL_predict = knn.predict(X_test)\n",
    "MSE = mean_squared_error(y_PL_test, y_PL_predict)\n",
    "R2 = r2_score(y_PL_test, y_PL_predict)\n",
    "\n",
    "print(\"MSE\", MSE, \"R2\", R2)"
   ]
  },
  {
   "cell_type": "code",
   "execution_count": 61,
   "metadata": {},
   "outputs": [
    {
     "data": {
      "image/png": "[encoded data removed]",
      "text/plain": [
       "<Figure size 432x288 with 1 Axes>"
      ]
     },
     "metadata": {
      "needs_background": "light"
     },
     "output_type": "display_data"
    }
   ],
   "source": [
    "plt.figure()\n",
    "plt.title(\"\")\n",
    "plt.plot(y_PL_test, y_PL_predict, 'o')\n",
    "plt.xlabel('Observed Values (nm)')\n",
    "plt.ylabel('Predicted Values (nm)')\n",
    "plt.show()"
   ]
  },
  {
   "cell_type": "code",
   "execution_count": null,
   "metadata": {},
   "outputs": [],
   "source": []
  }
 ],
 "metadata": {
  "kernelspec": {
   "display_name": "Python 3",
   "language": "python",
   "name": "python3"
  },
  "language_info": {
   "codemirror_mode": {
    "name": "ipython",
    "version": 3
   },
   "file_extension": ".py",
   "mimetype": "text/x-python",
   "name": "python",
   "nbconvert_exporter": "python",
   "pygments_lexer": "ipython3",
   "version": "3.7.4"
  }
 },
 "nbformat": 4,
 "nbformat_minor": 4
}
