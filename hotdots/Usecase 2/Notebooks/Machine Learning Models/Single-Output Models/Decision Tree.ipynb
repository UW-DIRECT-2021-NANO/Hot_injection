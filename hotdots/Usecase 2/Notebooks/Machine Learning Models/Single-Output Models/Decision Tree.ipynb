{
 "cells": [
  {
   "cell_type": "markdown",
   "metadata": {},
   "source": [
    "#### In this notebook decision tree will be use to predict diameter, absorbance, and PL output.\n",
    "* Optimization will be run to find the optimized max_depth number \n",
    "* The skill of the model will be reported as an error in those predictions: \n",
    "    * MSE\n",
    "    * R2\n",
    "    * RMSE\n",
    "    * MAE"
   ]
  },
  {
   "cell_type": "code",
   "execution_count": 24,
   "metadata": {},
   "outputs": [
    {
     "name": "stdout",
     "output_type": "stream",
     "text": [
      "The autoreload extension is already loaded. To reload it, use:\n",
      "  %reload_ext autoreload\n"
     ]
    }
   ],
   "source": [
    "# Pandas library for the pandas dataframes\n",
    "import pandas as pd    \n",
    "import numpy as np\n",
    "import scipy.stats as stats\n",
    "import scipy\n",
    "\n",
    "# Import Scikit-Learn library for decision tree models\n",
    "import sklearn         \n",
    "from sklearn import linear_model, datasets\n",
    "from sklearn.utils import resample\n",
    "from sklearn import tree\n",
    "from sklearn.tree import DecisionTreeRegressor, DecisionTreeClassifier\n",
    "from sklearn.ensemble import BaggingRegressor, BaggingClassifier, RandomForestRegressor, RandomForestClassifier, GradientBoostingClassifier, GradientBoostingRegressor\n",
    "from sklearn.model_selection import train_test_split, LeaveOneOut, KFold, cross_validate, RandomizedSearchCV\n",
    "from sklearn.metrics import r2_score, mean_squared_error, accuracy_score\n",
    "from sklearn import metrics\n",
    "from sklearn.utils import resample\n",
    "from sklearn.linear_model import Lasso\n",
    "from pandas import DataFrame\n",
    "\n",
    "\n",
    "# Import plotting libraries\n",
    "import seaborn as sns\n",
    "import matplotlib \n",
    "from matplotlib import pyplot as plt\n",
    "from tqdm import tqdm\n",
    "\n",
    "# Set larger fontsize for all plots\n",
    "matplotlib.rcParams.update({'font.size': 18})\n",
    "from IPython.display import clear_output\n",
    "\n",
    "# Command to automatically reload modules before executing cells\n",
    "# not needed here but might be if you are writing your own library \n",
    "%load_ext autoreload\n",
    "%autoreload 2"
   ]
  },
  {
   "cell_type": "code",
   "execution_count": 3,
   "metadata": {},
   "outputs": [
    {
     "data": {
      "text/html": [
       "<div>\n",
       "<style scoped>\n",
       "    .dataframe tbody tr th:only-of-type {\n",
       "        vertical-align: middle;\n",
       "    }\n",
       "\n",
       "    .dataframe tbody tr th {\n",
       "        vertical-align: top;\n",
       "    }\n",
       "\n",
       "    .dataframe thead th {\n",
       "        text-align: right;\n",
       "    }\n",
       "</style>\n",
       "<table border=\"1\" class=\"dataframe\">\n",
       "  <thead>\n",
       "    <tr style=\"text-align: right;\">\n",
       "      <th></th>\n",
       "      <th>Unnamed: 0</th>\n",
       "      <th>Unnamed: 0.1</th>\n",
       "      <th>Growth Temp (Celsius)</th>\n",
       "      <th>Metal_mmol (mmol)</th>\n",
       "      <th>Chalcogen_mmol (mmol)</th>\n",
       "      <th>CA_mmol (mmol)</th>\n",
       "      <th>Amines_mmol (mmol)</th>\n",
       "      <th>Phosphines_mmol (mmol)</th>\n",
       "      <th>S_I_amount (g)</th>\n",
       "      <th>S_II_amount (g)</th>\n",
       "      <th>...</th>\n",
       "      <th>x4_liquid parafin</th>\n",
       "      <th>x4_octadecene</th>\n",
       "      <th>x4_phenyl ether</th>\n",
       "      <th>x4_trioctylphosphine oxide</th>\n",
       "      <th>x5_None</th>\n",
       "      <th>x5_phosphinic acid</th>\n",
       "      <th>x5_trioctylphosphine oxide</th>\n",
       "      <th>Diameter_nm</th>\n",
       "      <th>Absorbance max (nm)</th>\n",
       "      <th>PL max (nm)</th>\n",
       "    </tr>\n",
       "  </thead>\n",
       "  <tbody>\n",
       "    <tr>\n",
       "      <th>0</th>\n",
       "      <td>0</td>\n",
       "      <td>0</td>\n",
       "      <td>1.105103</td>\n",
       "      <td>-0.437486</td>\n",
       "      <td>-0.243779</td>\n",
       "      <td>-0.525437</td>\n",
       "      <td>-0.416112</td>\n",
       "      <td>-0.165455</td>\n",
       "      <td>-0.123360</td>\n",
       "      <td>-0.302087</td>\n",
       "      <td>...</td>\n",
       "      <td>0</td>\n",
       "      <td>1</td>\n",
       "      <td>0</td>\n",
       "      <td>0</td>\n",
       "      <td>1</td>\n",
       "      <td>0</td>\n",
       "      <td>0</td>\n",
       "      <td>3.41</td>\n",
       "      <td>566.0</td>\n",
       "      <td>575.0</td>\n",
       "    </tr>\n",
       "    <tr>\n",
       "      <th>1</th>\n",
       "      <td>1</td>\n",
       "      <td>1</td>\n",
       "      <td>-0.062540</td>\n",
       "      <td>-0.472027</td>\n",
       "      <td>-0.436361</td>\n",
       "      <td>-0.305510</td>\n",
       "      <td>-0.498129</td>\n",
       "      <td>-0.375671</td>\n",
       "      <td>-0.241193</td>\n",
       "      <td>-0.302087</td>\n",
       "      <td>...</td>\n",
       "      <td>0</td>\n",
       "      <td>1</td>\n",
       "      <td>0</td>\n",
       "      <td>0</td>\n",
       "      <td>1</td>\n",
       "      <td>0</td>\n",
       "      <td>0</td>\n",
       "      <td>2.50</td>\n",
       "      <td>474.0</td>\n",
       "      <td>617.0</td>\n",
       "    </tr>\n",
       "    <tr>\n",
       "      <th>2</th>\n",
       "      <td>2</td>\n",
       "      <td>2</td>\n",
       "      <td>0.326674</td>\n",
       "      <td>-0.472027</td>\n",
       "      <td>-0.587674</td>\n",
       "      <td>-0.525437</td>\n",
       "      <td>-0.498129</td>\n",
       "      <td>-0.451959</td>\n",
       "      <td>-0.527427</td>\n",
       "      <td>-0.302087</td>\n",
       "      <td>...</td>\n",
       "      <td>0</td>\n",
       "      <td>1</td>\n",
       "      <td>0</td>\n",
       "      <td>0</td>\n",
       "      <td>1</td>\n",
       "      <td>0</td>\n",
       "      <td>0</td>\n",
       "      <td>1.99</td>\n",
       "      <td>450.4</td>\n",
       "      <td>497.0</td>\n",
       "    </tr>\n",
       "    <tr>\n",
       "      <th>3</th>\n",
       "      <td>3</td>\n",
       "      <td>3</td>\n",
       "      <td>0.326674</td>\n",
       "      <td>-0.472027</td>\n",
       "      <td>-0.587674</td>\n",
       "      <td>-0.525437</td>\n",
       "      <td>-0.498129</td>\n",
       "      <td>-0.445602</td>\n",
       "      <td>-0.527427</td>\n",
       "      <td>-0.302087</td>\n",
       "      <td>...</td>\n",
       "      <td>0</td>\n",
       "      <td>1</td>\n",
       "      <td>0</td>\n",
       "      <td>0</td>\n",
       "      <td>1</td>\n",
       "      <td>0</td>\n",
       "      <td>0</td>\n",
       "      <td>2.13</td>\n",
       "      <td>471.6</td>\n",
       "      <td>510.0</td>\n",
       "    </tr>\n",
       "    <tr>\n",
       "      <th>4</th>\n",
       "      <td>4</td>\n",
       "      <td>4</td>\n",
       "      <td>0.326674</td>\n",
       "      <td>-0.472027</td>\n",
       "      <td>-0.587674</td>\n",
       "      <td>-0.525437</td>\n",
       "      <td>-0.498129</td>\n",
       "      <td>-0.445602</td>\n",
       "      <td>-0.527427</td>\n",
       "      <td>-0.302087</td>\n",
       "      <td>...</td>\n",
       "      <td>0</td>\n",
       "      <td>1</td>\n",
       "      <td>0</td>\n",
       "      <td>0</td>\n",
       "      <td>1</td>\n",
       "      <td>0</td>\n",
       "      <td>0</td>\n",
       "      <td>2.27</td>\n",
       "      <td>486.0</td>\n",
       "      <td>517.0</td>\n",
       "    </tr>\n",
       "  </tbody>\n",
       "</table>\n",
       "<p>5 rows × 53 columns</p>\n",
       "</div>"
      ],
      "text/plain": [
       "   Unnamed: 0  Unnamed: 0.1  Growth Temp (Celsius)  Metal_mmol (mmol)  \\\n",
       "0           0             0               1.105103          -0.437486   \n",
       "1           1             1              -0.062540          -0.472027   \n",
       "2           2             2               0.326674          -0.472027   \n",
       "3           3             3               0.326674          -0.472027   \n",
       "4           4             4               0.326674          -0.472027   \n",
       "\n",
       "   Chalcogen_mmol (mmol)  CA_mmol (mmol)  Amines_mmol (mmol)  \\\n",
       "0              -0.243779       -0.525437           -0.416112   \n",
       "1              -0.436361       -0.305510           -0.498129   \n",
       "2              -0.587674       -0.525437           -0.498129   \n",
       "3              -0.587674       -0.525437           -0.498129   \n",
       "4              -0.587674       -0.525437           -0.498129   \n",
       "\n",
       "   Phosphines_mmol (mmol)  S_I_amount (g)  S_II_amount (g)  ...  \\\n",
       "0               -0.165455       -0.123360        -0.302087  ...   \n",
       "1               -0.375671       -0.241193        -0.302087  ...   \n",
       "2               -0.451959       -0.527427        -0.302087  ...   \n",
       "3               -0.445602       -0.527427        -0.302087  ...   \n",
       "4               -0.445602       -0.527427        -0.302087  ...   \n",
       "\n",
       "   x4_liquid parafin  x4_octadecene  x4_phenyl ether  \\\n",
       "0                  0              1                0   \n",
       "1                  0              1                0   \n",
       "2                  0              1                0   \n",
       "3                  0              1                0   \n",
       "4                  0              1                0   \n",
       "\n",
       "   x4_trioctylphosphine oxide  x5_None  x5_phosphinic acid  \\\n",
       "0                           0        1                   0   \n",
       "1                           0        1                   0   \n",
       "2                           0        1                   0   \n",
       "3                           0        1                   0   \n",
       "4                           0        1                   0   \n",
       "\n",
       "   x5_trioctylphosphine oxide  Diameter_nm  Absorbance max (nm)  PL max (nm)  \n",
       "0                           0         3.41                566.0        575.0  \n",
       "1                           0         2.50                474.0        617.0  \n",
       "2                           0         1.99                450.4        497.0  \n",
       "3                           0         2.13                471.6        510.0  \n",
       "4                           0         2.27                486.0        517.0  \n",
       "\n",
       "[5 rows x 53 columns]"
      ]
     },
     "execution_count": 3,
     "metadata": {},
     "output_type": "execute_result"
    }
   ],
   "source": [
    "# Loads the Augmented Dataset with no None Values\n",
    "df = pd.read_csv('../../../Datasets/augmented_data.csv')\n",
    "df.head()"
   ]
  },
  {
   "cell_type": "code",
   "execution_count": 4,
   "metadata": {},
   "outputs": [],
   "source": [
    "# Defines the input and output for the 3 models\n",
    "feature_names = ['Growth Temp (Celsius)', 'Metal_mmol (mmol)', 'Chalcogen_mmol (mmol)',\n",
    "             'Amines_mmol (mmol)', 'CA_mmol (mmol)', 'Phosphines_mmol (mmol)',\n",
    "             'S_I_amount (g)', 'S_II_amount (g)', 'Time_min (min)',\n",
    "             'x0_cadmium acetate', 'x0_cadmium acetate dihydrate',\n",
    "             'x0_cadmium acetate dihydrate', 'x0_cadmium oxide',\n",
    "             'x0_cadmium stearate', 'x0_dimethylcadmium', 'x1_None',\n",
    "             'x1_benzoic acid', 'x1_dodecylphosphonic acid',\n",
    "             'x1_ethylphosphonic acid', 'x1_lauric acid',\n",
    "             'x1_myrstic acid', 'x1_oleic acid', 'x1_stearic acid',\n",
    "             'x2_2-6-dimethylpyridine', 'x2_None', 'x2_aniline',\n",
    "             'x2_benzylamine', 'x2_dioctylamine/hexadecylamine',\n",
    "             'x2_dodecylamine', 'x2_heptylamine', 'x2_hexadecylamine',\n",
    "             'x2_octadecylamine', 'x2_octylamine', 'x2_oleylamine',\n",
    "             'x2_pyridine', 'x2_trioctylamine', 'x3_None', 'x3_diphenylphosphine',\n",
    "             'x3_tributylphosphine', 'x3_trioctylphosphine',\n",
    "             'x3_triphenylphosphine', 'x4_None', 'x4_liquid parafin',\n",
    "             'x4_octadecene', 'x4_phenyl ether', 'x4_trioctylphosphine oxide',\n",
    "             'x5_None', 'x5_phosphinic acid', 'x5_trioctylphosphine oxide']\n",
    "\n",
    "target = ['Diameter_nm', 'Absorbance max (nm)', 'PL max (nm)']\n"
   ]
  },
  {
   "cell_type": "markdown",
   "metadata": {},
   "source": [
    "## Size Prediction"
   ]
  },
  {
   "cell_type": "code",
   "execution_count": 5,
   "metadata": {},
   "outputs": [],
   "source": [
    "#target is diameter_nm\n",
    "\n",
    "X1 = df[feature_names]\n",
    "Y1 = df[target[0]]"
   ]
  },
  {
   "cell_type": "code",
   "execution_count": 6,
   "metadata": {},
   "outputs": [],
   "source": [
    "X_train1, X_test1, y_train1, y_test1 = train_test_split(X1, Y1, test_size=0.25, random_state=8, shuffle = True)"
   ]
  },
  {
   "cell_type": "code",
   "execution_count": 7,
   "metadata": {},
   "outputs": [
    {
     "name": "stderr",
     "output_type": "stream",
     "text": [
      "100%|██████████| 999/999 [00:06<00:00, 151.95it/s]"
     ]
    },
    {
     "name": "stdout",
     "output_type": "stream",
     "text": [
      "best estimator =  436\n"
     ]
    },
    {
     "name": "stderr",
     "output_type": "stream",
     "text": [
      "\n"
     ]
    }
   ],
   "source": [
    "#optimization of max_depth\n",
    "R2_dict = {}\n",
    "    \n",
    "for max_depth in tqdm(np.arange (1, 1000, 1)):\n",
    "    regr = DecisionTreeRegressor(max_depth=max_depth)\n",
    "    regr.fit(X_train1,y_train1)\n",
    "    y_pred1 = regr.predict(X_test1)\n",
    "    MSE = mean_squared_error(y_test1, y_pred1)\n",
    "    R2 = r2_score(y_test1, y_pred1)\n",
    "    R2_dict[max_depth] = R2\n",
    "    \n",
    "print(\"best estimator = \", max(R2_dict, key=R2_dict.get))"
   ]
  },
  {
   "cell_type": "code",
   "execution_count": 37,
   "metadata": {},
   "outputs": [
    {
     "name": "stdout",
     "output_type": "stream",
     "text": [
      "Squared Prediction error MSE:  0.703589329322034\n",
      "Root Mean Squared Error: 0.8388023183814134\n",
      "Mean Absolute Error: 0.5179033898305084\n",
      "R Squared Score is: 0.611360505263378\n"
     ]
    }
   ],
   "source": [
    "regr = DecisionTreeRegressor(max_depth=436)\n",
    "regr.fit(X_train1, y_train1)\n",
    "y_pred1 = regr.predict(X_test1)\n",
    "print(\"Squared Prediction error MSE: \", mean_squared_error(y_test1, y_pred1))\n",
    "print('Root Mean Squared Error:', np.sqrt(metrics.mean_squared_error(y_test1, y_pred1)))\n",
    "print('Mean Absolute Error:', metrics.mean_absolute_error(y_test1, y_pred1))\n",
    "print('R Squared Score is:', r2_score(y_test1, y_pred1))"
   ]
  },
  {
   "cell_type": "code",
   "execution_count": 38,
   "metadata": {},
   "outputs": [
    {
     "data": {
      "image/png": "[encoded data removed]",
      "text/plain": [
       "<Figure size 432x288 with 1 Axes>"
      ]
     },
     "metadata": {},
     "output_type": "display_data"
    }
   ],
   "source": [
    "plt.figure()\n",
    "plt.title(\"\")\n",
    "plt.plot(y_test1, y_pred1, 'o')\n",
    "plt.xlabel('Observed Values (nm)')\n",
    "plt.ylabel('Predicted Values (nm)')\n",
    "plt.show()"
   ]
  },
  {
   "cell_type": "markdown",
   "metadata": {},
   "source": [
    "## Absorbance prediction"
   ]
  },
  {
   "cell_type": "code",
   "execution_count": 10,
   "metadata": {},
   "outputs": [],
   "source": [
    "#target Absorbance max (nm)\n",
    "X2= df[feature_names]\n",
    "Y2= df[target[1]]"
   ]
  },
  {
   "cell_type": "code",
   "execution_count": 11,
   "metadata": {},
   "outputs": [],
   "source": [
    "X_train2, X_test2, y_train2, y_test2 = train_test_split(X2, Y2, test_size=0.25, random_state=8, shuffle = True)"
   ]
  },
  {
   "cell_type": "code",
   "execution_count": 12,
   "metadata": {},
   "outputs": [
    {
     "name": "stderr",
     "output_type": "stream",
     "text": [
      "100%|██████████| 999/999 [00:06<00:00, 152.35it/s]"
     ]
    },
    {
     "name": "stdout",
     "output_type": "stream",
     "text": [
      "best estimator =  30\n"
     ]
    },
    {
     "name": "stderr",
     "output_type": "stream",
     "text": [
      "\n"
     ]
    }
   ],
   "source": [
    "R2_dict = {}\n",
    "    \n",
    "for max_depth in tqdm(np.arange (1, 1000, 1)):\n",
    "    regr = DecisionTreeRegressor(max_depth=max_depth)\n",
    "    regr.fit(X_train2,y_train2)\n",
    "    y_pred2 = regr.predict(X_test2)\n",
    "    MSE = mean_squared_error(y_test2, y_pred2)\n",
    "    R2 = r2_score(y_test2, y_pred2)\n",
    "    R2_dict[max_depth] = R2\n",
    "    \n",
    "print(\"best estimator = \", max(R2_dict, key=R2_dict.get))"
   ]
  },
  {
   "cell_type": "code",
   "execution_count": 27,
   "metadata": {},
   "outputs": [
    {
     "name": "stdout",
     "output_type": "stream",
     "text": [
      "Squared Prediction error MSE:  856.1606779661021\n",
      "Root Mean Squared Error: 29.26022347771975\n",
      "Mean Absolute Error: 19.501694915254244\n",
      "R Squared Score is: 0.8326745571203034\n"
     ]
    }
   ],
   "source": [
    "regr = DecisionTreeRegressor(max_depth = 30)\n",
    "regr.fit(X_train2, y_train2)\n",
    "y_pred2 = regr.predict(X_test2)\n",
    "\n",
    "print(\"Squared Prediction error MSE: \", mean_squared_error(y_test2, y_pred2))\n",
    "print('Root Mean Squared Error:', np.sqrt(metrics.mean_squared_error(y_test2, y_pred2)))\n",
    "print('Mean Absolute Error:', metrics.mean_absolute_error(y_test2, y_pred2))\n",
    "print('R Squared Score is:', r2_score(y_test2, y_pred2))"
   ]
  },
  {
   "cell_type": "code",
   "execution_count": 34,
   "metadata": {},
   "outputs": [
    {
     "data": {
      "image/png": "[encoded data removed]",
      "text/plain": [
       "<Figure size 432x288 with 1 Axes>"
      ]
     },
     "metadata": {},
     "output_type": "display_data"
    }
   ],
   "source": [
    "plt.figure()\n",
    "plt.title(\"\")\n",
    "plt.plot(y_test2, y_pred2, 'o')\n",
    "plt.xlabel('Observed Values (nm)')\n",
    "plt.ylabel('Predicted Values (nm)')\n",
    "plt.show()"
   ]
  },
  {
   "cell_type": "markdown",
   "metadata": {},
   "source": [
    "## PL prediction"
   ]
  },
  {
   "cell_type": "code",
   "execution_count": 15,
   "metadata": {},
   "outputs": [],
   "source": [
    "#target PL max (nm)\n",
    "X3= df[feature_names]\n",
    "Y3= df[target[2]]"
   ]
  },
  {
   "cell_type": "code",
   "execution_count": 16,
   "metadata": {},
   "outputs": [],
   "source": [
    "X_train3, X_test3, y_train3, y_test3 = train_test_split(X3, Y3, test_size=0.25, random_state=8, shuffle = True)"
   ]
  },
  {
   "cell_type": "code",
   "execution_count": 31,
   "metadata": {},
   "outputs": [
    {
     "name": "stderr",
     "output_type": "stream",
     "text": [
      "100%|██████████| 999/999 [00:05<00:00, 166.52it/s]"
     ]
    },
    {
     "name": "stdout",
     "output_type": "stream",
     "text": [
      "best estimator =  895\n"
     ]
    },
    {
     "name": "stderr",
     "output_type": "stream",
     "text": [
      "\n"
     ]
    }
   ],
   "source": [
    "R2_dict = {}\n",
    "    \n",
    "for max_depth in tqdm(np.arange (1, 1000, 1)):\n",
    "    regr = DecisionTreeRegressor(max_depth=max_depth)\n",
    "    regr.fit(X_train3,y_train3)\n",
    "    y_pred3 = regr.predict(X_test3)\n",
    "    MSE = mean_squared_error(y_test3, y_pred3)\n",
    "    R2 = r2_score(y_test3, y_pred3)\n",
    "    R2_dict[max_depth] = R2\n",
    "    \n",
    "print(\"best estimator = \", max(R2_dict, key=R2_dict.get))"
   ]
  },
  {
   "cell_type": "code",
   "execution_count": 32,
   "metadata": {},
   "outputs": [
    {
     "name": "stdout",
     "output_type": "stream",
     "text": [
      "Squared Prediction error MSE:  870.0063991722933\n",
      "Root Mean Squared Error: 29.49587088343542\n",
      "Mean Absolute Error: 16.95641646440678\n",
      "R Squared Score is: 0.502834942565302\n"
     ]
    }
   ],
   "source": [
    "regr = DecisionTreeRegressor(max_depth=895)\n",
    "regr.fit(X_train3, y_train3)\n",
    "y_pred3 = regr.predict(X_test3)\n",
    "print(\"Squared Prediction error MSE: \", mean_squared_error(y_test3, y_pred3))\n",
    "print('Root Mean Squared Error:', np.sqrt(metrics.mean_squared_error(y_test3, y_pred3)))\n",
    "print('Mean Absolute Error:', metrics.mean_absolute_error(y_test3, y_pred3))\n",
    "print('R Squared Score is:', r2_score(y_test3, y_pred3))"
   ]
  },
  {
   "cell_type": "code",
   "execution_count": 33,
   "metadata": {},
   "outputs": [
    {
     "data": {
      "image/png": "[encoded data removed]",
      "text/plain": [
       "<Figure size 432x288 with 1 Axes>"
      ]
     },
     "metadata": {},
     "output_type": "display_data"
    }
   ],
   "source": [
    "plt.figure()\n",
    "plt.title(\"\")\n",
    "plt.plot(y_test3, y_pred3, 'o')\n",
    "plt.xlabel('Observed Values (nm)')\n",
    "plt.ylabel('Predicted Values (nm)')\n",
    "plt.show()"
   ]
  },
  {
   "cell_type": "code",
   "execution_count": 20,
   "metadata": {},
   "outputs": [
    {
     "name": "stdout",
     "output_type": "stream",
     "text": [
      "0.36396152974349194\n",
      "8.289100207944717\n",
      "10.359324477226995\n"
     ]
    }
   ],
   "source": [
    "#difference between RMSE and MAE\n",
    "#the larger the difference btween them the more inconsistent the error size\n",
    "RMSE1 = np.sqrt(metrics.mean_squared_error(y_test1, y_pred1))\n",
    "RMSE2 = np.sqrt(metrics.mean_squared_error(y_test2, y_pred2))\n",
    "RMSE3 = np.sqrt(metrics.mean_squared_error(y_test3, y_pred3))\n",
    "\n",
    "MAE1 = metrics.mean_absolute_error(y_test1, y_pred1)\n",
    "MAE2 = metrics.mean_absolute_error(y_test2, y_pred2)\n",
    "MAE3 = metrics.mean_absolute_error(y_test3, y_pred3)\n",
    "\n",
    "RMSE1_MAE1_diff = RMSE1 - MAE1\n",
    "RMSE2_MAE2_diff = RMSE2 - MAE2\n",
    "RMSE3_MAE3_diff = RMSE3 - MAE3\n",
    "\n",
    "print(RMSE1_MAE1_diff)\n",
    "print(RMSE2_MAE2_diff)\n",
    "print(RMSE3_MAE3_diff)\n"
   ]
  },
  {
   "cell_type": "code",
   "execution_count": 25,
   "metadata": {},
   "outputs": [
    {
     "data": {
      "image/png": "[encoded data removed]",
      "text/plain": [
       "<Figure size 1490.4x595.44 with 1 Axes>"
      ]
     },
     "metadata": {
      "needs_background": "light"
     },
     "output_type": "display_data"
    }
   ],
   "source": [
    "# Depositing the input features and their importance score into a dicitonary\n",
    "importance_dict = dict()\n",
    "for i in range(0,48):\n",
    "    importance_dict[feature_names[i]] = regr.feature_importances_[i]\n",
    "\n",
    "# Sorting the input features by their importance score    \n",
    "sorted_importance = sorted(importance_dict.items(), key=lambda x: x[1], reverse=True)\n",
    "# Filtering out input features with the best importance score\n",
    "top10 = DataFrame(sorted_importance[0:10], columns=['features', 'importance score'])\n",
    "# Combining the other input features\n",
    "others2 = DataFrame(sorted_importance[10:], columns=['features', 'importance score'])\n",
    "combined_others2 = pd.DataFrame(data = {\n",
    "    'features' : ['others'],\n",
    "    'importance score' : [others2['importance score'].sum()]\n",
    "                                        })\n",
    "# Combining top 10 with others\n",
    "imp_score2 = pd.concat([top10, combined_others2])\n",
    "\n",
    "# Plotting \n",
    "\n",
    "a4_dims = (20.7, 8.27)\n",
    "fig, ax = plt.subplots(figsize=a4_dims)\n",
    "\n",
    "sns.set_theme(style=\"whitegrid\")\n",
    "\n",
    "plt.xticks(rotation=45, fontsize=16)\n",
    "\n",
    "ax.set_title('Features importance', fontsize=30)\n",
    "\n",
    "ax = sns.barplot(x=\"features\", y=\"importance score\", data=imp_score2)\n",
    "\n",
    "ax.set_xlabel('Input Features', fontsize=26)\n",
    "ax.set_ylabel('Importance Score', fontsize=26)\n",
    "\n",
    "plt.show()"
   ]
  },
  {
   "cell_type": "markdown",
   "metadata": {},
   "source": [
    "Variable Growth Temp and Time_min have higher importance in relation to other variables. They can be used as the main feature of the model"
   ]
  },
  {
   "cell_type": "markdown",
   "metadata": {},
   "source": [
    "## Cross-validation "
   ]
  },
  {
   "cell_type": "code",
   "execution_count": null,
   "metadata": {},
   "outputs": [],
   "source": [
    "reg = Lasso()"
   ]
  },
  {
   "cell_type": "code",
   "execution_count": null,
   "metadata": {},
   "outputs": [],
   "source": [
    "lassoParam = {\n",
    "    'alpha': stats.uniform(0.0001, 0.01),\n",
    "}"
   ]
  },
  {
   "cell_type": "code",
   "execution_count": null,
   "metadata": {},
   "outputs": [],
   "source": [
    "#prepare two Kfolds, one is for the outer loop, the other is for inner loop\n",
    "outer_cv = KFold(n_splits=5, shuffle=True, random_state=8) \n",
    "inner_cv = KFold(n_splits=5, shuffle=True, random_state=8)"
   ]
  },
  {
   "cell_type": "code",
   "execution_count": null,
   "metadata": {},
   "outputs": [],
   "source": [
    "#this will choose the best hyperparameter\n",
    "nestedcv_inner = RandomizedSearchCV(reg, lassoParam, cv=inner_cv, n_iter=20, scoring='r2', \n",
    "                                    n_jobs=-1, random_state=8, refit=True) "
   ]
  },
  {
   "cell_type": "code",
   "execution_count": null,
   "metadata": {},
   "outputs": [],
   "source": [
    "#This will give generalized error by LASSO with hyperparamter chosed in inner loop.\n",
    "nestedcv_outer = cross_validate(nestedcv_inner,X_train1,y_train1,scoring='r2',cv=outer_cv,\n",
    "                                n_jobs=-1,return_estimator=True)"
   ]
  },
  {
   "cell_type": "code",
   "execution_count": null,
   "metadata": {},
   "outputs": [],
   "source": [
    "#Chosen hyperparameter in each inner CV\n",
    "print([nestedcv_outer['estimator'][i].best_params_ for i in range(5)])"
   ]
  },
  {
   "cell_type": "markdown",
   "metadata": {},
   "source": [
    "We have the same alpha value, the aplha value could have been smaller. However the good thing is that we are finding the same best parameter when walking through the same parameter candidate.\n",
    "The above code has for reference [here](https://towardsdatascience.com/hyperparameter-tuning-explained-d0ebb2ba1d35)."
   ]
  },
  {
   "cell_type": "code",
   "execution_count": null,
   "metadata": {},
   "outputs": [],
   "source": [
    "#Outer loop CV scores\n",
    "print(nestedcv_outer['test_score'])"
   ]
  }
 ],
 "metadata": {
  "kernelspec": {
   "display_name": "Python 3",
   "language": "python",
   "name": "python3"
  },
  "language_info": {
   "codemirror_mode": {
    "name": "ipython",
    "version": 3
   },
   "file_extension": ".py",
   "mimetype": "text/x-python",
   "name": "python",
   "nbconvert_exporter": "python",
   "pygments_lexer": "ipython3",
   "version": "3.8.5"
  }
 },
 "nbformat": 4,
 "nbformat_minor": 4
}
