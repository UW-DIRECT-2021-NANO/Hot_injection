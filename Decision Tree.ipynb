{
 "cells": [
  {
   "cell_type": "code",
   "execution_count": 2,
   "metadata": {},
   "outputs": [],
   "source": [
    "# Pandas library for the pandas dataframes\n",
    "import pandas as pd    \n",
    "import numpy as np\n",
    "import scipy.stats as stats\n",
    "import scipy\n",
    "\n",
    "# Import Scikit-Learn library for decision tree models\n",
    "import sklearn         \n",
    "from sklearn import linear_model, datasets\n",
    "from sklearn.utils import resample\n",
    "from sklearn import tree\n",
    "from sklearn.tree import DecisionTreeRegressor, DecisionTreeClassifier\n",
    "from sklearn.ensemble import BaggingRegressor, BaggingClassifier, RandomForestRegressor, RandomForestClassifier, GradientBoostingClassifier, GradientBoostingRegressor\n",
    "from sklearn.model_selection import train_test_split, LeaveOneOut, KFold, cross_validate, RandomizedSearchCV\n",
    "from sklearn.metrics import r2_score, mean_squared_error, accuracy_score\n",
    "from sklearn import metrics\n",
    "from sklearn.utils import resample\n",
    "from sklearn.linear_model import Lasso\n",
    "\n",
    "\n",
    "# Import plotting libraries\n",
    "import seaborn as sns\n",
    "import matplotlib \n",
    "from matplotlib import pyplot as plt\n",
    "\n",
    "# Set larger fontsize for all plots\n",
    "matplotlib.rcParams.update({'font.size': 18})\n",
    "from IPython.display import clear_output\n",
    "\n",
    "# Command to automatically reload modules before executing cells\n",
    "# not needed here but might be if you are writing your own library \n",
    "%load_ext autoreload\n",
    "%autoreload 2"
   ]
  },
  {
   "cell_type": "code",
   "execution_count": 3,
   "metadata": {},
   "outputs": [
    {
     "data": {
      "text/html": [
       "<div>\n",
       "<style scoped>\n",
       "    .dataframe tbody tr th:only-of-type {\n",
       "        vertical-align: middle;\n",
       "    }\n",
       "\n",
       "    .dataframe tbody tr th {\n",
       "        vertical-align: top;\n",
       "    }\n",
       "\n",
       "    .dataframe thead th {\n",
       "        text-align: right;\n",
       "    }\n",
       "</style>\n",
       "<table border=\"1\" class=\"dataframe\">\n",
       "  <thead>\n",
       "    <tr style=\"text-align: right;\">\n",
       "      <th></th>\n",
       "      <th>Unnamed: 0</th>\n",
       "      <th>Unnamed: 0.1</th>\n",
       "      <th>Growth Temp (Celsius)</th>\n",
       "      <th>Metal_mmol (mmol)</th>\n",
       "      <th>Chalcogen_mmol (mmol)</th>\n",
       "      <th>CA_mmol (mmol)</th>\n",
       "      <th>Amines_mmol (mmol)</th>\n",
       "      <th>Phosphines_mmol (mmol)</th>\n",
       "      <th>S_I_amount (g)</th>\n",
       "      <th>S_II_amount (g)</th>\n",
       "      <th>...</th>\n",
       "      <th>x4_liquid parafin</th>\n",
       "      <th>x4_octadecene</th>\n",
       "      <th>x4_phenyl ether</th>\n",
       "      <th>x4_trioctylphosphine oxide</th>\n",
       "      <th>x5_None</th>\n",
       "      <th>x5_phosphinic acid</th>\n",
       "      <th>x5_trioctylphosphine oxide</th>\n",
       "      <th>Diameter_nm</th>\n",
       "      <th>Absorbance max (nm)</th>\n",
       "      <th>PL max (nm)</th>\n",
       "    </tr>\n",
       "  </thead>\n",
       "  <tbody>\n",
       "    <tr>\n",
       "      <th>0</th>\n",
       "      <td>0</td>\n",
       "      <td>0</td>\n",
       "      <td>1.105103</td>\n",
       "      <td>-0.437486</td>\n",
       "      <td>-0.243779</td>\n",
       "      <td>-0.525437</td>\n",
       "      <td>-0.416112</td>\n",
       "      <td>-0.165455</td>\n",
       "      <td>-0.123360</td>\n",
       "      <td>-0.302087</td>\n",
       "      <td>...</td>\n",
       "      <td>0</td>\n",
       "      <td>1</td>\n",
       "      <td>0</td>\n",
       "      <td>0</td>\n",
       "      <td>1</td>\n",
       "      <td>0</td>\n",
       "      <td>0</td>\n",
       "      <td>3.41</td>\n",
       "      <td>566.0</td>\n",
       "      <td>575.0</td>\n",
       "    </tr>\n",
       "    <tr>\n",
       "      <th>1</th>\n",
       "      <td>1</td>\n",
       "      <td>1</td>\n",
       "      <td>-0.062540</td>\n",
       "      <td>-0.472027</td>\n",
       "      <td>-0.436361</td>\n",
       "      <td>-0.305510</td>\n",
       "      <td>-0.498129</td>\n",
       "      <td>-0.375671</td>\n",
       "      <td>-0.241193</td>\n",
       "      <td>-0.302087</td>\n",
       "      <td>...</td>\n",
       "      <td>0</td>\n",
       "      <td>1</td>\n",
       "      <td>0</td>\n",
       "      <td>0</td>\n",
       "      <td>1</td>\n",
       "      <td>0</td>\n",
       "      <td>0</td>\n",
       "      <td>2.50</td>\n",
       "      <td>474.0</td>\n",
       "      <td>617.0</td>\n",
       "    </tr>\n",
       "    <tr>\n",
       "      <th>2</th>\n",
       "      <td>2</td>\n",
       "      <td>2</td>\n",
       "      <td>0.326674</td>\n",
       "      <td>-0.472027</td>\n",
       "      <td>-0.587674</td>\n",
       "      <td>-0.525437</td>\n",
       "      <td>-0.498129</td>\n",
       "      <td>-0.451959</td>\n",
       "      <td>-0.527427</td>\n",
       "      <td>-0.302087</td>\n",
       "      <td>...</td>\n",
       "      <td>0</td>\n",
       "      <td>1</td>\n",
       "      <td>0</td>\n",
       "      <td>0</td>\n",
       "      <td>1</td>\n",
       "      <td>0</td>\n",
       "      <td>0</td>\n",
       "      <td>1.99</td>\n",
       "      <td>450.4</td>\n",
       "      <td>497.0</td>\n",
       "    </tr>\n",
       "    <tr>\n",
       "      <th>3</th>\n",
       "      <td>3</td>\n",
       "      <td>3</td>\n",
       "      <td>0.326674</td>\n",
       "      <td>-0.472027</td>\n",
       "      <td>-0.587674</td>\n",
       "      <td>-0.525437</td>\n",
       "      <td>-0.498129</td>\n",
       "      <td>-0.445602</td>\n",
       "      <td>-0.527427</td>\n",
       "      <td>-0.302087</td>\n",
       "      <td>...</td>\n",
       "      <td>0</td>\n",
       "      <td>1</td>\n",
       "      <td>0</td>\n",
       "      <td>0</td>\n",
       "      <td>1</td>\n",
       "      <td>0</td>\n",
       "      <td>0</td>\n",
       "      <td>2.13</td>\n",
       "      <td>471.6</td>\n",
       "      <td>510.0</td>\n",
       "    </tr>\n",
       "    <tr>\n",
       "      <th>4</th>\n",
       "      <td>4</td>\n",
       "      <td>4</td>\n",
       "      <td>0.326674</td>\n",
       "      <td>-0.472027</td>\n",
       "      <td>-0.587674</td>\n",
       "      <td>-0.525437</td>\n",
       "      <td>-0.498129</td>\n",
       "      <td>-0.445602</td>\n",
       "      <td>-0.527427</td>\n",
       "      <td>-0.302087</td>\n",
       "      <td>...</td>\n",
       "      <td>0</td>\n",
       "      <td>1</td>\n",
       "      <td>0</td>\n",
       "      <td>0</td>\n",
       "      <td>1</td>\n",
       "      <td>0</td>\n",
       "      <td>0</td>\n",
       "      <td>2.27</td>\n",
       "      <td>486.0</td>\n",
       "      <td>517.0</td>\n",
       "    </tr>\n",
       "  </tbody>\n",
       "</table>\n",
       "<p>5 rows × 53 columns</p>\n",
       "</div>"
      ],
      "text/plain": [
       "   Unnamed: 0  Unnamed: 0.1  Growth Temp (Celsius)  Metal_mmol (mmol)  \\\n",
       "0           0             0               1.105103          -0.437486   \n",
       "1           1             1              -0.062540          -0.472027   \n",
       "2           2             2               0.326674          -0.472027   \n",
       "3           3             3               0.326674          -0.472027   \n",
       "4           4             4               0.326674          -0.472027   \n",
       "\n",
       "   Chalcogen_mmol (mmol)  CA_mmol (mmol)  Amines_mmol (mmol)  \\\n",
       "0              -0.243779       -0.525437           -0.416112   \n",
       "1              -0.436361       -0.305510           -0.498129   \n",
       "2              -0.587674       -0.525437           -0.498129   \n",
       "3              -0.587674       -0.525437           -0.498129   \n",
       "4              -0.587674       -0.525437           -0.498129   \n",
       "\n",
       "   Phosphines_mmol (mmol)  S_I_amount (g)  S_II_amount (g)  ...  \\\n",
       "0               -0.165455       -0.123360        -0.302087  ...   \n",
       "1               -0.375671       -0.241193        -0.302087  ...   \n",
       "2               -0.451959       -0.527427        -0.302087  ...   \n",
       "3               -0.445602       -0.527427        -0.302087  ...   \n",
       "4               -0.445602       -0.527427        -0.302087  ...   \n",
       "\n",
       "   x4_liquid parafin  x4_octadecene  x4_phenyl ether  \\\n",
       "0                  0              1                0   \n",
       "1                  0              1                0   \n",
       "2                  0              1                0   \n",
       "3                  0              1                0   \n",
       "4                  0              1                0   \n",
       "\n",
       "   x4_trioctylphosphine oxide  x5_None  x5_phosphinic acid  \\\n",
       "0                           0        1                   0   \n",
       "1                           0        1                   0   \n",
       "2                           0        1                   0   \n",
       "3                           0        1                   0   \n",
       "4                           0        1                   0   \n",
       "\n",
       "   x5_trioctylphosphine oxide  Diameter_nm  Absorbance max (nm)  PL max (nm)  \n",
       "0                           0         3.41                566.0        575.0  \n",
       "1                           0         2.50                474.0        617.0  \n",
       "2                           0         1.99                450.4        497.0  \n",
       "3                           0         2.13                471.6        510.0  \n",
       "4                           0         2.27                486.0        517.0  \n",
       "\n",
       "[5 rows x 53 columns]"
      ]
     },
     "execution_count": 3,
     "metadata": {},
     "output_type": "execute_result"
    }
   ],
   "source": [
    "df = pd.read_csv('testing notebooks/data/augmented_data.csv')\n",
    "df.head()"
   ]
  },
  {
   "cell_type": "code",
   "execution_count": 4,
   "metadata": {},
   "outputs": [],
   "source": [
    "feature_names = ['Growth Temp (Celsius)', 'Metal_mmol (mmol)', 'Chalcogen_mmol (mmol)',\n",
    "             'Amines_mmol (mmol)', 'CA_mmol (mmol)', 'Phosphines_mmol (mmol)',\n",
    "             'S_I_amount (g)', 'S_II_amount (g)', 'Time_min (min)',\n",
    "             'x0_cadmium acetate', 'x0_cadmium acetate dihydrate',\n",
    "             'x0_cadmium acetate dihydrate', 'x0_cadmium oxide',\n",
    "             'x0_cadmium stearate', 'x0_dimethylcadmium', 'x1_None',\n",
    "             'x1_benzoic acid', 'x1_dodecylphosphonic acid',\n",
    "             'x1_ethylphosphonic acid', 'x1_lauric acid',\n",
    "             'x1_myrstic acid', 'x1_oleic acid', 'x1_stearic acid',\n",
    "             'x2_2-6-dimethylpyridine', 'x2_None', 'x2_aniline',\n",
    "             'x2_benzylamine', 'x2_dioctylamine/hexadecylamine',\n",
    "             'x2_dodecylamine', 'x2_heptylamine', 'x2_hexadecylamine',\n",
    "             'x2_octadecylamine', 'x2_octylamine', 'x2_oleylamine',\n",
    "             'x2_pyridine', 'x2_trioctylamine', 'x3_None', 'x3_diphenylphosphine',\n",
    "             'x3_tributylphosphine', 'x3_trioctylphosphine',\n",
    "             'x3_triphenylphosphine', 'x4_None', 'x4_liquid parafin',\n",
    "             'x4_octadecene', 'x4_phenyl ether', 'x4_trioctylphosphine oxide',\n",
    "             'x5_None', 'x5_phosphinic acid', 'x5_trioctylphosphine oxide']\n",
    "\n",
    "target = ['Diameter_nm', 'Absorbance max (nm)', 'PL max (nm)']\n"
   ]
  },
  {
   "cell_type": "code",
   "execution_count": 5,
   "metadata": {},
   "outputs": [],
   "source": [
    "#target is diameter_nm\n",
    "\n",
    "X1 = df[feature_names]\n",
    "Y1 = df[target[0]]"
   ]
  },
  {
   "cell_type": "code",
   "execution_count": 7,
   "metadata": {},
   "outputs": [],
   "source": [
    "#target Absorbance max (nm)\n",
    "X2= df[feature_names]\n",
    "Y2= df[target[1]]"
   ]
  },
  {
   "cell_type": "code",
   "execution_count": 8,
   "metadata": {},
   "outputs": [],
   "source": [
    "#target PL max (nm)\n",
    "X3= df[feature_names]\n",
    "Y3= df[target[2]]"
   ]
  },
  {
   "cell_type": "code",
   "execution_count": 9,
   "metadata": {},
   "outputs": [],
   "source": [
    "X_train1, X_test1, y_train1, y_test1 = train_test_split(X1, Y1, test_size=0.25, random_state=8, shuffle = True)"
   ]
  },
  {
   "cell_type": "code",
   "execution_count": 10,
   "metadata": {},
   "outputs": [],
   "source": [
    "X_train2, X_test2, y_train2, y_test2 = train_test_split(X2, Y2, test_size=0.25, random_state=8, shuffle = True)"
   ]
  },
  {
   "cell_type": "code",
   "execution_count": 11,
   "metadata": {},
   "outputs": [],
   "source": [
    "X_train3, X_test3, y_train3, y_test3 = train_test_split(X3, Y3, test_size=0.25, random_state=8, shuffle = True)"
   ]
  },
  {
   "cell_type": "code",
   "execution_count": 12,
   "metadata": {},
   "outputs": [
    {
     "data": {
      "text/plain": [
       "DecisionTreeRegressor()"
      ]
     },
     "execution_count": 12,
     "metadata": {},
     "output_type": "execute_result"
    }
   ],
   "source": [
    "regr = DecisionTreeRegressor()\n",
    "regr.fit(X_train1, y_train1)\n",
    "regr.fit(X_train2, y_train2)\n",
    "regr.fit(X_train3, y_train3)\n"
   ]
  },
  {
   "cell_type": "code",
   "execution_count": 13,
   "metadata": {},
   "outputs": [],
   "source": [
    "y_pred1 = regr.predict(X_test1)\n",
    "y_pred2 = regr.predict(X_test2)\n",
    "y_pred3 = regr.predict(X_test3)"
   ]
  },
  {
   "cell_type": "code",
   "execution_count": 14,
   "metadata": {},
   "outputs": [
    {
     "name": "stdout",
     "output_type": "stream",
     "text": [
      "Squared Prediction error MSE:  301869.8424077901\n",
      "Squared Prediction error MSE:  3485.689546196265\n",
      "Squared Prediction error MSE:  912.5913178614667\n"
     ]
    }
   ],
   "source": [
    "print(\"Squared Prediction error MSE: \", mean_squared_error(y_test1, y_pred1))\n",
    "print(\"Squared Prediction error MSE: \", mean_squared_error(y_test2, y_pred2))\n",
    "print(\"Squared Prediction error MSE: \", mean_squared_error(y_test3, y_pred3))"
   ]
  },
  {
   "cell_type": "code",
   "execution_count": 62,
   "metadata": {},
   "outputs": [
    {
     "name": "stdout",
     "output_type": "stream",
     "text": [
      "Root Mean Squared Error: 547.0188027449944\n",
      "Root Mean Squared Error: 57.6182742146651\n",
      "Root Mean Squared Error: 29.192601342373777\n"
     ]
    }
   ],
   "source": [
    "#Size of the error that gives more weight to the large but infrequent errors than the mean\n",
    "print('Root Mean Squared Error:', np.sqrt(metrics.mean_squared_error(y_test1, y_pred1)))\n",
    "print('Root Mean Squared Error:', np.sqrt(metrics.mean_squared_error(y_test2, y_pred2)))\n",
    "print('Root Mean Squared Error:', np.sqrt(metrics.mean_squared_error(y_test3, y_pred3)))"
   ]
  },
  {
   "cell_type": "code",
   "execution_count": 67,
   "metadata": {},
   "outputs": [
    {
     "name": "stdout",
     "output_type": "stream",
     "text": [
      "Mean Absolute Error: 545.356388859322\n",
      "Mean Absolute Error: 39.96973365593221\n",
      "Mean Absolute Error: 16.75423728983051\n"
     ]
    }
   ],
   "source": [
    "#Mean of the absolute values tells us how big of an error we can expect on average\n",
    "print('Mean Absolute Error:', metrics.mean_absolute_error(y_test1, y_pred1))\n",
    "print('Mean Absolute Error:', metrics.mean_absolute_error(y_test2, y_pred2))\n",
    "print('Mean Absolute Error:', metrics.mean_absolute_error(y_test3, y_pred3))"
   ]
  },
  {
   "cell_type": "code",
   "execution_count": 77,
   "metadata": {},
   "outputs": [
    {
     "name": "stdout",
     "output_type": "stream",
     "text": [
      "1.6624138856724358\n",
      "17.64854055873289\n",
      "12.438364052543267\n"
     ]
    }
   ],
   "source": [
    "#difference between RMSE and MAE\n",
    "#the larger the difference btween them the more inconsistent the error size\n",
    "RMSE1 = np.sqrt(metrics.mean_squared_error(y_test1, y_pred1))\n",
    "RMSE2 = np.sqrt(metrics.mean_squared_error(y_test2, y_pred2))\n",
    "RMSE3 = np.sqrt(metrics.mean_squared_error(y_test3, y_pred3))\n",
    "\n",
    "MAE1 = metrics.mean_absolute_error(y_test1, y_pred1)\n",
    "MAE2 = metrics.mean_absolute_error(y_test2, y_pred2)\n",
    "MAE3 = metrics.mean_absolute_error(y_test3, y_pred3)\n",
    "\n",
    "RMSE1_MAE1_diff = RMSE1 - MAE1\n",
    "RMSE2_MAE2_diff = RMSE2 - MAE2\n",
    "RMSE3_MAE3_diff = RMSE3 - MAE3\n",
    "\n",
    "print(RMSE1_MAE1_diff)\n",
    "print(RMSE2_MAE2_diff)\n",
    "print(RMSE3_MAE3_diff)\n"
   ]
  },
  {
   "cell_type": "code",
   "execution_count": 66,
   "metadata": {},
   "outputs": [
    {
     "name": "stdout",
     "output_type": "stream",
     "text": [
      "R Squared Score is: -165283.5264487139\n",
      "R Squared Score is: 0.35117556398834204\n",
      "R Squared Score is: 0.5130058510915088\n"
     ]
    }
   ],
   "source": [
    "#R squared helps us know how well the regression model fits the observed data.\n",
    "#Value is between 0 to 1\n",
    "#Higher R suquared indicates a better fit for the model\n",
    "print('R Squared Score is:', r2_score(y_test1, y_pred1))\n",
    "print('R Squared Score is:', r2_score(y_test2, y_pred2))\n",
    "print('R Squared Score is:', r2_score(y_test3, y_pred3))"
   ]
  },
  {
   "cell_type": "code",
   "execution_count": 6,
   "metadata": {},
   "outputs": [
    {
     "name": "stdout",
     "output_type": "stream",
     "text": [
      "[0, 1, 2, 3, 4, 5, 6, 7, 8, 9, 10, 11, 12, 13, 14, 15, 16, 17, 18, 19, 20, 21, 22, 23, 24, 25, 26, 27, 28, 29, 30, 31, 32, 33, 34, 35, 36, 37, 38, 39, 40, 41, 42, 43, 44, 45, 46, 47, 48, 49, 50, 51, 52, 53, 54, 55, 56, 57, 58, 59, 60, 61, 62, 63, 64, 65, 66, 67, 68, 69, 70, 71, 72, 73, 74, 75, 76, 77, 78, 79, 80, 81, 82, 83, 84, 85, 86, 87, 88, 89, 90, 91, 92, 93, 94, 95, 96, 97, 98, 99, 100, 101, 102, 103, 104, 105, 106, 107, 108, 109, 110, 111, 112, 113, 114, 115, 116, 117, 118, 119, 120, 121, 122, 123, 124, 125, 126, 127, 128, 129, 130, 131, 132, 133, 134, 135, 136, 137, 138, 139, 140, 141, 142, 143, 144, 145, 146, 147, 148, 149, 150, 151, 152, 153, 154, 155, 156, 157, 158, 159, 160, 161, 162, 163, 164, 165, 166, 167, 168, 169, 170, 171, 172, 173, 174, 175, 176, 177, 178, 179, 180, 181, 182, 183, 184, 185, 186, 187, 188, 189, 190, 191, 192, 193, 194, 195, 196, 197, 198, 199, 200, 201, 202, 203, 204, 205, 206, 207, 208, 209, 210, 211, 212, 213, 214, 215, 216, 217, 218, 219, 220, 221, 222, 223, 224, 225, 226, 227, 228, 229, 230, 231, 232, 233]\n"
     ]
    }
   ],
   "source": [
    "k_value_set=[]\n",
    "for k in range(len(X1)):\n",
    "    k_value_set.append(k)\n",
    "print(k_value_set)"
   ]
  },
  {
   "cell_type": "code",
   "execution_count": 89,
   "metadata": {},
   "outputs": [
    {
     "name": "stdout",
     "output_type": "stream",
     "text": [
      "Growth Temp (Celsius) 0.36787746042537806\n",
      "Time_min (min) 0.2810705833052736\n",
      "Metal_mmol (mmol) 0.08745402668503763\n",
      "Phosphines_mmol (mmol) 0.08543387925200055\n",
      "Chalcogen_mmol (mmol) 0.06825121316573082\n",
      "x3_None 0.04016179838125439\n",
      "x2_hexadecylamine 0.017464516652051686\n",
      "S_I_amount (g) 0.01741691594042514\n",
      "x1_None 0.005615060710478298\n",
      "x3_trioctylphosphine 0.004355762988448688\n",
      "x2_oleylamine 0.004303329983958866\n",
      "x2_pyridine 0.0036045622429008743\n",
      "x1_oleic acid 0.003105203038102108\n",
      "x4_octadecene 0.0020283147045279466\n",
      "x2_benzylamine 0.0019728908110252055\n",
      "Amines_mmol (mmol) 0.0015413400781173728\n",
      "x2_heptylamine 0.001363232462121332\n",
      "S_II_amount (g) 0.0013581574095559523\n",
      "CA_mmol (mmol) 0.0012945292495989424\n",
      "x5_None 0.0011848100946210925\n",
      "x2_octylamine 0.0009705042438599687\n",
      "x5_phosphinic acid 0.0006303268275483264\n",
      "x2_None 0.00041023336916825676\n",
      "x2_dodecylamine 0.0003021426133584153\n",
      "x5_trioctylphosphine oxide 0.00029088801799402326\n",
      "x0_cadmium oxide 0.0002893401095875783\n",
      "x1_stearic acid 0.0002489772378749004\n",
      "x4_trioctylphosphine oxide 0.0\n",
      "x4_phenyl ether 0.0\n",
      "x4_liquid parafin 0.0\n",
      "x4_None 0.0\n",
      "x3_triphenylphosphine 0.0\n",
      "x3_tributylphosphine 0.0\n",
      "x3_diphenylphosphine 0.0\n",
      "x2_trioctylamine 0.0\n",
      "x2_octadecylamine 0.0\n",
      "x2_dioctylamine/hexadecylamine 0.0\n",
      "x2_aniline 0.0\n",
      "x2_2-6-dimethylpyridine 0.0\n",
      "x1_myrstic acid 0.0\n",
      "x1_lauric acid 0.0\n",
      "x1_ethylphosphonic acid 0.0\n",
      "x1_dodecylphosphonic acid 0.0\n",
      "x1_benzoic acid 0.0\n",
      "x0_dimethylcadmium 0.0\n",
      "x0_cadmium stearate 0.0\n",
      "x0_cadmium acetate dihydrate 0.0\n",
      "x0_cadmium acetate dihydrate 0.0\n",
      "x0_cadmium acetate 0.0\n"
     ]
    }
   ],
   "source": [
    "#feature importance: insights into the data, the model, and represents the basics for \n",
    "#dimensionality reduction and feature selection\n",
    "for importance, name in sorted(zip(regr.feature_importances_, X_train1.columns),reverse=True):\n",
    " print (name, importance)\n",
    " #plt.bar(name, importance)"
   ]
  },
  {
   "cell_type": "markdown",
   "metadata": {},
   "source": [
    "Variable Growth Temp and Time_min have higher importance in relation to other variables. They can be used as the main feature of the model"
   ]
  },
  {
   "cell_type": "markdown",
   "metadata": {},
   "source": [
    "## Cross-validation "
   ]
  },
  {
   "cell_type": "code",
   "execution_count": 96,
   "metadata": {},
   "outputs": [
    {
     "name": "stdout",
     "output_type": "stream",
     "text": [
      "234\n",
      "<generator object BaseCrossValidator.split at 0x7f4a58300190>\n"
     ]
    }
   ],
   "source": [
    "loo = LeaveOneOut()\n",
    "loo.get_n_splits(X1)\n",
    "print(loo.get_n_splits(X1))\n",
    "print(loo.split(X1))"
   ]
  },
  {
   "cell_type": "code",
   "execution_count": 99,
   "metadata": {},
   "outputs": [
    {
     "ename": "KeyError",
     "evalue": "\"None of [Int64Index([  1,   2,   3,   4,   5,   6,   7,   8,   9,  10,\\n            ...\\n            224, 225, 226, 227, 228, 229, 230, 231, 232, 233],\\n           dtype='int64', length=233)] are in the [columns]\"",
     "output_type": "error",
     "traceback": [
      "\u001b[0;31m---------------------------------------------------------------------------\u001b[0m",
      "\u001b[0;31mKeyError\u001b[0m                                  Traceback (most recent call last)",
      "\u001b[0;32m<ipython-input-99-9c89854aad0d>\u001b[0m in \u001b[0;36m<module>\u001b[0;34m\u001b[0m\n\u001b[1;32m      2\u001b[0m \u001b[0;32mfor\u001b[0m \u001b[0mtrain_index\u001b[0m\u001b[0;34m,\u001b[0m \u001b[0mtest_index\u001b[0m \u001b[0;32min\u001b[0m \u001b[0mloo\u001b[0m\u001b[0;34m.\u001b[0m\u001b[0msplit\u001b[0m\u001b[0;34m(\u001b[0m\u001b[0mX1\u001b[0m\u001b[0;34m)\u001b[0m\u001b[0;34m:\u001b[0m\u001b[0;34m\u001b[0m\u001b[0;34m\u001b[0m\u001b[0m\n\u001b[1;32m      3\u001b[0m     \u001b[0;31m#print(\"TRAIN:\", train_index, \"TEST:\", test_index)\u001b[0m\u001b[0;34m\u001b[0m\u001b[0;34m\u001b[0m\u001b[0;34m\u001b[0m\u001b[0m\n\u001b[0;32m----> 4\u001b[0;31m     \u001b[0mX_train1\u001b[0m\u001b[0;34m,\u001b[0m \u001b[0mX_test1\u001b[0m \u001b[0;34m=\u001b[0m \u001b[0mX1\u001b[0m\u001b[0;34m[\u001b[0m\u001b[0mtrain_index\u001b[0m\u001b[0;34m]\u001b[0m\u001b[0;34m,\u001b[0m \u001b[0mX1\u001b[0m\u001b[0;34m[\u001b[0m\u001b[0mtest_index\u001b[0m\u001b[0;34m]\u001b[0m\u001b[0;34m\u001b[0m\u001b[0;34m\u001b[0m\u001b[0m\n\u001b[0m\u001b[1;32m      5\u001b[0m     \u001b[0my_train1\u001b[0m\u001b[0;34m,\u001b[0m \u001b[0my_test1\u001b[0m \u001b[0;34m=\u001b[0m \u001b[0my1\u001b[0m\u001b[0;34m[\u001b[0m\u001b[0mtrain_index\u001b[0m\u001b[0;34m]\u001b[0m\u001b[0;34m,\u001b[0m \u001b[0my1\u001b[0m\u001b[0;34m[\u001b[0m\u001b[0mtest_index\u001b[0m\u001b[0;34m]\u001b[0m\u001b[0;34m\u001b[0m\u001b[0;34m\u001b[0m\u001b[0m\n\u001b[1;32m      6\u001b[0m     \u001b[0;31m#print(\"X train\", X_train, \"\\nX test\",  X_test, \"\\ny train\", y_train, \"\\ny test\", y_test)\u001b[0m\u001b[0;34m\u001b[0m\u001b[0;34m\u001b[0m\u001b[0;34m\u001b[0m\u001b[0m\n",
      "\u001b[0;32m~/miniconda3/lib/python3.8/site-packages/pandas/core/frame.py\u001b[0m in \u001b[0;36m__getitem__\u001b[0;34m(self, key)\u001b[0m\n\u001b[1;32m   3028\u001b[0m             \u001b[0;32mif\u001b[0m \u001b[0mis_iterator\u001b[0m\u001b[0;34m(\u001b[0m\u001b[0mkey\u001b[0m\u001b[0;34m)\u001b[0m\u001b[0;34m:\u001b[0m\u001b[0;34m\u001b[0m\u001b[0;34m\u001b[0m\u001b[0m\n\u001b[1;32m   3029\u001b[0m                 \u001b[0mkey\u001b[0m \u001b[0;34m=\u001b[0m \u001b[0mlist\u001b[0m\u001b[0;34m(\u001b[0m\u001b[0mkey\u001b[0m\u001b[0;34m)\u001b[0m\u001b[0;34m\u001b[0m\u001b[0;34m\u001b[0m\u001b[0m\n\u001b[0;32m-> 3030\u001b[0;31m             \u001b[0mindexer\u001b[0m \u001b[0;34m=\u001b[0m \u001b[0mself\u001b[0m\u001b[0;34m.\u001b[0m\u001b[0mloc\u001b[0m\u001b[0;34m.\u001b[0m\u001b[0m_get_listlike_indexer\u001b[0m\u001b[0;34m(\u001b[0m\u001b[0mkey\u001b[0m\u001b[0;34m,\u001b[0m \u001b[0maxis\u001b[0m\u001b[0;34m=\u001b[0m\u001b[0;36m1\u001b[0m\u001b[0;34m,\u001b[0m \u001b[0mraise_missing\u001b[0m\u001b[0;34m=\u001b[0m\u001b[0;32mTrue\u001b[0m\u001b[0;34m)\u001b[0m\u001b[0;34m[\u001b[0m\u001b[0;36m1\u001b[0m\u001b[0;34m]\u001b[0m\u001b[0;34m\u001b[0m\u001b[0;34m\u001b[0m\u001b[0m\n\u001b[0m\u001b[1;32m   3031\u001b[0m \u001b[0;34m\u001b[0m\u001b[0m\n\u001b[1;32m   3032\u001b[0m         \u001b[0;31m# take() does not accept boolean indexers\u001b[0m\u001b[0;34m\u001b[0m\u001b[0;34m\u001b[0m\u001b[0;34m\u001b[0m\u001b[0m\n",
      "\u001b[0;32m~/miniconda3/lib/python3.8/site-packages/pandas/core/indexing.py\u001b[0m in \u001b[0;36m_get_listlike_indexer\u001b[0;34m(self, key, axis, raise_missing)\u001b[0m\n\u001b[1;32m   1263\u001b[0m             \u001b[0mkeyarr\u001b[0m\u001b[0;34m,\u001b[0m \u001b[0mindexer\u001b[0m\u001b[0;34m,\u001b[0m \u001b[0mnew_indexer\u001b[0m \u001b[0;34m=\u001b[0m \u001b[0max\u001b[0m\u001b[0;34m.\u001b[0m\u001b[0m_reindex_non_unique\u001b[0m\u001b[0;34m(\u001b[0m\u001b[0mkeyarr\u001b[0m\u001b[0;34m)\u001b[0m\u001b[0;34m\u001b[0m\u001b[0;34m\u001b[0m\u001b[0m\n\u001b[1;32m   1264\u001b[0m \u001b[0;34m\u001b[0m\u001b[0m\n\u001b[0;32m-> 1265\u001b[0;31m         \u001b[0mself\u001b[0m\u001b[0;34m.\u001b[0m\u001b[0m_validate_read_indexer\u001b[0m\u001b[0;34m(\u001b[0m\u001b[0mkeyarr\u001b[0m\u001b[0;34m,\u001b[0m \u001b[0mindexer\u001b[0m\u001b[0;34m,\u001b[0m \u001b[0maxis\u001b[0m\u001b[0;34m,\u001b[0m \u001b[0mraise_missing\u001b[0m\u001b[0;34m=\u001b[0m\u001b[0mraise_missing\u001b[0m\u001b[0;34m)\u001b[0m\u001b[0;34m\u001b[0m\u001b[0;34m\u001b[0m\u001b[0m\n\u001b[0m\u001b[1;32m   1266\u001b[0m         \u001b[0;32mreturn\u001b[0m \u001b[0mkeyarr\u001b[0m\u001b[0;34m,\u001b[0m \u001b[0mindexer\u001b[0m\u001b[0;34m\u001b[0m\u001b[0;34m\u001b[0m\u001b[0m\n\u001b[1;32m   1267\u001b[0m \u001b[0;34m\u001b[0m\u001b[0m\n",
      "\u001b[0;32m~/miniconda3/lib/python3.8/site-packages/pandas/core/indexing.py\u001b[0m in \u001b[0;36m_validate_read_indexer\u001b[0;34m(self, key, indexer, axis, raise_missing)\u001b[0m\n\u001b[1;32m   1305\u001b[0m             \u001b[0;32mif\u001b[0m \u001b[0mmissing\u001b[0m \u001b[0;34m==\u001b[0m \u001b[0mlen\u001b[0m\u001b[0;34m(\u001b[0m\u001b[0mindexer\u001b[0m\u001b[0;34m)\u001b[0m\u001b[0;34m:\u001b[0m\u001b[0;34m\u001b[0m\u001b[0;34m\u001b[0m\u001b[0m\n\u001b[1;32m   1306\u001b[0m                 \u001b[0maxis_name\u001b[0m \u001b[0;34m=\u001b[0m \u001b[0mself\u001b[0m\u001b[0;34m.\u001b[0m\u001b[0mobj\u001b[0m\u001b[0;34m.\u001b[0m\u001b[0m_get_axis_name\u001b[0m\u001b[0;34m(\u001b[0m\u001b[0maxis\u001b[0m\u001b[0;34m)\u001b[0m\u001b[0;34m\u001b[0m\u001b[0;34m\u001b[0m\u001b[0m\n\u001b[0;32m-> 1307\u001b[0;31m                 \u001b[0;32mraise\u001b[0m \u001b[0mKeyError\u001b[0m\u001b[0;34m(\u001b[0m\u001b[0;34mf\"None of [{key}] are in the [{axis_name}]\"\u001b[0m\u001b[0;34m)\u001b[0m\u001b[0;34m\u001b[0m\u001b[0;34m\u001b[0m\u001b[0m\n\u001b[0m\u001b[1;32m   1308\u001b[0m \u001b[0;34m\u001b[0m\u001b[0m\n\u001b[1;32m   1309\u001b[0m             \u001b[0max\u001b[0m \u001b[0;34m=\u001b[0m \u001b[0mself\u001b[0m\u001b[0;34m.\u001b[0m\u001b[0mobj\u001b[0m\u001b[0;34m.\u001b[0m\u001b[0m_get_axis\u001b[0m\u001b[0;34m(\u001b[0m\u001b[0maxis\u001b[0m\u001b[0;34m)\u001b[0m\u001b[0;34m\u001b[0m\u001b[0;34m\u001b[0m\u001b[0m\n",
      "\u001b[0;31mKeyError\u001b[0m: \"None of [Int64Index([  1,   2,   3,   4,   5,   6,   7,   8,   9,  10,\\n            ...\\n            224, 225, 226, 227, 228, 229, 230, 231, 232, 233],\\n           dtype='int64', length=233)] are in the [columns]\""
     ]
    }
   ],
   "source": [
    "MSE_loo = []\n",
    "for train_index, test_index in loo.split(X1):\n",
    "    #print(\"TRAIN:\", train_index, \"TEST:\", test_index)\n",
    "    X_train1, X_test1 = X1[train_index], X1[test_index]\n",
    "    y_train1, y_test1 = y1[train_index], y1[test_index]\n",
    "    #print(\"X train\", X_train, \"\\nX test\",  X_test, \"\\ny train\", y_train, \"\\ny test\", y_test)\n",
    "    reg = linear_model.LinearRegression().fit(X_train1, y_train1)\n",
    "    y_predict = reg.predict(X_test1)\n",
    "    MSE_loo.append(mean_squared_error(y_test1, y_predict))\n",
    "    \n",
    "print(len(MSE_loo))"
   ]
  },
  {
   "cell_type": "code",
   "execution_count": 103,
   "metadata": {},
   "outputs": [],
   "source": [
    "reg = Lasso()"
   ]
  },
  {
   "cell_type": "code",
   "execution_count": 104,
   "metadata": {},
   "outputs": [],
   "source": [
    "lassoParam = {\n",
    "    'alpha': stats.uniform(0.0001, 0.01),\n",
    "}"
   ]
  },
  {
   "cell_type": "code",
   "execution_count": 105,
   "metadata": {},
   "outputs": [],
   "source": [
    "outer_cv = KFold(n_splits=5, shuffle=True, random_state=8) \n",
    "inner_cv = KFold(n_splits=5, shuffle=True, random_state=8)"
   ]
  },
  {
   "cell_type": "code",
   "execution_count": 108,
   "metadata": {},
   "outputs": [],
   "source": [
    "nestedcv_inner = RandomizedSearchCV(reg, lassoParam, cv=inner_cv, n_iter=20, scoring='r2', \n",
    "                                    n_jobs=-1, random_state=8, refit=True) "
   ]
  },
  {
   "cell_type": "code",
   "execution_count": 110,
   "metadata": {},
   "outputs": [],
   "source": [
    "nestedcv_outer = cross_validate(nestedcv_inner,X_train1,y_train1,scoring='r2',cv=outer_cv,\n",
    "                                n_jobs=-1,return_estimator=True)"
   ]
  },
  {
   "cell_type": "code",
   "execution_count": 111,
   "metadata": {},
   "outputs": [
    {
     "name": "stdout",
     "output_type": "stream",
     "text": [
      "[{'alpha': 0.009838552412004462}, {'alpha': 0.009838552412004462}, {'alpha': 0.009838552412004462}, {'alpha': 0.009838552412004462}, {'alpha': 0.009838552412004462}]\n"
     ]
    }
   ],
   "source": [
    "print([nestedcv_outer['estimator'][i].best_params_ for i in range(5)])"
   ]
  },
  {
   "cell_type": "markdown",
   "metadata": {},
   "source": [
    "We have the same alpha value, the aplha value could have been smaller. However the good thing is that we are finding the same best parameter when walking through the same parameter candidate.\n",
    "The above code has for reference https://towardsdatascience.com/hyperparameter-tuning-explained-d0ebb2ba1d35"
   ]
  },
  {
   "cell_type": "code",
   "execution_count": 112,
   "metadata": {},
   "outputs": [
    {
     "name": "stdout",
     "output_type": "stream",
     "text": [
      "[0.06804396 0.20020538 0.34072598 0.21097997 0.22109344]\n"
     ]
    }
   ],
   "source": [
    "print(nestedcv_outer['test_score'])"
   ]
  },
  {
   "cell_type": "markdown",
   "metadata": {},
   "source": [
    "## Optimization"
   ]
  },
  {
   "cell_type": "code",
   "execution_count": 1,
   "metadata": {},
   "outputs": [
    {
     "ename": "NameError",
     "evalue": "name 'X' is not defined",
     "output_type": "error",
     "traceback": [
      "\u001b[0;31m---------------------------------------------------------------------------\u001b[0m",
      "\u001b[0;31mNameError\u001b[0m                                 Traceback (most recent call last)",
      "\u001b[0;32m<ipython-input-1-d0ce04d56c3a>\u001b[0m in \u001b[0;36m<module>\u001b[0;34m\u001b[0m\n\u001b[1;32m      1\u001b[0m \u001b[0mmax_depth_values\u001b[0m\u001b[0;34m=\u001b[0m\u001b[0;34m[\u001b[0m\u001b[0;34m]\u001b[0m\u001b[0;34m\u001b[0m\u001b[0;34m\u001b[0m\u001b[0m\n\u001b[0;32m----> 2\u001b[0;31m \u001b[0;32mfor\u001b[0m \u001b[0mk\u001b[0m \u001b[0;32min\u001b[0m \u001b[0mrange\u001b[0m\u001b[0;34m(\u001b[0m\u001b[0mlen\u001b[0m\u001b[0;34m(\u001b[0m\u001b[0mX\u001b[0m\u001b[0;34m)\u001b[0m\u001b[0;34m)\u001b[0m\u001b[0;34m:\u001b[0m\u001b[0;34m\u001b[0m\u001b[0;34m\u001b[0m\u001b[0m\n\u001b[0m\u001b[1;32m      3\u001b[0m     \u001b[0mk_value_set\u001b[0m\u001b[0;34m.\u001b[0m\u001b[0mappend\u001b[0m\u001b[0;34m(\u001b[0m\u001b[0mk\u001b[0m\u001b[0;34m)\u001b[0m\u001b[0;34m\u001b[0m\u001b[0;34m\u001b[0m\u001b[0m\n\u001b[1;32m      4\u001b[0m \u001b[0mprint\u001b[0m\u001b[0;34m(\u001b[0m\u001b[0mmax_depth_values\u001b[0m\u001b[0;34m)\u001b[0m\u001b[0;34m\u001b[0m\u001b[0;34m\u001b[0m\u001b[0m\n",
      "\u001b[0;31mNameError\u001b[0m: name 'X' is not defined"
     ]
    }
   ],
   "source": [
    "max_depth_values=[]\n",
    "for k in range(len(X1)):\n",
    "    k_value_set.append(k)\n",
    "print(max_depth_values)"
   ]
  },
  {
   "cell_type": "code",
   "execution_count": 18,
   "metadata": {},
   "outputs": [
    {
     "name": "stdout",
     "output_type": "stream",
     "text": [
      "[1.403518976693902, 1.0053963987186156, 1.0412474450058424, 0.8276759247527495, 0.8268986151530764, 0.7998868174299761, 0.7114657547237148, 0.6704301396560306, 0.7350373053876428, 0.7250363809109689, 0.7285682950533584, 0.7223869712682203, 0.6722605384004238, 0.7337147495338985, 0.6844416671186442, 0.8295747866101696, 0.642094723898305, 0.7910916994915256, 0.8055337579661016, 0.7401166552542374, 0.6305617906779661, 0.6781538901694916, 0.8393264601694915, 0.6364456398305084, 0.6380586635593221, 0.7226216659322033, 0.7745950366101694, 0.6636229754237288, 0.7246463605084746, 0.76735178, 0.7527451889830508, 0.7195880511864406, 0.5924281077966101, 0.6794500791525425, 0.7085429322033899, 0.6847065533898306, 0.6218666015254237, 0.6708472144067796, 0.7585126381355932, 0.7463530277966102, 0.6978247645762712, 0.6868608105084746, 0.8150144533898305, 0.838230247118644, 0.7815039055932204, 0.7423128845762711, 0.7003214425423729, 0.7129774649152542, 0.6876653676271187, 0.7488538067796611, 0.6212384955932203, 0.7345953777966103, 0.7061459720338985, 0.6514736245762711, 0.7477325874576272, 0.6693958462711865, 0.7473549684745763, 0.686611496440678, 0.7453790969491526, 0.8634710811864407, 0.8496450569491525, 0.6983103937288138, 0.8327576237288133, 0.7133794177966103, 0.8268620957627119, 0.6703305084745762, 0.636064163559322, 0.6914811127118644, 0.78616128, 0.8716537883050847, 0.7444807123728813, 0.7513415466101694, 0.6829542610169492, 0.8383859532203389, 0.8557568194915254, 0.6396372162711865, 0.7267650950847457, 0.837749273898305, 0.7080890666101697, 0.6880267193220339, 0.6108465238983052, 0.6892794874576271, 0.7665680371186441, 0.6784066611864408, 0.7817868247457629, 0.806161790677966, 0.6249811083050848, 0.8417426322033899, 0.6907639918644068, 0.8207270467796609, 0.7456245323728813, 0.5883156508474576, 0.7912114213559323, 0.710934236101695, 0.7085958462711864, 0.8653278798305083, 0.7731637674576272, 0.6203646598305085, 0.7754003840677967, 0.6559755964406779, 0.8071682540677967, 0.7260181428813559, 0.7112617618644068, 0.7275210088135594, 0.760396873220339, 0.7235267193220338, 0.7997933035593219, 0.7734202023728814, 0.8220058284745763, 0.6479490340677966, 0.5922538693220338, 0.8623050611864406, 0.6010279830508475, 0.7380413477966102, 0.7709041961016949, 0.7966839988135592, 0.6329585922033898]\n"
     ]
    },
    {
     "data": {
      "text/plain": [
       "Text(0.5, 1.0, 'MSE vs max depth')"
      ]
     },
     "execution_count": 18,
     "metadata": {},
     "output_type": "execute_result"
    },
    {
     "data": {
      "image/png": "[encoded data removed]",
      "text/plain": [
       "<Figure size 432x288 with 1 Axes>"
      ]
     },
     "metadata": {
      "needs_background": "light"
     },
     "output_type": "display_data"
    }
   ],
   "source": [
    "max_depth_values = [1, 2, 3, 4, 5, 6, 7, 8, 9, 10, 11, 12, 13, 14, 15, 16, 17, 18, 19, 20, 21, 22, 23, 24, 25, 26, 27, 28, 29, 30, 31, 32, 33, 34, 35, 36, 37, 38, 39, 40, 41, 42, 43, 44, 45, 46, 47, 48, 49, 50, 51, 52, 53, 54, 55, 56, 57, 58, 59, 60, 61, 62, 63, 64, 65, 66, 67, 68, 69, 70, 71, 72, 73, 74, 75, 76, 77, 78, 79, 80, 81, 82, 83, 84, 85, 86, 87, 88, 89, 90, 91, 92, 93, 94, 95, 96, 97, 98, 99, 100, 101, 102, 103, 104, 105, 106, 107, 108, 109, 110, 111, 112, 113, 114, 115, 116, 117]\n",
    "\n",
    "lst= []\n",
    "for max_depth in max_depth_values:\n",
    "    \n",
    "    regr = DecisionTreeRegressor(max_depth = max_depth)\n",
    "    regr.fit(X_train1, y_train1)\n",
    "    \n",
    "    y_pred1 = regr.predict(X_test1)\n",
    "    \n",
    "    MSE = mean_squared_error(y_test1, y_pred1)\n",
    "    \n",
    "    lst.append(MSE)\n",
    "\n",
    "print(lst) #storing the MSE as a list\n",
    "plt.plot(max_depth_values, lst)\n",
    "plt.xlabel(\"max depth\")\n",
    "plt.ylabel(\"MSE\")\n",
    "\n",
    "plt.title(\"MSE vs max depth\")"
   ]
  },
  {
   "cell_type": "code",
   "execution_count": null,
   "metadata": {},
   "outputs": [],
   "source": [
    "#find the best max_depth value\n",
    "\n",
    "\"\"\"\n",
    "A wrapping function that helps the user decide on what max_depth to use. This function takes as parameters, \n",
    "a training dataframe, a testing dataframe and a list of values of max_depth to try. It returns a dictionary with max_depth \n",
    "as the keys and the training error of the test set. Error is measured by the mean squared error\n",
    "\n",
    "\"\"\""
   ]
  },
  {
   "cell_type": "code",
   "execution_count": null,
   "metadata": {},
   "outputs": [],
   "source": []
  },
  {
   "cell_type": "code",
   "execution_count": null,
   "metadata": {},
   "outputs": [],
   "source": []
  },
  {
   "cell_type": "code",
   "execution_count": null,
   "metadata": {},
   "outputs": [],
   "source": []
  }
 ],
 "metadata": {
  "kernelspec": {
   "display_name": "Python 3",
   "language": "python",
   "name": "python3"
  },
  "language_info": {
   "codemirror_mode": {
    "name": "ipython",
    "version": 3
   },
   "file_extension": ".py",
   "mimetype": "text/x-python",
   "name": "python",
   "nbconvert_exporter": "python",
   "pygments_lexer": "ipython3",
   "version": "3.8.5"
  }
 },
 "nbformat": 4,
 "nbformat_minor": 4
}
