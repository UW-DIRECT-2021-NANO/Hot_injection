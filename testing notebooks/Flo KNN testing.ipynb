{
 "cells": [
  {
   "cell_type": "code",
   "execution_count": 7,
   "metadata": {},
   "outputs": [],
   "source": [
    "import numpy as np\n",
    "import pandas as pd\n",
    "import matplotlib\n",
    "from matplotlib import pyplot as plt\n",
    "\n",
    "import sklearn  \n",
    "from sklearn.datasets import make_regression\n",
    "from sklearn import linear_model, datasets\n",
    "from sklearn.neighbors import KNeighborsRegressor\n",
    "from sklearn.model_selection import train_test_split\n",
    "from sklearn.metrics import r2_score, mean_squared_error, mean_absolute_error\n",
    "\n",
    "from tqdm import tqdm\n",
    "\n",
    "%matplotlib inline\n",
    "matplotlib.rcParams.update({'font.size': 22})"
   ]
  },
  {
   "cell_type": "code",
   "execution_count": 2,
   "metadata": {},
   "outputs": [],
   "source": [
    "df = pd.read_csv(\"data/augmented_data.csv\")"
   ]
  },
  {
   "cell_type": "code",
   "execution_count": 3,
   "metadata": {},
   "outputs": [
    {
     "data": {
      "text/html": [
       "<div>\n",
       "<style scoped>\n",
       "    .dataframe tbody tr th:only-of-type {\n",
       "        vertical-align: middle;\n",
       "    }\n",
       "\n",
       "    .dataframe tbody tr th {\n",
       "        vertical-align: top;\n",
       "    }\n",
       "\n",
       "    .dataframe thead th {\n",
       "        text-align: right;\n",
       "    }\n",
       "</style>\n",
       "<table border=\"1\" class=\"dataframe\">\n",
       "  <thead>\n",
       "    <tr style=\"text-align: right;\">\n",
       "      <th></th>\n",
       "      <th>Unnamed: 0</th>\n",
       "      <th>Unnamed: 0.1</th>\n",
       "      <th>Growth Temp (Celsius)</th>\n",
       "      <th>Metal_mmol (mmol)</th>\n",
       "      <th>Chalcogen_mmol (mmol)</th>\n",
       "      <th>CA_mmol (mmol)</th>\n",
       "      <th>Amines_mmol (mmol)</th>\n",
       "      <th>Phosphines_mmol (mmol)</th>\n",
       "      <th>S_I_amount (g)</th>\n",
       "      <th>S_II_amount (g)</th>\n",
       "      <th>...</th>\n",
       "      <th>x4_liquid parafin</th>\n",
       "      <th>x4_octadecene</th>\n",
       "      <th>x4_phenyl ether</th>\n",
       "      <th>x4_trioctylphosphine oxide</th>\n",
       "      <th>x5_None</th>\n",
       "      <th>x5_phosphinic acid</th>\n",
       "      <th>x5_trioctylphosphine oxide</th>\n",
       "      <th>Diameter_nm</th>\n",
       "      <th>Absorbance max (nm)</th>\n",
       "      <th>PL max (nm)</th>\n",
       "    </tr>\n",
       "  </thead>\n",
       "  <tbody>\n",
       "    <tr>\n",
       "      <th>0</th>\n",
       "      <td>0</td>\n",
       "      <td>0</td>\n",
       "      <td>1.105103</td>\n",
       "      <td>-0.437486</td>\n",
       "      <td>-0.243779</td>\n",
       "      <td>-0.525437</td>\n",
       "      <td>-0.416112</td>\n",
       "      <td>-0.165455</td>\n",
       "      <td>-0.123360</td>\n",
       "      <td>-0.302087</td>\n",
       "      <td>...</td>\n",
       "      <td>0</td>\n",
       "      <td>1</td>\n",
       "      <td>0</td>\n",
       "      <td>0</td>\n",
       "      <td>1</td>\n",
       "      <td>0</td>\n",
       "      <td>0</td>\n",
       "      <td>3.41</td>\n",
       "      <td>566.0</td>\n",
       "      <td>575.0</td>\n",
       "    </tr>\n",
       "    <tr>\n",
       "      <th>1</th>\n",
       "      <td>1</td>\n",
       "      <td>1</td>\n",
       "      <td>-0.062540</td>\n",
       "      <td>-0.472027</td>\n",
       "      <td>-0.436361</td>\n",
       "      <td>-0.305510</td>\n",
       "      <td>-0.498129</td>\n",
       "      <td>-0.375671</td>\n",
       "      <td>-0.241193</td>\n",
       "      <td>-0.302087</td>\n",
       "      <td>...</td>\n",
       "      <td>0</td>\n",
       "      <td>1</td>\n",
       "      <td>0</td>\n",
       "      <td>0</td>\n",
       "      <td>1</td>\n",
       "      <td>0</td>\n",
       "      <td>0</td>\n",
       "      <td>2.50</td>\n",
       "      <td>474.0</td>\n",
       "      <td>617.0</td>\n",
       "    </tr>\n",
       "    <tr>\n",
       "      <th>2</th>\n",
       "      <td>2</td>\n",
       "      <td>2</td>\n",
       "      <td>0.326674</td>\n",
       "      <td>-0.472027</td>\n",
       "      <td>-0.587674</td>\n",
       "      <td>-0.525437</td>\n",
       "      <td>-0.498129</td>\n",
       "      <td>-0.451959</td>\n",
       "      <td>-0.527427</td>\n",
       "      <td>-0.302087</td>\n",
       "      <td>...</td>\n",
       "      <td>0</td>\n",
       "      <td>1</td>\n",
       "      <td>0</td>\n",
       "      <td>0</td>\n",
       "      <td>1</td>\n",
       "      <td>0</td>\n",
       "      <td>0</td>\n",
       "      <td>1.99</td>\n",
       "      <td>450.4</td>\n",
       "      <td>497.0</td>\n",
       "    </tr>\n",
       "    <tr>\n",
       "      <th>3</th>\n",
       "      <td>3</td>\n",
       "      <td>3</td>\n",
       "      <td>0.326674</td>\n",
       "      <td>-0.472027</td>\n",
       "      <td>-0.587674</td>\n",
       "      <td>-0.525437</td>\n",
       "      <td>-0.498129</td>\n",
       "      <td>-0.445602</td>\n",
       "      <td>-0.527427</td>\n",
       "      <td>-0.302087</td>\n",
       "      <td>...</td>\n",
       "      <td>0</td>\n",
       "      <td>1</td>\n",
       "      <td>0</td>\n",
       "      <td>0</td>\n",
       "      <td>1</td>\n",
       "      <td>0</td>\n",
       "      <td>0</td>\n",
       "      <td>2.13</td>\n",
       "      <td>471.6</td>\n",
       "      <td>510.0</td>\n",
       "    </tr>\n",
       "    <tr>\n",
       "      <th>4</th>\n",
       "      <td>4</td>\n",
       "      <td>4</td>\n",
       "      <td>0.326674</td>\n",
       "      <td>-0.472027</td>\n",
       "      <td>-0.587674</td>\n",
       "      <td>-0.525437</td>\n",
       "      <td>-0.498129</td>\n",
       "      <td>-0.445602</td>\n",
       "      <td>-0.527427</td>\n",
       "      <td>-0.302087</td>\n",
       "      <td>...</td>\n",
       "      <td>0</td>\n",
       "      <td>1</td>\n",
       "      <td>0</td>\n",
       "      <td>0</td>\n",
       "      <td>1</td>\n",
       "      <td>0</td>\n",
       "      <td>0</td>\n",
       "      <td>2.27</td>\n",
       "      <td>486.0</td>\n",
       "      <td>517.0</td>\n",
       "    </tr>\n",
       "  </tbody>\n",
       "</table>\n",
       "<p>5 rows × 53 columns</p>\n",
       "</div>"
      ],
      "text/plain": [
       "   Unnamed: 0  Unnamed: 0.1  Growth Temp (Celsius)  Metal_mmol (mmol)  \\\n",
       "0           0             0               1.105103          -0.437486   \n",
       "1           1             1              -0.062540          -0.472027   \n",
       "2           2             2               0.326674          -0.472027   \n",
       "3           3             3               0.326674          -0.472027   \n",
       "4           4             4               0.326674          -0.472027   \n",
       "\n",
       "   Chalcogen_mmol (mmol)  CA_mmol (mmol)  Amines_mmol (mmol)  \\\n",
       "0              -0.243779       -0.525437           -0.416112   \n",
       "1              -0.436361       -0.305510           -0.498129   \n",
       "2              -0.587674       -0.525437           -0.498129   \n",
       "3              -0.587674       -0.525437           -0.498129   \n",
       "4              -0.587674       -0.525437           -0.498129   \n",
       "\n",
       "   Phosphines_mmol (mmol)  S_I_amount (g)  S_II_amount (g)  ...  \\\n",
       "0               -0.165455       -0.123360        -0.302087  ...   \n",
       "1               -0.375671       -0.241193        -0.302087  ...   \n",
       "2               -0.451959       -0.527427        -0.302087  ...   \n",
       "3               -0.445602       -0.527427        -0.302087  ...   \n",
       "4               -0.445602       -0.527427        -0.302087  ...   \n",
       "\n",
       "   x4_liquid parafin  x4_octadecene  x4_phenyl ether  \\\n",
       "0                  0              1                0   \n",
       "1                  0              1                0   \n",
       "2                  0              1                0   \n",
       "3                  0              1                0   \n",
       "4                  0              1                0   \n",
       "\n",
       "   x4_trioctylphosphine oxide  x5_None  x5_phosphinic acid  \\\n",
       "0                           0        1                   0   \n",
       "1                           0        1                   0   \n",
       "2                           0        1                   0   \n",
       "3                           0        1                   0   \n",
       "4                           0        1                   0   \n",
       "\n",
       "   x5_trioctylphosphine oxide  Diameter_nm  Absorbance max (nm)  PL max (nm)  \n",
       "0                           0         3.41                566.0        575.0  \n",
       "1                           0         2.50                474.0        617.0  \n",
       "2                           0         1.99                450.4        497.0  \n",
       "3                           0         2.13                471.6        510.0  \n",
       "4                           0         2.27                486.0        517.0  \n",
       "\n",
       "[5 rows x 53 columns]"
      ]
     },
     "execution_count": 3,
     "metadata": {},
     "output_type": "execute_result"
    }
   ],
   "source": [
    "df.head()"
   ]
  },
  {
   "cell_type": "code",
   "execution_count": 13,
   "metadata": {},
   "outputs": [],
   "source": [
    "#Separate X and y data\n",
    "X = df.drop(columns =['Unnamed: 0','Unnamed: 0.1','Diameter_nm','Absorbance max (nm)', 'PL max (nm)'], \n",
    "                  inplace = False, axis = 1) #keep synthesis parameters that matter\n",
    "y_size = df['Diameter_nm'].values #will predict diameter\n",
    "y_abs = df['Absorbance max (nm)'].values #will predict absorbance\n",
    "y_PL = df['PL max (nm)'].values #will predict PL"
   ]
  },
  {
   "cell_type": "markdown",
   "metadata": {},
   "source": [
    "# Size prediction"
   ]
  },
  {
   "cell_type": "code",
   "execution_count": 14,
   "metadata": {},
   "outputs": [],
   "source": [
    "#split dataset into train and test set\n",
    "X_train, X_test, y_size_train, y_size_test = train_test_split(X, y_size, test_size=0.25, random_state=8, shuffle=True)"
   ]
  },
  {
   "cell_type": "code",
   "execution_count": null,
   "metadata": {
    "scrolled": true
   },
   "outputs": [],
   "source": [
    "for neighbors in np.arange (1, 100, 1):\n",
    "    knn = KNeighborsRegressor(n_neighbors=neighbors)\n",
    "    knn.fit(X_train,y_size_train)\n",
    "    y_size_predict = knn.predict(X_test)\n",
    "    MSE = mean_squared_error(y_size_test, y_size_predict)\n",
    "    R2 = r2_score(y_size_test, y_size_predict)\n",
    "    print(\"MSE\", MSE, \"R2\", R2)    \n"
   ]
  },
  {
   "cell_type": "code",
   "execution_count": 36,
   "metadata": {},
   "outputs": [
    {
     "name": "stdout",
     "output_type": "stream",
     "text": [
      "MSE 0.6989643801694915 R2 0.6139151743393838\n"
     ]
    }
   ],
   "source": [
    "knn = KNeighborsRegressor(n_neighbors=1)\n",
    "knn.fit(X_train,y_size_train)\n",
    "y_size_predict = knn.predict(X_test)\n",
    "MSE = mean_squared_error(y_size_test, y_size_predict)\n",
    "R2 = r2_score(y_size_test, y_size_predict)\n",
    "\n",
    "print(\"MSE\", MSE, \"R2\", R2)"
   ]
  },
  {
   "cell_type": "code",
   "execution_count": 34,
   "metadata": {},
   "outputs": [
    {
     "data": {
      "image/png": "[encoded data removed]",
      "text/plain": [
       "<Figure size 432x288 with 1 Axes>"
      ]
     },
     "metadata": {
      "needs_background": "light"
     },
     "output_type": "display_data"
    }
   ],
   "source": [
    "plt.figure()\n",
    "plt.title(\"\")\n",
    "plt.plot(y_size_test, y_size_predict, 'o')\n",
    "plt.xlabel('Observed Values (nm)')\n",
    "plt.ylabel('Predicted Values (nm)')\n",
    "plt.show()"
   ]
  },
  {
   "cell_type": "markdown",
   "metadata": {},
   "source": [
    "# Abs prediction"
   ]
  },
  {
   "cell_type": "code",
   "execution_count": 17,
   "metadata": {},
   "outputs": [],
   "source": [
    "#split dataset into train and test set\n",
    "X_train, X_test, y_abs_train, y_abs_test = train_test_split(X, y_abs, test_size=0.25, random_state=8, shuffle=True)"
   ]
  },
  {
   "cell_type": "code",
   "execution_count": 45,
   "metadata": {},
   "outputs": [
    {
     "name": "stdout",
     "output_type": "stream",
     "text": [
      "MSE 1261.5064406779659 R2 0.7534550122256516\n"
     ]
    }
   ],
   "source": [
    "knn = KNeighborsRegressor(n_neighbors=1)\n",
    "knn.fit(X_train,y_abs_train)\n",
    "y_abs_predict = knn.predict(X_test)\n",
    "MSE = mean_squared_error(y_abs_test, y_abs_predict)\n",
    "R2 = r2_score(y_abs_test, y_abs_predict)\n",
    "\n",
    "print(\"MSE\", MSE, \"R2\", R2)"
   ]
  },
  {
   "cell_type": "code",
   "execution_count": null,
   "metadata": {
    "scrolled": true
   },
   "outputs": [],
   "source": [
    "for neighbors in np.arange (1, 100, 1):\n",
    "    knn = KNeighborsRegressor(n_neighbors=neighbors)\n",
    "    knn.fit(X_train,y_abs_train)\n",
    "    y_abs_predict = knn.predict(X_test)\n",
    "    MSE = mean_squared_error(y_abs_test, y_abs_predict)\n",
    "    R2 = r2_score(y_abs_test, y_abs_predict)\n",
    "    print(\"MSE\", MSE, \"R2\", R2)    \n"
   ]
  },
  {
   "cell_type": "code",
   "execution_count": 46,
   "metadata": {},
   "outputs": [
    {
     "data": {
      "image/png": "[encoded data removed]",
      "text/plain": [
       "<Figure size 432x288 with 1 Axes>"
      ]
     },
     "metadata": {
      "needs_background": "light"
     },
     "output_type": "display_data"
    }
   ],
   "source": [
    "plt.figure()\n",
    "plt.title(\"\")\n",
    "plt.plot(y_abs_test, y_abs_predict, 'o')\n",
    "plt.xlabel('Observed Values (nm)')\n",
    "plt.ylabel('Predicted Values (nm)')\n",
    "plt.show()"
   ]
  },
  {
   "cell_type": "markdown",
   "metadata": {},
   "source": [
    "# PL prediction"
   ]
  },
  {
   "cell_type": "code",
   "execution_count": 19,
   "metadata": {},
   "outputs": [],
   "source": [
    "#split dataset into train and test set\n",
    "X_train, X_test, y_PL_train, y_PL_test = train_test_split(X, y_PL, test_size=0.25, random_state=8, shuffle=True)"
   ]
  },
  {
   "cell_type": "code",
   "execution_count": 59,
   "metadata": {
    "scrolled": true
   },
   "outputs": [
    {
     "name": "stdout",
     "output_type": "stream",
     "text": [
      "MSE 1091.4261501651333 R2 0.37630465115105294\n"
     ]
    }
   ],
   "source": [
    "knn = KNeighborsRegressor(n_neighbors=1)\n",
    "knn.fit(X_train,y_PL_train)\n",
    "y_PL_predict = knn.predict(X_test)\n",
    "MSE = mean_squared_error(y_PL_test, y_PL_predict)\n",
    "R2 = r2_score(y_PL_test, y_PL_predict)\n",
    "\n",
    "print(\"MSE\", MSE, \"R2\", R2)"
   ]
  },
  {
   "cell_type": "code",
   "execution_count": null,
   "metadata": {
    "scrolled": true
   },
   "outputs": [],
   "source": [
    "for neighbors in np.arange (1, 100, 1):\n",
    "    knn = KNeighborsRegressor(n_neighbors=neighbors)\n",
    "    knn.fit(X_train,y_PL_train)\n",
    "    y_PL_predict = knn.predict(X_test)\n",
    "    MSE = mean_squared_error(y_PL_test, y_PL_predict)\n",
    "    R2 = r2_score(y_PL_test, y_PL_predict)\n",
    "    print(\"MSE\", MSE, \"R2\", R2)    \n"
   ]
  },
  {
   "cell_type": "code",
   "execution_count": null,
   "metadata": {},
   "outputs": [],
   "source": []
  }
 ],
 "metadata": {
  "kernelspec": {
   "display_name": "Python 3",
   "language": "python",
   "name": "python3"
  },
  "language_info": {
   "codemirror_mode": {
    "name": "ipython",
    "version": 3
   },
   "file_extension": ".py",
   "mimetype": "text/x-python",
   "name": "python",
   "nbconvert_exporter": "python",
   "pygments_lexer": "ipython3",
   "version": "3.8.5"
  }
 },
 "nbformat": 4,
 "nbformat_minor": 4
}
